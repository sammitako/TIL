{
 "cells": [
  {
   "cell_type": "markdown",
   "metadata": {},
   "source": [
    "# Classical Linear Regression Model\n",
    "\n",
    "## [예제] 공부시간이 길수록 시험점수가 높다\n",
    " •  입력 Feature(독립변수)가 한 개(공부시간)이므로 단순(simple) 선형 회귀모델 사용 <br>\n",
    " •  해당 데이터를 가장 잘 표현하는 일차직선? W(weight)와 b(bias)를 찾아보자."
   ]
  },
  {
   "cell_type": "code",
   "execution_count": 10,
   "metadata": {
    "scrolled": false
   },
   "outputs": [
    {
     "data": {
      "text/html": [
       "<div>\n",
       "<style scoped>\n",
       "    .dataframe tbody tr th:only-of-type {\n",
       "        vertical-align: middle;\n",
       "    }\n",
       "\n",
       "    .dataframe tbody tr th {\n",
       "        vertical-align: top;\n",
       "    }\n",
       "\n",
       "    .dataframe thead th {\n",
       "        text-align: right;\n",
       "    }\n",
       "</style>\n",
       "<table border=\"1\" class=\"dataframe\">\n",
       "  <thead>\n",
       "    <tr style=\"text-align: right;\">\n",
       "      <th></th>\n",
       "      <th>공부시간(x)</th>\n",
       "      <th>시험점수(t)</th>\n",
       "    </tr>\n",
       "  </thead>\n",
       "  <tbody>\n",
       "    <tr>\n",
       "      <th>0</th>\n",
       "      <td>1</td>\n",
       "      <td>5</td>\n",
       "    </tr>\n",
       "    <tr>\n",
       "      <th>1</th>\n",
       "      <td>2</td>\n",
       "      <td>7</td>\n",
       "    </tr>\n",
       "    <tr>\n",
       "      <th>2</th>\n",
       "      <td>3</td>\n",
       "      <td>20</td>\n",
       "    </tr>\n",
       "    <tr>\n",
       "      <th>3</th>\n",
       "      <td>4</td>\n",
       "      <td>31</td>\n",
       "    </tr>\n",
       "    <tr>\n",
       "      <th>4</th>\n",
       "      <td>7</td>\n",
       "      <td>40</td>\n",
       "    </tr>\n",
       "  </tbody>\n",
       "</table>\n",
       "</div>"
      ],
      "text/plain": [
       "   공부시간(x)  시험점수(t)\n",
       "0        1        5\n",
       "1        2        7\n",
       "2        3       20\n",
       "3        4       31\n",
       "4        7       40"
      ]
     },
     "metadata": {},
     "output_type": "display_data"
    },
    {
     "data": {
      "image/png": "[encoded data removed]",
      "text/plain": [
       "<Figure size 432x288 with 1 Axes>"
      ]
     },
     "metadata": {
      "needs_background": "light"
     },
     "output_type": "display_data"
    }
   ],
   "source": [
    "import numpy as np\n",
    "import pandas as pd\n",
    "import matplotlib.pyplot as plt\n",
    "\n",
    "my_dict = {\n",
    "    '공부시간(x)': [1,2,3,4,7,8,10,12,13,14,15,18,20,25,28,30], # 독립변수 1개\n",
    "    '시험점수(t)': [5,7,20,31,40,44,45,46,49,60,70,82,85,91,97,99]\n",
    "}\n",
    "df = pd.DataFrame(my_dict)\n",
    "display(df.head())\n",
    "\n",
    "plt.scatter(df['공부시간(x)'], df['시험점수(t)']) # x축, y축\n",
    "\n",
    "# Linear Regression Model에 따른 임의의 직선 그래프\n",
    "plt.plot(df['공부시간(x)'], df['공부시간(x)']*2 + 3, color='r') # x축, y축(y=2x+3)\n",
    "plt.plot(df['공부시간(x)'], df['공부시간(x)']*5 - 7, color='g') \n",
    "plt.plot(df['공부시간(x)'], df['공부시간(x)']*1 + 8, color='b') \n",
    "plt.plot(df['공부시간(x)'], df['공부시간(x)']*4 - 10, color='magenta') \n",
    "\n",
    "plt.show()"
   ]
  },
  {
   "cell_type": "markdown",
   "metadata": {},
   "source": [
    "## 주어진 데이터에 가장 잘 맞는 직선(Linear Regression Model)을 찾아보자."
   ]
  },
  {
   "cell_type": "code",
   "execution_count": 12,
   "metadata": {},
   "outputs": [
    {
     "data": {
      "text/plain": [
       "[<matplotlib.lines.Line2D at 0x7fefd8ed4310>]"
      ]
     },
     "execution_count": 12,
     "metadata": {},
     "output_type": "execute_result"
    },
    {
     "data": {
      "image/png": "[encoded data removed]",
      "text/plain": [
       "<Figure size 432x288 with 1 Axes>"
      ]
     },
     "metadata": {
      "needs_background": "light"
     },
     "output_type": "display_data"
    }
   ],
   "source": [
    "plt.scatter(df['공부시간(x)'], df['시험점수(t)'])\n",
    "\n",
    "# Hypothesis\n",
    "plt.plot(df['공부시간(x)'], df['공부시간(x)']*5 - 10, color='magenta') "
   ]
  },
  {
   "cell_type": "markdown",
   "metadata": {},
   "source": [
    "## Simple Linear Regression\n",
    "Python 코드로 작성하려니 너무 힘들다...😢<br>\n",
    "Tensorflow를 이용하여 다시 구현해보자."
   ]
  },
  {
   "cell_type": "code",
   "execution_count": 2,
   "metadata": {},
   "outputs": [
    {
     "name": "stdout",
     "output_type": "stream",
     "text": [
      "Once deleted, variables cannot be recovered. Proceed (y/[n])? y\n"
     ]
    }
   ],
   "source": [
    "%reset\n",
    "\n",
    "import numpy as np\n",
    "\n",
    "\n",
    "# 0. 수치미분 코드\n",
    "def numerical_derivative(f, x):\n",
    "    # f: loss function\n",
    "    # x: W, b\n",
    "    \n",
    "    delta_x = 1e-4\n",
    "    derivative_x = np.zeros_like(x) \n",
    "    \n",
    "    it = np.nditer(x, flags=['multi_index'])\n",
    "    \n",
    "    while not it.finished: \n",
    "        idx = it.multi_index \n",
    "        print('현재의 idx: {}'.format(idx)) \n",
    "\n",
    "        tmp = x[idx]                        \n",
    "        print('현재의 tmp: {}'.format(tmp)) # 1.0 # 2.0\n",
    "        \n",
    "        # x에 대한 편미분\n",
    "        x[idx] = tmp + delta_x \n",
    "        fx_plus_delta = f(x) \n",
    "        \n",
    "        # 중앙차분 미분 준비\n",
    "        x[idx] = tmp - delta_x\n",
    "        fx_minus_delta = f(x) \n",
    "        \n",
    "        # 중앙차분\n",
    "        derivative_x[idx] = (fx_plus_delta - fx_minus_delta) / (2 * delta_x)\n",
    "        \n",
    "        # 두번째 독립변수에 대해 편미분 시행을 위해 원래 상태로 복구\n",
    "        x[idx] = tmp \n",
    "    \n",
    "        it.iternext() # 다음 iterator, 다음 칸으로 넘어감\n",
    "        \n",
    "    return derivative_x\n",
    "\n",
    "# 미분하려는 다변수함수\n",
    "def my_func(input_data):\n",
    "    x = input_data[0]\n",
    "    y = input_data[1]\n",
    "    \n",
    "    return 2*x + 3*x*y + np.power(y,3)\n",
    "\n",
    "\n",
    "param = np.array([1.0, 2.0]) \n",
    "result = numerical_derivative(my_func, param) \n",
    "print('미분한 결과: {}'.format(result))\n",
    "\n",
    "\n",
    "\n",
    "# 1. Training Data Set\n",
    "\n",
    "# 입력 데이터, Lable\n",
    "# View(복사값): 1차원 벡터 -> 5행 1열\n",
    "x_data = np.array([1,2,3,4,5]).reshape(5,1) \n",
    "t_data = np.array([3,5,7,9,11]).reshape(5,1)\n",
    "\n",
    "# 2. Linear Regression Model\n",
    "\n",
    "#(2-1) Weight, bias 정의\n",
    "W = np.random.rand(1,1) # 초기값(랜덤) - 1행 1열\n",
    "b = np.random.rand(1) # 초기값(랜덤) - 스칼라\n",
    "\n",
    "#(2-2). 학습종료 후 임의의 데이터에 대해서 예측값을 알아오는 함수\n",
    "def predict(x):\n",
    "    # Predict Model = Hypothesis\n",
    "    y = np.dot(x, W) + b # Y = X dot W + b \n",
    "    \n",
    "    return y\n",
    "\n",
    "# 3. Loss Function 정의\n",
    "def loss_func():\n",
    "    pass\n"
   ]
  },
  {
   "cell_type": "markdown",
   "metadata": {},
   "source": [
    "## Tensorflow를 이용한 Simple Linear Regression \n",
    "\n",
    "### 들어가기전, Tensorflow 연습"
   ]
  },
  {
   "cell_type": "code",
   "execution_count": 2,
   "metadata": {},
   "outputs": [
    {
     "name": "stdout",
     "output_type": "stream",
     "text": [
      "1.15.0\n"
     ]
    }
   ],
   "source": [
    "import tensorflow as tf\n",
    "print(tf.__version__)"
   ]
  },
  {
   "cell_type": "markdown",
   "metadata": {},
   "source": [
    "#### 문자열"
   ]
  },
  {
   "cell_type": "code",
   "execution_count": 3,
   "metadata": {},
   "outputs": [
    {
     "name": "stdout",
     "output_type": "stream",
     "text": [
      "Tensor(\"Const:0\", shape=(), dtype=string)\n",
      "b'Hello World'\n",
      "Hello World\n"
     ]
    }
   ],
   "source": [
    "node1 = tf.constant('Hello World') # 상수노드 생성\n",
    "print(node1) # 노드 안에 Tensor(data)가 들어가 있음\n",
    "\n",
    "# 그래프를 실행하기 위해서 1.x 버전에서는 session이 필요\n",
    "# session: 그래프 안의 특정 노드를 실행시킴\n",
    "sess = tf.Session()\n",
    "print(sess.run(node1)) # node1 - 데이터 입출력 작업 실행 # b: bite string\n",
    "print(sess.run(node1).decode()) # 문자열"
   ]
  },
  {
   "cell_type": "markdown",
   "metadata": {},
   "source": [
    "#### 수치연산"
   ]
  },
  {
   "cell_type": "code",
   "execution_count": 16,
   "metadata": {},
   "outputs": [
    {
     "name": "stdout",
     "output_type": "stream",
     "text": [
      "40.0\n",
      "[40.0, 10.0]\n"
     ]
    }
   ],
   "source": [
    "node1 = tf.constant(10, dtype=tf.float32)\n",
    "node2 = tf.constant(30, dtype=tf.float32)\n",
    "\n",
    "node3 = node1 + node2\n",
    "\n",
    "# node3 실행\n",
    "sess = tf.Session()\n",
    "print(sess.run(node3))\n",
    "\n",
    "# 여러개 노드 실행\n",
    "print(sess.run([node3, node1]))\n"
   ]
  }
 ],
 "metadata": {
  "kernelspec": {
   "display_name": "Python [conda env:data_env] *",
   "language": "python",
   "name": "conda-env-data_env-py"
  },
  "language_info": {
   "codemirror_mode": {
    "name": "ipython",
    "version": 3
   },
   "file_extension": ".py",
   "mimetype": "text/x-python",
   "name": "python",
   "nbconvert_exporter": "python",
   "pygments_lexer": "ipython3",
   "version": "3.7.9"
  }
 },
 "nbformat": 4,
 "nbformat_minor": 4
}
