{
 "cells": [
  {
   "cell_type": "markdown",
   "id": "warming-rings",
   "metadata": {},
   "source": [
    "# Tensorflow 2.x - Linear Regression"
   ]
  },
  {
   "cell_type": "code",
   "execution_count": 16,
   "id": "damaged-screening",
   "metadata": {},
   "outputs": [],
   "source": [
    "import numpy as np\n",
    "import pandas as pd\n",
    "import tensorflow as tf\n",
    "import matplotlib.pyplot as plt\n",
    "import warnings\n",
    "\n",
    "from scipy import stats\n",
    "from sklearn.preprocessing import MinMaxScaler\n",
    "\n",
    "from sklearn.neighbors import KNeighborsRegressor\n",
    "\n",
    "warnings.filterwarnings(action='ignore')"
   ]
  },
  {
   "cell_type": "code",
   "execution_count": 50,
   "id": "subsequent-plenty",
   "metadata": {},
   "outputs": [
    {
     "data": {
      "text/html": [
       "<div>\n",
       "<style scoped>\n",
       "    .dataframe tbody tr th:only-of-type {\n",
       "        vertical-align: middle;\n",
       "    }\n",
       "\n",
       "    .dataframe tbody tr th {\n",
       "        vertical-align: top;\n",
       "    }\n",
       "\n",
       "    .dataframe thead th {\n",
       "        text-align: right;\n",
       "    }\n",
       "</style>\n",
       "<table border=\"1\" class=\"dataframe\">\n",
       "  <thead>\n",
       "    <tr style=\"text-align: right;\">\n",
       "      <th></th>\n",
       "      <th>Ozone</th>\n",
       "      <th>Solar.R</th>\n",
       "      <th>Wind</th>\n",
       "      <th>Temp</th>\n",
       "      <th>Month</th>\n",
       "      <th>Day</th>\n",
       "    </tr>\n",
       "  </thead>\n",
       "  <tbody>\n",
       "    <tr>\n",
       "      <th>0</th>\n",
       "      <td>41.0</td>\n",
       "      <td>190.0</td>\n",
       "      <td>7.4</td>\n",
       "      <td>67</td>\n",
       "      <td>5</td>\n",
       "      <td>1</td>\n",
       "    </tr>\n",
       "    <tr>\n",
       "      <th>1</th>\n",
       "      <td>36.0</td>\n",
       "      <td>118.0</td>\n",
       "      <td>8.0</td>\n",
       "      <td>72</td>\n",
       "      <td>5</td>\n",
       "      <td>2</td>\n",
       "    </tr>\n",
       "    <tr>\n",
       "      <th>2</th>\n",
       "      <td>12.0</td>\n",
       "      <td>149.0</td>\n",
       "      <td>12.6</td>\n",
       "      <td>74</td>\n",
       "      <td>5</td>\n",
       "      <td>3</td>\n",
       "    </tr>\n",
       "    <tr>\n",
       "      <th>3</th>\n",
       "      <td>18.0</td>\n",
       "      <td>313.0</td>\n",
       "      <td>11.5</td>\n",
       "      <td>62</td>\n",
       "      <td>5</td>\n",
       "      <td>4</td>\n",
       "    </tr>\n",
       "    <tr>\n",
       "      <th>4</th>\n",
       "      <td>NaN</td>\n",
       "      <td>NaN</td>\n",
       "      <td>14.3</td>\n",
       "      <td>56</td>\n",
       "      <td>5</td>\n",
       "      <td>5</td>\n",
       "    </tr>\n",
       "  </tbody>\n",
       "</table>\n",
       "</div>"
      ],
      "text/plain": [
       "   Ozone  Solar.R  Wind  Temp  Month  Day\n",
       "0   41.0    190.0   7.4    67      5    1\n",
       "1   36.0    118.0   8.0    72      5    2\n",
       "2   12.0    149.0  12.6    74      5    3\n",
       "3   18.0    313.0  11.5    62      5    4\n",
       "4    NaN      NaN  14.3    56      5    5"
      ]
     },
     "metadata": {},
     "output_type": "display_data"
    },
    {
     "data": {
      "text/plain": [
       "(153, 6)"
      ]
     },
     "metadata": {},
     "output_type": "display_data"
    },
    {
     "data": {
      "text/html": [
       "<div>\n",
       "<style scoped>\n",
       "    .dataframe tbody tr th:only-of-type {\n",
       "        vertical-align: middle;\n",
       "    }\n",
       "\n",
       "    .dataframe tbody tr th {\n",
       "        vertical-align: top;\n",
       "    }\n",
       "\n",
       "    .dataframe thead th {\n",
       "        text-align: right;\n",
       "    }\n",
       "</style>\n",
       "<table border=\"1\" class=\"dataframe\">\n",
       "  <thead>\n",
       "    <tr style=\"text-align: right;\">\n",
       "      <th></th>\n",
       "      <th>Solar.R</th>\n",
       "      <th>Wind</th>\n",
       "      <th>Temp</th>\n",
       "    </tr>\n",
       "  </thead>\n",
       "  <tbody>\n",
       "    <tr>\n",
       "      <th>0</th>\n",
       "      <td>190.0</td>\n",
       "      <td>7.4</td>\n",
       "      <td>67</td>\n",
       "    </tr>\n",
       "    <tr>\n",
       "      <th>1</th>\n",
       "      <td>118.0</td>\n",
       "      <td>8.0</td>\n",
       "      <td>72</td>\n",
       "    </tr>\n",
       "    <tr>\n",
       "      <th>2</th>\n",
       "      <td>149.0</td>\n",
       "      <td>12.6</td>\n",
       "      <td>74</td>\n",
       "    </tr>\n",
       "    <tr>\n",
       "      <th>3</th>\n",
       "      <td>313.0</td>\n",
       "      <td>11.5</td>\n",
       "      <td>62</td>\n",
       "    </tr>\n",
       "    <tr>\n",
       "      <th>4</th>\n",
       "      <td>NaN</td>\n",
       "      <td>14.3</td>\n",
       "      <td>56</td>\n",
       "    </tr>\n",
       "  </tbody>\n",
       "</table>\n",
       "</div>"
      ],
      "text/plain": [
       "   Solar.R  Wind  Temp\n",
       "0    190.0   7.4    67\n",
       "1    118.0   8.0    72\n",
       "2    149.0  12.6    74\n",
       "3    313.0  11.5    62\n",
       "4      NaN  14.3    56"
      ]
     },
     "metadata": {},
     "output_type": "display_data"
    },
    {
     "data": {
      "text/plain": [
       "0    41.0\n",
       "1    36.0\n",
       "2    12.0\n",
       "3    18.0\n",
       "4     NaN\n",
       "Name: Ozone, dtype: float64"
      ]
     },
     "metadata": {},
     "output_type": "display_data"
    }
   ],
   "source": [
    "df = pd.read_csv('data/ozone.csv')\n",
    "display(df.head(), df.shape)\n",
    "\n",
    "x_data = df[['Solar.R', 'Wind', 'Temp']] # 독립변수\n",
    "t_data = df['Ozone'] # 종속변수\n",
    "\n",
    "display(x_data.head())\n",
    "display(t_data.head())"
   ]
  },
  {
   "cell_type": "markdown",
   "id": "mature-cathedral",
   "metadata": {},
   "source": [
    "## 데이터 전처리\n",
    "### 1. 독립변수에 대한 결측치 처리"
   ]
  },
  {
   "cell_type": "code",
   "execution_count": 51,
   "id": "brazilian-windsor",
   "metadata": {
    "scrolled": true
   },
   "outputs": [
    {
     "name": "stdout",
     "output_type": "stream",
     "text": [
      "Solar.R    7\n",
      "Wind       0\n",
      "Temp       0\n",
      "dtype: int64\n"
     ]
    },
    {
     "data": {
      "text/plain": [
       "Solar.R    0\n",
       "Wind       0\n",
       "Temp       0\n",
       "dtype: int64"
      ]
     },
     "metadata": {},
     "output_type": "display_data"
    }
   ],
   "source": [
    "# 결측치 확인\n",
    "print(x_data.isnull().sum())\n",
    "\n",
    "# 중앙값으로 대체\n",
    "for col in x_data.columns: # Solar, Wind, Temp\n",
    "    col_median = np.nanmedian(x_data[col]) # 해당 컬럼의 중앙값\n",
    "    x_data[col].loc[x_data[col].isnull()] = col_median\n",
    "\n",
    "display(x_data.isnull().sum())"
   ]
  },
  {
   "cell_type": "markdown",
   "id": "solar-monte",
   "metadata": {},
   "source": [
    "### 2. 독립변수에 대한 이상치 처리"
   ]
  },
  {
   "cell_type": "code",
   "execution_count": 52,
   "id": "hazardous-sellers",
   "metadata": {},
   "outputs": [
    {
     "data": {
      "image/png": "[encoded data removed]",
      "text/plain": [
       "<Figure size 432x288 with 3 Axes>"
      ]
     },
     "metadata": {
      "needs_background": "light"
     },
     "output_type": "display_data"
    }
   ],
   "source": [
    "# 이상치 확인\n",
    "fig = plt.figure()\n",
    "fig_1 = fig.add_subplot(1,3,1)\n",
    "fig_2 = fig.add_subplot(1,3,2)\n",
    "fig_3 = fig.add_subplot(1,3,3)\n",
    "\n",
    "fig_1.set_title('Solar')\n",
    "fig_1.boxplot(x_data['Solar.R'])\n",
    "fig_2.set_title('Wind')\n",
    "fig_2.boxplot(x_data['Wind'])\n",
    "fig_3.set_title('Temp')\n",
    "fig_3.boxplot(x_data['Temp'])\n",
    "\n",
    "fig.tight_layout()\n",
    "plt.show()"
   ]
  },
  {
   "cell_type": "code",
   "execution_count": 42,
   "id": "reserved-contact",
   "metadata": {},
   "outputs": [
    {
     "name": "stdout",
     "output_type": "stream",
     "text": [
      "198.6013986013986\n",
      "9.820279720279721\n",
      "78.75524475524476\n"
     ]
    }
   ],
   "source": [
    "# 평균값으로 대체\n",
    "zscore_threshold = 1.8 # z-score outlier 임계값\n",
    "\n",
    "for col in x_data.columns: # Solar, Wind, Temp\n",
    "    outlier = x_data[col][(np.abs(stats.zscore(x_data[col])) > zscore_threshold)]\n",
    "    col_mean = np.mean(x_data.loc[~x_data[col].isin(outlier), col]) \n",
    "    print(col_mean) # 이상치를 제외한 각 컬럼에 대한 평균값\n",
    "    \n",
    "    # 이상치 대체\n",
    "    x_data.loc[x_data[col].isin(outlier), col] = col_mean "
   ]
  },
  {
   "cell_type": "markdown",
   "id": "charged-amazon",
   "metadata": {},
   "source": [
    "### 3. 종속변수에 대한 이상치 처리"
   ]
  },
  {
   "cell_type": "code",
   "execution_count": 59,
   "id": "described-sessions",
   "metadata": {},
   "outputs": [
    {
     "data": {
      "image/png": "[encoded data removed]",
      "text/plain": [
       "<Figure size 432x288 with 1 Axes>"
      ]
     },
     "metadata": {
      "needs_background": "light"
     },
     "output_type": "display_data"
    },
    {
     "name": "stdout",
     "output_type": "stream",
     "text": [
      "42.12931034482759\n"
     ]
    }
   ],
   "source": [
    "# 이상치 확인\n",
    "plt.boxplot(t_data.dropna())\n",
    "plt.title('Ozone')\n",
    "plt.show()\n",
    "\n",
    "# 평균값으로 대체\n",
    "zscore_threshold = 1.8\n",
    "outlier = t_data[(np.abs(stats.zscore(t_data)) > zscore_threshold)] \n",
    "col_mean = np.mean(t_data[~t_data.isin(outlier)]) \n",
    "print(col_mean)\n",
    "\n",
    "t_data[t_data.isin(outlier)] = col_mean "
   ]
  },
  {
   "cell_type": "markdown",
   "id": "mobile-polls",
   "metadata": {},
   "source": [
    "### 4. 정규화 진행"
   ]
  },
  {
   "cell_type": "code",
   "execution_count": 60,
   "id": "civic-senator",
   "metadata": {},
   "outputs": [],
   "source": [
    "# 독립변수 정규화\n",
    "scaler_x = MinMaxScaler()\n",
    "scaler_x.fit(x_data.values) # ndarray 2차원 행렬\n",
    "x_data_norm = scaler_x.transform(x_data.values)\n",
    "\n",
    "\n",
    "# 종속변수 정규화\n",
    "scaler_t = MinMaxScaler()\n",
    "scaler_t.fit(t_data.values.reshape(-1,1)) # (나중에 행렬곱 연산을 위해) 1차원 벡터를 2차원 행렬로 변환 \n",
    "t_data_norm = scaler_t.transform(t_data.values.reshape(-1,1)).ravel() # (sklearn 인자로 사용하기 위해) 다시 1차원 벡터로 변환"
   ]
  },
  {
   "cell_type": "markdown",
   "id": "dress-calgary",
   "metadata": {},
   "source": [
    "### 5. 종속변수에 대한 결측치 처리"
   ]
  },
  {
   "cell_type": "code",
   "execution_count": 61,
   "id": "earlier-teddy",
   "metadata": {},
   "outputs": [],
   "source": [
    "# KNN 학습에 사용될 데이터\n",
    "x_data_train_norm = x_data_norm[~np.isnan(t_data_norm)] \n",
    "t_data_train_norm = t_data_norm[~np.isnan(t_data_norm)]\n",
    "\n",
    "# Model\n",
    "knn_regressor = KNeighborsRegressor(n_neighbors=2)\n",
    "knn_regressor.fit(x_data_train_norm, t_data_train_norm)\n",
    "\n",
    "# Prediction\n",
    "# 종속변수가 NaN인 독립변수에 대한 종속변수 예측\n",
    "knn_predict = knn_regressor.predict(x_data_norm[np.isnan(t_data_norm)])\n",
    "\n",
    "# 종속변수의 결측치를 예측값으로 대체\n",
    "t_data_norm[np.isnan(t_data_norm)] = knn_predict"
   ]
  },
  {
   "cell_type": "markdown",
   "id": "younger-there",
   "metadata": {},
   "source": [
    "## Prediction"
   ]
  },
  {
   "cell_type": "code",
   "execution_count": 62,
   "id": "quarterly-shelf",
   "metadata": {},
   "outputs": [],
   "source": [
    "test_data = [[310, 15, 80]]\n",
    "\n",
    "# test_data 정규화\n",
    "result = scaler_x.transform(test_data)"
   ]
  },
  {
   "cell_type": "markdown",
   "id": "suburban-grade",
   "metadata": {},
   "source": [
    "## Scikit-learn"
   ]
  },
  {
   "cell_type": "code",
   "execution_count": 63,
   "id": "surprised-shoulder",
   "metadata": {},
   "outputs": [
    {
     "name": "stdout",
     "output_type": "stream",
     "text": [
      "sklearn 예측값: [[38.48758115]]\n"
     ]
    }
   ],
   "source": [
    "from sklearn.linear_model import LinearRegression\n",
    "\n",
    "model = LinearRegression()\n",
    "model.fit(x_data_norm, t_data_norm)\n",
    "\n",
    "# prediction\n",
    "sk_result = model.predict(result) # 1차원\n",
    "print('sklearn 예측값: {}'.format(scaler_t.inverse_transform(sk_result.reshape(-1,1)))) # inverse_transform(2차원)"
   ]
  },
  {
   "cell_type": "markdown",
   "id": "valued-norway",
   "metadata": {},
   "source": [
    "## Keras"
   ]
  },
  {
   "cell_type": "code",
   "execution_count": 64,
   "id": "prescription-nursery",
   "metadata": {},
   "outputs": [
    {
     "name": "stdout",
     "output_type": "stream",
     "text": [
      "keras 예측값: [[38.61291]]\n"
     ]
    }
   ],
   "source": [
    "from tensorflow.keras.models import Sequential\n",
    "from tensorflow.keras.layers import Flatten, Dense\n",
    "from tensorflow.keras.optimizers import SGD\n",
    "\n",
    "# Keras Model\n",
    "keras_model = Sequential()\n",
    "\n",
    "# Layers(W, b)\n",
    "keras_model.add(Flatten(input_shape=(3,))) # 데이터 1개의 shape, 입력으로 들어오는 데이터를 1차원으로 변경\n",
    "keras_model.add(Dense(1, activation='linear')) # Linear Regression\n",
    "\n",
    "# Optimizer\n",
    "keras_model.compile(optimizer=SGD(learning_rate=1e-2), loss='mse')\n",
    "\n",
    "# Learning\n",
    "keras_model.fit(x_data_norm, t_data_norm,\n",
    "                epochs=5000, verbose=0)\n",
    "\n",
    "# Prediction\n",
    "keras_result = keras_model.predict(scaler_x.transform(test_data))\n",
    "print('keras 예측값: {}'.format(scaler_t.inverse_transform(keras_result.reshape(-1,1)))) # inverse_transform(2차원)"
   ]
  },
  {
   "cell_type": "markdown",
   "id": "animal-indonesia",
   "metadata": {},
   "source": [
    "# Tensorflow 2.x - Logistic Regression"
   ]
  },
  {
   "cell_type": "code",
   "execution_count": 30,
   "id": "minus-moore",
   "metadata": {},
   "outputs": [],
   "source": [
    "import numpy as np\n",
    "import pandas as pd\n",
    "import tensorflow as tf\n",
    "\n",
    "from tensorflow.keras.models import Sequential\n",
    "from tensorflow.keras.layers import Flatten, Dense\n",
    "from tensorflow.keras.optimizers import SGD\n",
    "\n",
    "from scipy import stats\n",
    "from sklearn.preprocessing import MinMaxScaler\n",
    "from sklearn.model_selection import train_test_split\n",
    "\n",
    "from sklearn.linear_model import LogisticRegression"
   ]
  },
  {
   "cell_type": "markdown",
   "id": "lightweight-lemon",
   "metadata": {},
   "source": [
    "## Feature Engineering"
   ]
  },
  {
   "cell_type": "code",
   "execution_count": 31,
   "id": "planned-essence",
   "metadata": {},
   "outputs": [
    {
     "data": {
      "text/html": [
       "<div>\n",
       "<style scoped>\n",
       "    .dataframe tbody tr th:only-of-type {\n",
       "        vertical-align: middle;\n",
       "    }\n",
       "\n",
       "    .dataframe tbody tr th {\n",
       "        vertical-align: top;\n",
       "    }\n",
       "\n",
       "    .dataframe thead th {\n",
       "        text-align: right;\n",
       "    }\n",
       "</style>\n",
       "<table border=\"1\" class=\"dataframe\">\n",
       "  <thead>\n",
       "    <tr style=\"text-align: right;\">\n",
       "      <th></th>\n",
       "      <th>Survived</th>\n",
       "      <th>Pclass</th>\n",
       "      <th>Sex</th>\n",
       "      <th>Age</th>\n",
       "      <th>Embarked</th>\n",
       "      <th>Family</th>\n",
       "    </tr>\n",
       "  </thead>\n",
       "  <tbody>\n",
       "    <tr>\n",
       "      <th>0</th>\n",
       "      <td>0</td>\n",
       "      <td>3</td>\n",
       "      <td>0</td>\n",
       "      <td>22.0</td>\n",
       "      <td>0.0</td>\n",
       "      <td>1</td>\n",
       "    </tr>\n",
       "    <tr>\n",
       "      <th>1</th>\n",
       "      <td>1</td>\n",
       "      <td>1</td>\n",
       "      <td>1</td>\n",
       "      <td>38.0</td>\n",
       "      <td>1.0</td>\n",
       "      <td>1</td>\n",
       "    </tr>\n",
       "    <tr>\n",
       "      <th>2</th>\n",
       "      <td>1</td>\n",
       "      <td>3</td>\n",
       "      <td>1</td>\n",
       "      <td>26.0</td>\n",
       "      <td>0.0</td>\n",
       "      <td>0</td>\n",
       "    </tr>\n",
       "    <tr>\n",
       "      <th>3</th>\n",
       "      <td>1</td>\n",
       "      <td>1</td>\n",
       "      <td>1</td>\n",
       "      <td>35.0</td>\n",
       "      <td>0.0</td>\n",
       "      <td>1</td>\n",
       "    </tr>\n",
       "    <tr>\n",
       "      <th>4</th>\n",
       "      <td>0</td>\n",
       "      <td>3</td>\n",
       "      <td>0</td>\n",
       "      <td>35.0</td>\n",
       "      <td>0.0</td>\n",
       "      <td>0</td>\n",
       "    </tr>\n",
       "    <tr>\n",
       "      <th>...</th>\n",
       "      <td>...</td>\n",
       "      <td>...</td>\n",
       "      <td>...</td>\n",
       "      <td>...</td>\n",
       "      <td>...</td>\n",
       "      <td>...</td>\n",
       "    </tr>\n",
       "    <tr>\n",
       "      <th>886</th>\n",
       "      <td>0</td>\n",
       "      <td>2</td>\n",
       "      <td>0</td>\n",
       "      <td>27.0</td>\n",
       "      <td>0.0</td>\n",
       "      <td>0</td>\n",
       "    </tr>\n",
       "    <tr>\n",
       "      <th>887</th>\n",
       "      <td>1</td>\n",
       "      <td>1</td>\n",
       "      <td>1</td>\n",
       "      <td>19.0</td>\n",
       "      <td>0.0</td>\n",
       "      <td>0</td>\n",
       "    </tr>\n",
       "    <tr>\n",
       "      <th>888</th>\n",
       "      <td>0</td>\n",
       "      <td>3</td>\n",
       "      <td>1</td>\n",
       "      <td>NaN</td>\n",
       "      <td>0.0</td>\n",
       "      <td>3</td>\n",
       "    </tr>\n",
       "    <tr>\n",
       "      <th>889</th>\n",
       "      <td>1</td>\n",
       "      <td>1</td>\n",
       "      <td>0</td>\n",
       "      <td>26.0</td>\n",
       "      <td>1.0</td>\n",
       "      <td>0</td>\n",
       "    </tr>\n",
       "    <tr>\n",
       "      <th>890</th>\n",
       "      <td>0</td>\n",
       "      <td>3</td>\n",
       "      <td>0</td>\n",
       "      <td>32.0</td>\n",
       "      <td>2.0</td>\n",
       "      <td>0</td>\n",
       "    </tr>\n",
       "  </tbody>\n",
       "</table>\n",
       "<p>891 rows × 6 columns</p>\n",
       "</div>"
      ],
      "text/plain": [
       "     Survived  Pclass  Sex   Age  Embarked  Family\n",
       "0           0       3    0  22.0       0.0       1\n",
       "1           1       1    1  38.0       1.0       1\n",
       "2           1       3    1  26.0       0.0       0\n",
       "3           1       1    1  35.0       0.0       1\n",
       "4           0       3    0  35.0       0.0       0\n",
       "..        ...     ...  ...   ...       ...     ...\n",
       "886         0       2    0  27.0       0.0       0\n",
       "887         1       1    1  19.0       0.0       0\n",
       "888         0       3    1   NaN       0.0       3\n",
       "889         1       1    0  26.0       1.0       0\n",
       "890         0       3    0  32.0       2.0       0\n",
       "\n",
       "[891 rows x 6 columns]"
      ]
     },
     "metadata": {},
     "output_type": "display_data"
    },
    {
     "data": {
      "text/html": [
       "<div>\n",
       "<style scoped>\n",
       "    .dataframe tbody tr th:only-of-type {\n",
       "        vertical-align: middle;\n",
       "    }\n",
       "\n",
       "    .dataframe tbody tr th {\n",
       "        vertical-align: top;\n",
       "    }\n",
       "\n",
       "    .dataframe thead th {\n",
       "        text-align: right;\n",
       "    }\n",
       "</style>\n",
       "<table border=\"1\" class=\"dataframe\">\n",
       "  <thead>\n",
       "    <tr style=\"text-align: right;\">\n",
       "      <th></th>\n",
       "      <th>Survived</th>\n",
       "      <th>Pclass</th>\n",
       "      <th>Sex</th>\n",
       "      <th>Age</th>\n",
       "      <th>Embarked</th>\n",
       "      <th>Family</th>\n",
       "    </tr>\n",
       "  </thead>\n",
       "  <tbody>\n",
       "    <tr>\n",
       "      <th>0</th>\n",
       "      <td>0</td>\n",
       "      <td>3</td>\n",
       "      <td>0</td>\n",
       "      <td>0</td>\n",
       "      <td>0.0</td>\n",
       "      <td>1</td>\n",
       "    </tr>\n",
       "    <tr>\n",
       "      <th>1</th>\n",
       "      <td>1</td>\n",
       "      <td>1</td>\n",
       "      <td>1</td>\n",
       "      <td>1</td>\n",
       "      <td>1.0</td>\n",
       "      <td>1</td>\n",
       "    </tr>\n",
       "    <tr>\n",
       "      <th>2</th>\n",
       "      <td>1</td>\n",
       "      <td>3</td>\n",
       "      <td>1</td>\n",
       "      <td>1</td>\n",
       "      <td>0.0</td>\n",
       "      <td>0</td>\n",
       "    </tr>\n",
       "    <tr>\n",
       "      <th>3</th>\n",
       "      <td>1</td>\n",
       "      <td>1</td>\n",
       "      <td>1</td>\n",
       "      <td>1</td>\n",
       "      <td>0.0</td>\n",
       "      <td>1</td>\n",
       "    </tr>\n",
       "    <tr>\n",
       "      <th>4</th>\n",
       "      <td>0</td>\n",
       "      <td>3</td>\n",
       "      <td>0</td>\n",
       "      <td>1</td>\n",
       "      <td>0.0</td>\n",
       "      <td>0</td>\n",
       "    </tr>\n",
       "    <tr>\n",
       "      <th>...</th>\n",
       "      <td>...</td>\n",
       "      <td>...</td>\n",
       "      <td>...</td>\n",
       "      <td>...</td>\n",
       "      <td>...</td>\n",
       "      <td>...</td>\n",
       "    </tr>\n",
       "    <tr>\n",
       "      <th>886</th>\n",
       "      <td>0</td>\n",
       "      <td>2</td>\n",
       "      <td>0</td>\n",
       "      <td>1</td>\n",
       "      <td>0.0</td>\n",
       "      <td>0</td>\n",
       "    </tr>\n",
       "    <tr>\n",
       "      <th>887</th>\n",
       "      <td>1</td>\n",
       "      <td>1</td>\n",
       "      <td>1</td>\n",
       "      <td>0</td>\n",
       "      <td>0.0</td>\n",
       "      <td>0</td>\n",
       "    </tr>\n",
       "    <tr>\n",
       "      <th>888</th>\n",
       "      <td>0</td>\n",
       "      <td>3</td>\n",
       "      <td>1</td>\n",
       "      <td>2</td>\n",
       "      <td>0.0</td>\n",
       "      <td>3</td>\n",
       "    </tr>\n",
       "    <tr>\n",
       "      <th>889</th>\n",
       "      <td>1</td>\n",
       "      <td>1</td>\n",
       "      <td>0</td>\n",
       "      <td>1</td>\n",
       "      <td>1.0</td>\n",
       "      <td>0</td>\n",
       "    </tr>\n",
       "    <tr>\n",
       "      <th>890</th>\n",
       "      <td>0</td>\n",
       "      <td>3</td>\n",
       "      <td>0</td>\n",
       "      <td>1</td>\n",
       "      <td>2.0</td>\n",
       "      <td>0</td>\n",
       "    </tr>\n",
       "  </tbody>\n",
       "</table>\n",
       "<p>891 rows × 6 columns</p>\n",
       "</div>"
      ],
      "text/plain": [
       "     Survived  Pclass  Sex  Age  Embarked  Family\n",
       "0           0       3    0    0       0.0       1\n",
       "1           1       1    1    1       1.0       1\n",
       "2           1       3    1    1       0.0       0\n",
       "3           1       1    1    1       0.0       1\n",
       "4           0       3    0    1       0.0       0\n",
       "..        ...     ...  ...  ...       ...     ...\n",
       "886         0       2    0    1       0.0       0\n",
       "887         1       1    1    0       0.0       0\n",
       "888         0       3    1    2       0.0       3\n",
       "889         1       1    0    1       1.0       0\n",
       "890         0       3    0    1       2.0       0\n",
       "\n",
       "[891 rows x 6 columns]"
      ]
     },
     "metadata": {},
     "output_type": "display_data"
    }
   ],
   "source": [
    "df = pd.read_csv('data/titanic/train.csv')\n",
    "\n",
    "# 1. 필요없는 column 삭제\n",
    "df = df.drop(df[['PassengerId', 'Name', 'Ticket', 'Fare', 'Cabin']], \n",
    "             axis=1, inplace=False)\n",
    "\n",
    "# 2. 새로운 column 생성\n",
    "df['Family'] = df['SibSp'] + df['Parch']\n",
    "df.drop(['SibSp', 'Parch'], axis=1, inplace=True)\n",
    "\n",
    "# 3. 문자 -> 숫자\n",
    "sex_dict = {'male': 0, 'female': 1}\n",
    "df['Sex'] = df['Sex'].map(sex_dict) # Series.map()\n",
    "\n",
    "embarked_dict = {'S': 0, 'C': 1, 'Q': 2}\n",
    "df['Embarked'] = df['Embarked'].map(embarked_dict)\n",
    "\n",
    "display(df)\n",
    "\n",
    "# 4. binning 처리 (연속적인 숫자값 -> Categorical value)\n",
    "def age_category(age):\n",
    "    if (age >= 0) & (age < 25):\n",
    "        return 0\n",
    "    elif (age >= 25) & (age < 50):\n",
    "        return 1\n",
    "    else:\n",
    "        return 2\n",
    "\n",
    "df['Age'] = df['Age'].map(age_category)\n",
    "display(df)"
   ]
  },
  {
   "cell_type": "markdown",
   "id": "russian-universe",
   "metadata": {},
   "source": [
    "## 데이터 전처리"
   ]
  },
  {
   "cell_type": "markdown",
   "id": "abandoned-liquid",
   "metadata": {},
   "source": [
    "### 결측치 처리"
   ]
  },
  {
   "cell_type": "code",
   "execution_count": 34,
   "id": "quiet-harrison",
   "metadata": {},
   "outputs": [
    {
     "name": "stdout",
     "output_type": "stream",
     "text": [
      "0.0\n"
     ]
    },
    {
     "data": {
      "text/plain": [
       "61    NaN\n",
       "829   NaN\n",
       "Name: Embarked, dtype: float64"
      ]
     },
     "metadata": {},
     "output_type": "display_data"
    },
    {
     "data": {
      "text/plain": [
       "Series([], Name: Embarked, dtype: float64)"
      ]
     },
     "metadata": {},
     "output_type": "display_data"
    }
   ],
   "source": [
    "# Age(중앙값)\n",
    "df.loc[df['Age'].isnull(), 'Age'] = np.nanmedian(df['Age'].values) # Series = Series\n",
    "\n",
    "# Embarked(최빈값)\n",
    "embarked_mode = df['Embarked'].mode()[0]\n",
    "print(embarked_mode)\n",
    "display(df.loc[df['Embarked'].isnull(), 'Embarked'])\n",
    "\n",
    "df.loc[df['Embarked'].isnull(), 'Embarked'] = embarked_mode\n",
    "display(df.loc[df['Embarked'].isnull(), 'Embarked'])"
   ]
  },
  {
   "cell_type": "markdown",
   "id": "facial-yemen",
   "metadata": {},
   "source": [
    "### Split Data"
   ]
  },
  {
   "cell_type": "code",
   "execution_count": 72,
   "id": "frequent-hydrogen",
   "metadata": {},
   "outputs": [],
   "source": [
    "x_data_train, x_data_test, t_data_train, t_data_test = \\\n",
    "train_test_split(df.drop('Survived', axis=1, inplace=False),\n",
    "                 df['Survived'], test_size=0.3, random_state=0)"
   ]
  },
  {
   "cell_type": "markdown",
   "id": "framed-eagle",
   "metadata": {},
   "source": [
    "### 정규화 처리"
   ]
  },
  {
   "cell_type": "code",
   "execution_count": 73,
   "id": "excessive-salad",
   "metadata": {},
   "outputs": [],
   "source": [
    "scaler = MinMaxScaler()\n",
    "scaler.fit(x_data_train)\n",
    "x_data_train_norm = scaler.transform(x_data_train)\n",
    "\n",
    "scaler.fit(x_data_test)\n",
    "x_data_test_norm = scaler.transform(x_data_test)"
   ]
  },
  {
   "cell_type": "markdown",
   "id": "adopted-familiar",
   "metadata": {},
   "source": [
    "## Scikit-learn"
   ]
  },
  {
   "cell_type": "code",
   "execution_count": 74,
   "id": "gentle-technician",
   "metadata": {},
   "outputs": [
    {
     "name": "stdout",
     "output_type": "stream",
     "text": [
      "sklearn의 accuracy: 0.8097014925373134\n"
     ]
    }
   ],
   "source": [
    "model = LogisticRegression()\n",
    "model.fit(x_data_train_norm, t_data_train)\n",
    "\n",
    "# accuracy (성능평가)\n",
    "sk_result = model.score(x_data_test_norm, t_data_test)\n",
    "print('sklearn의 accuracy: {}'.format(sk_result)) # 0.8097014925373134"
   ]
  },
  {
   "cell_type": "markdown",
   "id": "north-silence",
   "metadata": {},
   "source": [
    "## Keras"
   ]
  },
  {
   "cell_type": "code",
   "execution_count": 75,
   "id": "respected-village",
   "metadata": {},
   "outputs": [
    {
     "name": "stdout",
     "output_type": "stream",
     "text": [
      "9/9 [==============================] - 0s 574us/step - loss: 0.4491 - accuracy: 0.8097\n",
      "keras의 accuracy: [0.4490669369697571, 0.8097015023231506]\n"
     ]
    }
   ],
   "source": [
    "# model\n",
    "keras_model = Sequential()\n",
    "\n",
    "# layers\n",
    "\n",
    "keras_model.add(Flatten(input_shape=(x_data_train_norm.shape[1],)))\n",
    "keras_model.add(Dense(1, activation='sigmoid')) # Logistic\n",
    "\n",
    "# optimizer\n",
    "keras_model.compile(optimizer=SGD(learning_rate=1e-2),\n",
    "                    loss='binary_crossentropy', metrics=['accuracy'])\n",
    "\n",
    "# learning\n",
    "keras_model.fit(x_data_train_norm, t_data_train, epochs=1000, verbose=0)\n",
    "\n",
    "# accuracy (성능평가)\n",
    "keras_result = keras_model.evaluate(x_data_test_norm, t_data_test)\n",
    "print('keras의 accuracy: {}'.format(keras_result)) # binary - 0 or 1 # 0.8097015023231506"
   ]
  },
  {
   "cell_type": "markdown",
   "id": "compact-brand",
   "metadata": {},
   "source": [
    "# Tensorflow 2.x - Multinomial Classification"
   ]
  },
  {
   "cell_type": "code",
   "execution_count": 11,
   "id": "hollywood-undergraduate",
   "metadata": {},
   "outputs": [],
   "source": [
    "import numpy as np\n",
    "import pandas as pd\n",
    "import tensorflow as tf\n",
    "import matplotlib.pyplot as plt\n",
    "\n",
    "from tensorflow.keras.models import Sequential\n",
    "from tensorflow.keras.layers import Flatten, Dense\n",
    "from tensorflow.keras.optimizers import SGD\n",
    "\n",
    "from sklearn.preprocessing import MinMaxScaler\n",
    "from sklearn.linear_model import LogisticRegression\n",
    "from sklearn.model_selection import train_test_split\n",
    "from sklearn.metrics import classification_report\n",
    "\n",
    "import warnings\n",
    "warnings.filterwarnings(action='ignore')"
   ]
  },
  {
   "cell_type": "markdown",
   "id": "proprietary-cement",
   "metadata": {},
   "source": [
    "## Raw Data"
   ]
  },
  {
   "cell_type": "code",
   "execution_count": 12,
   "id": "spare-dover",
   "metadata": {},
   "outputs": [
    {
     "data": {
      "text/html": [
       "<div>\n",
       "<style scoped>\n",
       "    .dataframe tbody tr th:only-of-type {\n",
       "        vertical-align: middle;\n",
       "    }\n",
       "\n",
       "    .dataframe tbody tr th {\n",
       "        vertical-align: top;\n",
       "    }\n",
       "\n",
       "    .dataframe thead th {\n",
       "        text-align: right;\n",
       "    }\n",
       "</style>\n",
       "<table border=\"1\" class=\"dataframe\">\n",
       "  <thead>\n",
       "    <tr style=\"text-align: right;\">\n",
       "      <th></th>\n",
       "      <th>label</th>\n",
       "      <th>pixel0</th>\n",
       "      <th>pixel1</th>\n",
       "      <th>pixel2</th>\n",
       "      <th>pixel3</th>\n",
       "      <th>pixel4</th>\n",
       "      <th>pixel5</th>\n",
       "      <th>pixel6</th>\n",
       "      <th>pixel7</th>\n",
       "      <th>pixel8</th>\n",
       "      <th>...</th>\n",
       "      <th>pixel774</th>\n",
       "      <th>pixel775</th>\n",
       "      <th>pixel776</th>\n",
       "      <th>pixel777</th>\n",
       "      <th>pixel778</th>\n",
       "      <th>pixel779</th>\n",
       "      <th>pixel780</th>\n",
       "      <th>pixel781</th>\n",
       "      <th>pixel782</th>\n",
       "      <th>pixel783</th>\n",
       "    </tr>\n",
       "  </thead>\n",
       "  <tbody>\n",
       "    <tr>\n",
       "      <th>0</th>\n",
       "      <td>1</td>\n",
       "      <td>0</td>\n",
       "      <td>0</td>\n",
       "      <td>0</td>\n",
       "      <td>0</td>\n",
       "      <td>0</td>\n",
       "      <td>0</td>\n",
       "      <td>0</td>\n",
       "      <td>0</td>\n",
       "      <td>0</td>\n",
       "      <td>...</td>\n",
       "      <td>0</td>\n",
       "      <td>0</td>\n",
       "      <td>0</td>\n",
       "      <td>0</td>\n",
       "      <td>0</td>\n",
       "      <td>0</td>\n",
       "      <td>0</td>\n",
       "      <td>0</td>\n",
       "      <td>0</td>\n",
       "      <td>0</td>\n",
       "    </tr>\n",
       "    <tr>\n",
       "      <th>1</th>\n",
       "      <td>0</td>\n",
       "      <td>0</td>\n",
       "      <td>0</td>\n",
       "      <td>0</td>\n",
       "      <td>0</td>\n",
       "      <td>0</td>\n",
       "      <td>0</td>\n",
       "      <td>0</td>\n",
       "      <td>0</td>\n",
       "      <td>0</td>\n",
       "      <td>...</td>\n",
       "      <td>0</td>\n",
       "      <td>0</td>\n",
       "      <td>0</td>\n",
       "      <td>0</td>\n",
       "      <td>0</td>\n",
       "      <td>0</td>\n",
       "      <td>0</td>\n",
       "      <td>0</td>\n",
       "      <td>0</td>\n",
       "      <td>0</td>\n",
       "    </tr>\n",
       "    <tr>\n",
       "      <th>2</th>\n",
       "      <td>1</td>\n",
       "      <td>0</td>\n",
       "      <td>0</td>\n",
       "      <td>0</td>\n",
       "      <td>0</td>\n",
       "      <td>0</td>\n",
       "      <td>0</td>\n",
       "      <td>0</td>\n",
       "      <td>0</td>\n",
       "      <td>0</td>\n",
       "      <td>...</td>\n",
       "      <td>0</td>\n",
       "      <td>0</td>\n",
       "      <td>0</td>\n",
       "      <td>0</td>\n",
       "      <td>0</td>\n",
       "      <td>0</td>\n",
       "      <td>0</td>\n",
       "      <td>0</td>\n",
       "      <td>0</td>\n",
       "      <td>0</td>\n",
       "    </tr>\n",
       "    <tr>\n",
       "      <th>3</th>\n",
       "      <td>4</td>\n",
       "      <td>0</td>\n",
       "      <td>0</td>\n",
       "      <td>0</td>\n",
       "      <td>0</td>\n",
       "      <td>0</td>\n",
       "      <td>0</td>\n",
       "      <td>0</td>\n",
       "      <td>0</td>\n",
       "      <td>0</td>\n",
       "      <td>...</td>\n",
       "      <td>0</td>\n",
       "      <td>0</td>\n",
       "      <td>0</td>\n",
       "      <td>0</td>\n",
       "      <td>0</td>\n",
       "      <td>0</td>\n",
       "      <td>0</td>\n",
       "      <td>0</td>\n",
       "      <td>0</td>\n",
       "      <td>0</td>\n",
       "    </tr>\n",
       "    <tr>\n",
       "      <th>4</th>\n",
       "      <td>0</td>\n",
       "      <td>0</td>\n",
       "      <td>0</td>\n",
       "      <td>0</td>\n",
       "      <td>0</td>\n",
       "      <td>0</td>\n",
       "      <td>0</td>\n",
       "      <td>0</td>\n",
       "      <td>0</td>\n",
       "      <td>0</td>\n",
       "      <td>...</td>\n",
       "      <td>0</td>\n",
       "      <td>0</td>\n",
       "      <td>0</td>\n",
       "      <td>0</td>\n",
       "      <td>0</td>\n",
       "      <td>0</td>\n",
       "      <td>0</td>\n",
       "      <td>0</td>\n",
       "      <td>0</td>\n",
       "      <td>0</td>\n",
       "    </tr>\n",
       "  </tbody>\n",
       "</table>\n",
       "<p>5 rows × 785 columns</p>\n",
       "</div>"
      ],
      "text/plain": [
       "   label  pixel0  pixel1  pixel2  pixel3  pixel4  pixel5  pixel6  pixel7  \\\n",
       "0      1       0       0       0       0       0       0       0       0   \n",
       "1      0       0       0       0       0       0       0       0       0   \n",
       "2      1       0       0       0       0       0       0       0       0   \n",
       "3      4       0       0       0       0       0       0       0       0   \n",
       "4      0       0       0       0       0       0       0       0       0   \n",
       "\n",
       "   pixel8  ...  pixel774  pixel775  pixel776  pixel777  pixel778  pixel779  \\\n",
       "0       0  ...         0         0         0         0         0         0   \n",
       "1       0  ...         0         0         0         0         0         0   \n",
       "2       0  ...         0         0         0         0         0         0   \n",
       "3       0  ...         0         0         0         0         0         0   \n",
       "4       0  ...         0         0         0         0         0         0   \n",
       "\n",
       "   pixel780  pixel781  pixel782  pixel783  \n",
       "0         0         0         0         0  \n",
       "1         0         0         0         0  \n",
       "2         0         0         0         0  \n",
       "3         0         0         0         0  \n",
       "4         0         0         0         0  \n",
       "\n",
       "[5 rows x 785 columns]"
      ]
     },
     "metadata": {},
     "output_type": "display_data"
    },
    {
     "data": {
      "text/plain": [
       "(42000, 785)"
      ]
     },
     "metadata": {},
     "output_type": "display_data"
    }
   ],
   "source": [
    "df = pd.read_csv('data/mnist/train.csv')\n",
    "display(df.head(), df.shape)"
   ]
  },
  {
   "cell_type": "markdown",
   "id": "peaceful-armstrong",
   "metadata": {},
   "source": [
    "## Feature Engineering"
   ]
  },
  {
   "cell_type": "code",
   "execution_count": 13,
   "id": "cross-neighbor",
   "metadata": {},
   "outputs": [],
   "source": [
    "x_data = df.drop('label', axis=1, inplace=False) # DataFrame\n",
    "t_data = df['label'] # DataFrame, one-hot(X)"
   ]
  },
  {
   "cell_type": "markdown",
   "id": "careful-option",
   "metadata": {},
   "source": [
    "## 정규화 처리"
   ]
  },
  {
   "cell_type": "code",
   "execution_count": 14,
   "id": "dutch-friday",
   "metadata": {},
   "outputs": [],
   "source": [
    "scaler = MinMaxScaler()\n",
    "scaler.fit(x_data) # fit(2차원 ndarray)\n",
    "x_data_norm = scaler.transform(x_data)"
   ]
  },
  {
   "cell_type": "markdown",
   "id": "seven-banks",
   "metadata": {},
   "source": [
    "## 데이터 분리"
   ]
  },
  {
   "cell_type": "code",
   "execution_count": 15,
   "id": "liberal-fishing",
   "metadata": {},
   "outputs": [],
   "source": [
    "x_data_train, x_data_test, t_data_train, t_data_test = \\\n",
    "train_test_split(x_data_norm, t_data, test_size=0.3, random_state=0)"
   ]
  },
  {
   "cell_type": "markdown",
   "id": "norwegian-residence",
   "metadata": {},
   "source": [
    "## Scikit-learn\n",
    "Scikit-learn에서는 `t_data`(종속변수)의 One-hot Encoding 처리를 안해도 된다."
   ]
  },
  {
   "cell_type": "code",
   "execution_count": 7,
   "id": "familiar-insulin",
   "metadata": {
    "scrolled": false
   },
   "outputs": [
    {
     "name": "stdout",
     "output_type": "stream",
     "text": [
      "              precision    recall  f1-score   support\n",
      "\n",
      "           0       0.96      0.96      0.96      1242\n",
      "           1       0.95      0.97      0.96      1429\n",
      "           2       0.92      0.90      0.91      1276\n",
      "           3       0.91      0.90      0.91      1298\n",
      "           4       0.92      0.92      0.92      1236\n",
      "           5       0.88      0.88      0.88      1119\n",
      "           6       0.93      0.95      0.94      1243\n",
      "           7       0.94      0.93      0.94      1334\n",
      "           8       0.89      0.88      0.88      1204\n",
      "           9       0.89      0.89      0.89      1219\n",
      "\n",
      "    accuracy                           0.92     12600\n",
      "   macro avg       0.92      0.92      0.92     12600\n",
      "weighted avg       0.92      0.92      0.92     12600\n",
      "\n"
     ]
    }
   ],
   "source": [
    "sklearn_model = LogisticRegression(solver='saga')\n",
    "sklearn_model.fit(x_data_train, t_data_train)\n",
    "\n",
    "predict_data = sklearn_model.predict(x_data_test)\n",
    "\n",
    "result = classification_report(t_data_test, predict_data) # (정답, 예측값)\n",
    "print(result)"
   ]
  },
  {
   "cell_type": "code",
   "execution_count": 9,
   "id": "stuffed-playback",
   "metadata": {},
   "outputs": [
    {
     "name": "stdout",
     "output_type": "stream",
     "text": [
      "Once deleted, variables cannot be recovered. Proceed (y/[n])? y\n"
     ]
    }
   ],
   "source": [
    "%reset # 메모리 삭제"
   ]
  },
  {
   "cell_type": "markdown",
   "id": "under-friendship",
   "metadata": {},
   "source": [
    "## Keras\n",
    "tensorflow 2.x 버전에서는 설정만 잡아주면 종속변수의 One-hot Encoding 처리를 해줄 필요가 없다."
   ]
  },
  {
   "cell_type": "code",
   "execution_count": 19,
   "id": "military-bachelor",
   "metadata": {},
   "outputs": [
    {
     "name": "stdout",
     "output_type": "stream",
     "text": [
      "394/394 [==============================] - 0s 733us/step - loss: 0.2960 - sparse_categorical_accuracy: 0.9180\n",
      "[0.29596641659736633, 0.9180158972740173]\n"
     ]
    }
   ],
   "source": [
    "# model\n",
    "keras_model = Sequential()\n",
    "\n",
    "# layers\n",
    "keras_model.add(Flatten(input_shape=(x_data_train.shape[1],))) # 1차원\n",
    "keras_model.add(Dense(10, activation='softmax')) # multinomial classification\n",
    "\n",
    "# optimizer\n",
    "keras_model.compile(optimizer=SGD(learning_rate=1e-1), \n",
    "                    loss='sparse_categorical_crossentropy', # one-hot(X)\n",
    "                    metrics=['sparse_categorical_accuracy']) \n",
    "\n",
    "# learning\n",
    "# 추후에 history 객체를 이용해서 hyper parameter인 epoch수를 조절할 수 있다.\n",
    "history = keras_model.fit(x_data_train, t_data_train, \n",
    "                          epochs=100, batch_size=512, \n",
    "                          verbose=0, validation_split=0.2) \n",
    "\n",
    "# evaluation\n",
    "result = keras_model.evaluate(x_data_test, t_data_test)\n",
    "print(result)"
   ]
  },
  {
   "cell_type": "markdown",
   "id": "greatest-parent",
   "metadata": {},
   "source": [
    "### 학습과정에서 나온 결과 객체"
   ]
  },
  {
   "cell_type": "code",
   "execution_count": 28,
   "id": "legal-vanilla",
   "metadata": {},
   "outputs": [
    {
     "name": "stdout",
     "output_type": "stream",
     "text": [
      "<class 'dict'>\n",
      "dict_keys(['loss', 'sparse_categorical_accuracy', 'val_loss', 'val_sparse_categorical_accuracy'])\n"
     ]
    },
    {
     "data": {
      "image/png": "[encoded data removed]",
      "text/plain": [
       "<Figure size 432x288 with 1 Axes>"
      ]
     },
     "metadata": {
      "needs_background": "light"
     },
     "output_type": "display_data"
    }
   ],
   "source": [
    "print(type(history.history))  # <class 'dict'>\n",
    "print(history.history.keys()) # 'loss', 'sparse_categorical_accuracy', 'val_loss', 'val_sparse_categorical_accuracy'\n",
    "\n",
    "# 에폭당 accuracy 값에 대한 그래프\n",
    "plt.plot(history.history['sparse_categorical_accuracy'], color='r') # training_data를 이용한 정확도\n",
    "\n",
    "plt.plot(history.history['val_sparse_categorical_accuracy'], color='b') # validation_data를 이용한 정확도\n",
    "plt.show()"
   ]
  }
 ],
 "metadata": {
  "kernelspec": {
   "display_name": "Python [conda env:data_env_tf2] *",
   "language": "python",
   "name": "conda-env-data_env_tf2-py"
  },
  "language_info": {
   "codemirror_mode": {
    "name": "ipython",
    "version": 3
   },
   "file_extension": ".py",
   "mimetype": "text/x-python",
   "name": "python",
   "nbconvert_exporter": "python",
   "pygments_lexer": "ipython3",
   "version": "3.7.10"
  }
 },
 "nbformat": 4,
 "nbformat_minor": 5
}
