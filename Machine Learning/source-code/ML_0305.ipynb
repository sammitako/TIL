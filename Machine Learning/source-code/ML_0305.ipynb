{
 "cells": [
  {
   "cell_type": "markdown",
   "metadata": {},
   "source": [
    "# Multinomial Classification - BMI 예제"
   ]
  },
  {
   "cell_type": "code",
   "execution_count": 11,
   "metadata": {},
   "outputs": [],
   "source": [
    "import numpy as np\n",
    "import pandas as pd\n",
    "import tensorflow as tf\n",
    "import matplotlib.pyplot as plt\n",
    "\n",
    "from scipy import stats\n",
    "from sklearn.preprocessing import MinMaxScaler"
   ]
  },
  {
   "cell_type": "markdown",
   "metadata": {},
   "source": [
    "## Data Preprocessing"
   ]
  },
  {
   "cell_type": "code",
   "execution_count": 9,
   "metadata": {},
   "outputs": [
    {
     "data": {
      "text/html": [
       "<div>\n",
       "<style scoped>\n",
       "    .dataframe tbody tr th:only-of-type {\n",
       "        vertical-align: middle;\n",
       "    }\n",
       "\n",
       "    .dataframe tbody tr th {\n",
       "        vertical-align: top;\n",
       "    }\n",
       "\n",
       "    .dataframe thead th {\n",
       "        text-align: right;\n",
       "    }\n",
       "</style>\n",
       "<table border=\"1\" class=\"dataframe\">\n",
       "  <thead>\n",
       "    <tr style=\"text-align: right;\">\n",
       "      <th></th>\n",
       "      <th>label</th>\n",
       "      <th>height</th>\n",
       "      <th>weight</th>\n",
       "    </tr>\n",
       "  </thead>\n",
       "  <tbody>\n",
       "    <tr>\n",
       "      <th>0</th>\n",
       "      <td>1</td>\n",
       "      <td>188</td>\n",
       "      <td>71</td>\n",
       "    </tr>\n",
       "    <tr>\n",
       "      <th>1</th>\n",
       "      <td>2</td>\n",
       "      <td>161</td>\n",
       "      <td>68</td>\n",
       "    </tr>\n",
       "    <tr>\n",
       "      <th>2</th>\n",
       "      <td>0</td>\n",
       "      <td>178</td>\n",
       "      <td>52</td>\n",
       "    </tr>\n",
       "    <tr>\n",
       "      <th>3</th>\n",
       "      <td>2</td>\n",
       "      <td>136</td>\n",
       "      <td>63</td>\n",
       "    </tr>\n",
       "    <tr>\n",
       "      <th>4</th>\n",
       "      <td>1</td>\n",
       "      <td>145</td>\n",
       "      <td>52</td>\n",
       "    </tr>\n",
       "  </tbody>\n",
       "</table>\n",
       "</div>"
      ],
      "text/plain": [
       "   label  height  weight\n",
       "0      1     188      71\n",
       "1      2     161      68\n",
       "2      0     178      52\n",
       "3      2     136      63\n",
       "4      1     145      52"
      ]
     },
     "metadata": {},
     "output_type": "display_data"
    },
    {
     "data": {
      "text/plain": [
       "(20000, 3)"
      ]
     },
     "metadata": {},
     "output_type": "display_data"
    }
   ],
   "source": [
    "df = pd.read_csv('data/bmi.csv', skiprows=3)\n",
    "display(df.head(), df.shape)"
   ]
  },
  {
   "cell_type": "markdown",
   "metadata": {},
   "source": [
    "### 결측치 처리"
   ]
  },
  {
   "cell_type": "code",
   "execution_count": 10,
   "metadata": {},
   "outputs": [
    {
     "data": {
      "text/plain": [
       "label     0\n",
       "height    0\n",
       "weight    0\n",
       "dtype: int64"
      ]
     },
     "execution_count": 10,
     "metadata": {},
     "output_type": "execute_result"
    }
   ],
   "source": [
    "df.isnull().sum()"
   ]
  },
  {
   "cell_type": "markdown",
   "metadata": {},
   "source": [
    "### 이상치 처리"
   ]
  },
  {
   "cell_type": "code",
   "execution_count": 12,
   "metadata": {
    "scrolled": true
   },
   "outputs": [
    {
     "data": {
      "image/png": "[encoded data removed]",
      "text/plain": [
       "<Figure size 432x288 with 3 Axes>"
      ]
     },
     "metadata": {
      "needs_background": "light"
     },
     "output_type": "display_data"
    }
   ],
   "source": [
    "# 이상치 확인\n",
    "fig = plt.figure()\n",
    "fig_1 = fig.add_subplot(1,3,1)\n",
    "fig_2 = fig.add_subplot(1,3,2)\n",
    "fig_3 = fig.add_subplot(1,3,3)\n",
    "\n",
    "fig_1.boxplot(df['label'])\n",
    "fig_2.boxplot(df['height'])\n",
    "fig_3.boxplot(df['weight'])\n",
    "\n",
    "fig.tight_layout()\n",
    "plt.show()"
   ]
  },
  {
   "cell_type": "markdown",
   "metadata": {},
   "source": [
    "### Training Data Set\n",
    "* x_data: 정규화 필요\n",
    "* t_data: One-hot Encoding을 통해 1차원 ndarray 벡터를 2차원 Matrix 형태로 변환 필요"
   ]
  },
  {
   "cell_type": "code",
   "execution_count": 23,
   "metadata": {},
   "outputs": [],
   "source": [
    "x_data = df[['height', 'weight']].values \n",
    "t_data = df['label'].values # [0 1 2 0]\n",
    "                            # [[1 0 0]\n",
    "                            #  [0 1 0]\n",
    "                            #  [0 0 1]\n",
    "                            #  [1 0 0]]"
   ]
  },
  {
   "cell_type": "markdown",
   "metadata": {},
   "source": [
    "### 정규화"
   ]
  },
  {
   "cell_type": "code",
   "execution_count": 16,
   "metadata": {},
   "outputs": [
    {
     "name": "stdout",
     "output_type": "stream",
     "text": [
      "[[0.85       0.8       ]\n",
      " [0.5125     0.73333333]\n",
      " [0.725      0.37777778]\n",
      " ...\n",
      " [0.375      0.28888889]\n",
      " [0.8625     0.75555556]\n",
      " [0.275      0.13333333]]\n"
     ]
    }
   ],
   "source": [
    "scaler_x = MinMaxScaler()\n",
    "scaler_x.fit(x_data)\n",
    "norm_x_data = scaler_x.transform(x_data)\n",
    "print(norm_x_data)"
   ]
  },
  {
   "cell_type": "markdown",
   "metadata": {},
   "source": [
    "### One Hot Encoding\n",
    "`t_data`가 One-Hot Encoding을 통해 0과 1로 표현되므로 정규화는 따로 진행하지 않는다."
   ]
  },
  {
   "cell_type": "code",
   "execution_count": 18,
   "metadata": {},
   "outputs": [
    {
     "name": "stdout",
     "output_type": "stream",
     "text": [
      "[[0. 1. 0.]\n",
      " [0. 0. 1.]\n",
      " [1. 0. 0.]\n",
      " ...\n",
      " [0. 1. 0.]\n",
      " [0. 1. 0.]\n",
      " [0. 1. 0.]]\n"
     ]
    }
   ],
   "source": [
    "sess = tf.Session()\n",
    "norm_t_data = sess.run(tf.one_hot(t_data, depth=3))\n",
    "print(norm_t_data)"
   ]
  },
  {
   "cell_type": "markdown",
   "metadata": {},
   "source": [
    "## Softmax Regression\n",
    "### Splitting Train Data Set and Validation Data Set\n",
    "* 7: Training Data Set\n",
    "* 3: Validation Data Set"
   ]
  },
  {
   "cell_type": "code",
   "execution_count": 32,
   "metadata": {},
   "outputs": [
    {
     "name": "stdout",
     "output_type": "stream",
     "text": [
      "(20000, 2)\n",
      "(14000, 2)\n",
      "(6000, 2)\n",
      "(14000, 3)\n",
      "(6000, 3)\n"
     ]
    }
   ],
   "source": [
    "print(norm_x_data.shape)\n",
    "train_x_data = norm_x_data[:int(norm_x_data.shape[0] * 0.7)]\n",
    "val_x_data = norm_x_data[int(norm_x_data.shape[0] * 0.7):]\n",
    "print(train_x_data.shape)\n",
    "print(val_x_data.shape)\n",
    "\n",
    "train_t_data = norm_t_data[:int(norm_t_data.shape[0] * 0.7)]\n",
    "val_t_data = norm_t_data[int(norm_t_data.shape[0] * 0.7):]\n",
    "print(train_t_data.shape)\n",
    "print(val_t_data.shape)"
   ]
  },
  {
   "cell_type": "markdown",
   "metadata": {},
   "source": [
    "### Tensorflow"
   ]
  },
  {
   "cell_type": "code",
   "execution_count": 28,
   "metadata": {
    "scrolled": true
   },
   "outputs": [
    {
     "name": "stdout",
     "output_type": "stream",
     "text": [
      "W: [[-0.67463857 -1.9429342  -0.12502177]\n",
      " [-0.7373367   2.2779624   0.07409472]], b: [1.1049906  0.49366945 1.8601496 ], loss: 1.302871823310852\n",
      "W: [[-0.31386057 -1.7986933  -0.63004327]\n",
      " [-0.75120556  2.2259724   0.13982594]], b: [1.3765496  0.55694294 1.5253286 ], loss: 1.0780881643295288\n",
      "W: [[-0.10332865 -1.6932299  -0.9460024 ]\n",
      " [-0.856741    2.1401417   0.33114934]], b: [1.410454   0.55980444 1.4884598 ], loss: 1.0060088634490967\n",
      "W: [[ 0.06157038 -1.5948296  -1.2093787 ]\n",
      " [-0.97649723  2.0605118   0.5306257 ]], b: [1.3886305 0.5651728 1.5050019], loss: 0.9500958323478699\n",
      "W: [[ 0.20836285 -1.5028306  -1.448202  ]\n",
      " [-1.0923095   1.9894315   0.71795785]], b: [1.3564636 0.5743165 1.5289505], loss: 0.9026251435279846\n",
      "W: [[ 0.34396926 -1.417843   -1.668883  ]\n",
      " [-1.2007043   1.924429    0.8913635 ]], b: [1.324277  0.5853474 1.5504541], loss: 0.8619250655174255\n",
      "W: [[ 0.47151005 -1.3400524  -1.8742121 ]\n",
      " [-1.3016464   1.8653208   1.0516372 ]], b: [1.2920905 0.5978644 1.5702351], loss: 0.8267629742622375\n",
      "W: [[ 0.5923135 -1.269303  -2.065354 ]\n",
      " [-1.3961676  1.8107535  1.2003236]], b: [1.2631258  0.61038136 1.5881165 ], loss: 0.79621821641922\n",
      "W: [[ 0.7073824 -1.204784  -2.2451067]\n",
      " [-1.4846432  1.7611136  1.3389746]], b: [1.2345155  0.62289834 1.6027722 ], loss: 0.7694041728973389\n",
      "W: [[ 0.8174065 -1.1460404 -2.4135325]\n",
      " [-1.5684997  1.7155409  1.4684538]], b: [1.2090822 0.6354153 1.6170774], loss: 0.745759904384613\n"
     ]
    }
   ],
   "source": [
    "# X, T\n",
    "X = tf.placeholder(shape=[None, 2], dtype=tf.float32) # 2: height, weight\n",
    "T = tf.placeholder(shape=[None, 3], dtype=tf.float32) # one hot encoding 형태\n",
    "\n",
    "# W, b\n",
    "W = tf.Variable(tf.random.normal([2,3]), name='weight')\n",
    "b = tf.Variable(tf.random.normal([3]), name='bias')\n",
    "\n",
    "# Hypothesis\n",
    "logit = tf.matmul(X, W) + b\n",
    "H = tf.nn.softmax(logit) # Softmax Activation Function 이용\n",
    "\n",
    "# loss\n",
    "loss = tf.reduce_mean(tf.nn.softmax_cross_entropy_with_logits_v2(logits=logit, labels=T))\n",
    "\n",
    "# gradient descent algorithm\n",
    "train = tf.train.GradientDescentOptimizer(learning_rate=1e-4).minimize(loss)\n",
    "\n",
    "# learning\n",
    "sess.run(tf.global_variables_initializer())\n",
    "\n",
    "for step in range(300000):\n",
    "    _, W_val, b_val, loss_val = sess.run([train, W, b, loss], feed_dict={X: train_x_data, T: train_t_data})\n",
    "    \n",
    "    if step % 30000 == 0:\n",
    "        print('W: {}, b: {}, loss: {}'.format(W_val, b_val, loss_val))"
   ]
  },
  {
   "cell_type": "markdown",
   "metadata": {},
   "source": [
    "### Model Accuracy\n",
    "예측한 확률에서 가장 높은 확률값"
   ]
  },
  {
   "cell_type": "code",
   "execution_count": 29,
   "metadata": {},
   "outputs": [
    {
     "name": "stdout",
     "output_type": "stream",
     "text": [
      "모델의 정확도: 0.7946666479110718\n"
     ]
    }
   ],
   "source": [
    "predict = tf.argmax(H, axis=1)\n",
    "correct = tf.equal(predict, tf.argmax(T, axis=1)) \n",
    "for_acc = tf.cast(correct, dtype=tf.float32) \n",
    "\n",
    "# Accuracy\n",
    "accuracy = tf.reduce_mean(for_acc)\n",
    "accuracy_val = sess.run(accuracy, feed_dict={X: val_x_data, T: val_t_data})\n",
    "\n",
    "print('모델의 정확도: {}'.format(accuracy_val)) # 80%"
   ]
  },
  {
   "cell_type": "markdown",
   "metadata": {},
   "source": [
    "### Prediction"
   ]
  },
  {
   "cell_type": "code",
   "execution_count": 30,
   "metadata": {},
   "outputs": [
    {
     "name": "stdout",
     "output_type": "stream",
     "text": [
      "[[0.1841997  0.47624972 0.33955067]]\n"
     ]
    }
   ],
   "source": [
    "height = 187\n",
    "weight = 78\n",
    "my_state = [[height, weight]]\n",
    "\n",
    "result = sess.run(H, feed_dict={X: scaler_x.transform(my_state)})\n",
    "print(result) # 정상, [0: 저체중, 1: 정상, 2: 과체중]"
   ]
  }
 ],
 "metadata": {
  "kernelspec": {
   "display_name": "Python [conda env:data_env] *",
   "language": "python",
   "name": "conda-env-data_env-py"
  },
  "language_info": {
   "codemirror_mode": {
    "name": "ipython",
    "version": 3
   },
   "file_extension": ".py",
   "mimetype": "text/x-python",
   "name": "python",
   "nbconvert_exporter": "python",
   "pygments_lexer": "ipython3",
   "version": "3.7.9"
  }
 },
 "nbformat": 4,
 "nbformat_minor": 4
}
