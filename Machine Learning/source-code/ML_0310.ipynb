{
 "cells": [
  {
   "cell_type": "markdown",
   "metadata": {},
   "source": [
    "# MNIST 구현"
   ]
  },
  {
   "cell_type": "code",
   "execution_count": 1,
   "metadata": {},
   "outputs": [],
   "source": [
    "import numpy as np\n",
    "import pandas as pd\n",
    "import tensorflow as tf\n",
    "import matplotlib.pyplot as plt\n",
    "from sklearn.preprocessing import MinMaxScaler\n",
    "from sklearn.model_selection import train_test_split\n",
    "from sklearn.model_selection import KFold\n",
    "from sklearn.metrics import classification_report"
   ]
  },
  {
   "cell_type": "code",
   "execution_count": 2,
   "metadata": {},
   "outputs": [
    {
     "data": {
      "text/html": [
       "<div>\n",
       "<style scoped>\n",
       "    .dataframe tbody tr th:only-of-type {\n",
       "        vertical-align: middle;\n",
       "    }\n",
       "\n",
       "    .dataframe tbody tr th {\n",
       "        vertical-align: top;\n",
       "    }\n",
       "\n",
       "    .dataframe thead th {\n",
       "        text-align: right;\n",
       "    }\n",
       "</style>\n",
       "<table border=\"1\" class=\"dataframe\">\n",
       "  <thead>\n",
       "    <tr style=\"text-align: right;\">\n",
       "      <th></th>\n",
       "      <th>label</th>\n",
       "      <th>pixel0</th>\n",
       "      <th>pixel1</th>\n",
       "      <th>pixel2</th>\n",
       "      <th>pixel3</th>\n",
       "      <th>pixel4</th>\n",
       "      <th>pixel5</th>\n",
       "      <th>pixel6</th>\n",
       "      <th>pixel7</th>\n",
       "      <th>pixel8</th>\n",
       "      <th>...</th>\n",
       "      <th>pixel774</th>\n",
       "      <th>pixel775</th>\n",
       "      <th>pixel776</th>\n",
       "      <th>pixel777</th>\n",
       "      <th>pixel778</th>\n",
       "      <th>pixel779</th>\n",
       "      <th>pixel780</th>\n",
       "      <th>pixel781</th>\n",
       "      <th>pixel782</th>\n",
       "      <th>pixel783</th>\n",
       "    </tr>\n",
       "  </thead>\n",
       "  <tbody>\n",
       "    <tr>\n",
       "      <th>0</th>\n",
       "      <td>1</td>\n",
       "      <td>0</td>\n",
       "      <td>0</td>\n",
       "      <td>0</td>\n",
       "      <td>0</td>\n",
       "      <td>0</td>\n",
       "      <td>0</td>\n",
       "      <td>0</td>\n",
       "      <td>0</td>\n",
       "      <td>0</td>\n",
       "      <td>...</td>\n",
       "      <td>0</td>\n",
       "      <td>0</td>\n",
       "      <td>0</td>\n",
       "      <td>0</td>\n",
       "      <td>0</td>\n",
       "      <td>0</td>\n",
       "      <td>0</td>\n",
       "      <td>0</td>\n",
       "      <td>0</td>\n",
       "      <td>0</td>\n",
       "    </tr>\n",
       "    <tr>\n",
       "      <th>1</th>\n",
       "      <td>0</td>\n",
       "      <td>0</td>\n",
       "      <td>0</td>\n",
       "      <td>0</td>\n",
       "      <td>0</td>\n",
       "      <td>0</td>\n",
       "      <td>0</td>\n",
       "      <td>0</td>\n",
       "      <td>0</td>\n",
       "      <td>0</td>\n",
       "      <td>...</td>\n",
       "      <td>0</td>\n",
       "      <td>0</td>\n",
       "      <td>0</td>\n",
       "      <td>0</td>\n",
       "      <td>0</td>\n",
       "      <td>0</td>\n",
       "      <td>0</td>\n",
       "      <td>0</td>\n",
       "      <td>0</td>\n",
       "      <td>0</td>\n",
       "    </tr>\n",
       "    <tr>\n",
       "      <th>2</th>\n",
       "      <td>1</td>\n",
       "      <td>0</td>\n",
       "      <td>0</td>\n",
       "      <td>0</td>\n",
       "      <td>0</td>\n",
       "      <td>0</td>\n",
       "      <td>0</td>\n",
       "      <td>0</td>\n",
       "      <td>0</td>\n",
       "      <td>0</td>\n",
       "      <td>...</td>\n",
       "      <td>0</td>\n",
       "      <td>0</td>\n",
       "      <td>0</td>\n",
       "      <td>0</td>\n",
       "      <td>0</td>\n",
       "      <td>0</td>\n",
       "      <td>0</td>\n",
       "      <td>0</td>\n",
       "      <td>0</td>\n",
       "      <td>0</td>\n",
       "    </tr>\n",
       "    <tr>\n",
       "      <th>3</th>\n",
       "      <td>4</td>\n",
       "      <td>0</td>\n",
       "      <td>0</td>\n",
       "      <td>0</td>\n",
       "      <td>0</td>\n",
       "      <td>0</td>\n",
       "      <td>0</td>\n",
       "      <td>0</td>\n",
       "      <td>0</td>\n",
       "      <td>0</td>\n",
       "      <td>...</td>\n",
       "      <td>0</td>\n",
       "      <td>0</td>\n",
       "      <td>0</td>\n",
       "      <td>0</td>\n",
       "      <td>0</td>\n",
       "      <td>0</td>\n",
       "      <td>0</td>\n",
       "      <td>0</td>\n",
       "      <td>0</td>\n",
       "      <td>0</td>\n",
       "    </tr>\n",
       "    <tr>\n",
       "      <th>4</th>\n",
       "      <td>0</td>\n",
       "      <td>0</td>\n",
       "      <td>0</td>\n",
       "      <td>0</td>\n",
       "      <td>0</td>\n",
       "      <td>0</td>\n",
       "      <td>0</td>\n",
       "      <td>0</td>\n",
       "      <td>0</td>\n",
       "      <td>0</td>\n",
       "      <td>...</td>\n",
       "      <td>0</td>\n",
       "      <td>0</td>\n",
       "      <td>0</td>\n",
       "      <td>0</td>\n",
       "      <td>0</td>\n",
       "      <td>0</td>\n",
       "      <td>0</td>\n",
       "      <td>0</td>\n",
       "      <td>0</td>\n",
       "      <td>0</td>\n",
       "    </tr>\n",
       "  </tbody>\n",
       "</table>\n",
       "<p>5 rows × 785 columns</p>\n",
       "</div>"
      ],
      "text/plain": [
       "   label  pixel0  pixel1  pixel2  pixel3  pixel4  pixel5  pixel6  pixel7  \\\n",
       "0      1       0       0       0       0       0       0       0       0   \n",
       "1      0       0       0       0       0       0       0       0       0   \n",
       "2      1       0       0       0       0       0       0       0       0   \n",
       "3      4       0       0       0       0       0       0       0       0   \n",
       "4      0       0       0       0       0       0       0       0       0   \n",
       "\n",
       "   pixel8  ...  pixel774  pixel775  pixel776  pixel777  pixel778  pixel779  \\\n",
       "0       0  ...         0         0         0         0         0         0   \n",
       "1       0  ...         0         0         0         0         0         0   \n",
       "2       0  ...         0         0         0         0         0         0   \n",
       "3       0  ...         0         0         0         0         0         0   \n",
       "4       0  ...         0         0         0         0         0         0   \n",
       "\n",
       "   pixel780  pixel781  pixel782  pixel783  \n",
       "0         0         0         0         0  \n",
       "1         0         0         0         0  \n",
       "2         0         0         0         0  \n",
       "3         0         0         0         0  \n",
       "4         0         0         0         0  \n",
       "\n",
       "[5 rows x 785 columns]"
      ]
     },
     "metadata": {},
     "output_type": "display_data"
    },
    {
     "data": {
      "text/plain": [
       "(42000, 785)"
      ]
     },
     "metadata": {},
     "output_type": "display_data"
    }
   ],
   "source": [
    "df = pd.read_csv('data/mnist/train.csv')\n",
    "display(df.head(), df.shape)"
   ]
  },
  {
   "cell_type": "markdown",
   "metadata": {},
   "source": [
    "## 데이터의 명세를 파악해보자.\n",
    "* 픽셀값: 0~225 사이의 정수값\n",
    "* 픽셀값이 클수록 어두운 색상\n",
    "<br>\n",
    "\n",
    "Reference: [Digit Recognizer](https://www.kaggle.com/c/digit-recognizer/data)"
   ]
  },
  {
   "cell_type": "markdown",
   "metadata": {},
   "source": [
    "## 결측치, 이상치\n",
    "이미지에서 뽑은 데이터(픽셀값)이므로 이상치와 결측치가 존재하지 않는다."
   ]
  },
  {
   "cell_type": "markdown",
   "metadata": {},
   "source": [
    "## Data Visualization"
   ]
  },
  {
   "cell_type": "code",
   "execution_count": 3,
   "metadata": {},
   "outputs": [
    {
     "data": {
      "image/png": "[encoded data removed]",
      "text/plain": [
       "<Figure size 432x288 with 10 Axes>"
      ]
     },
     "metadata": {
      "needs_background": "light"
     },
     "output_type": "display_data"
    }
   ],
   "source": [
    "img_data = df.drop('label', axis=1, inplace=False).values # 픽셀 데이터 (2차원 ndarray)\n",
    "\n",
    "fig = plt.figure() # 도화지\n",
    "fig_arr = [] # 10개의 subplot을 생성해서 그 각각의 subplot을 리스트에 저장\n",
    "\n",
    "for n in range(10):\n",
    "    fig_arr.append(fig.add_subplot(2,5, n+1)) # 2행 5열, 몇번째: 1번째 부터 시작\n",
    "    fig_arr[n].imshow(img_data[n].reshape(28,28), cmap='Greys', interpolation='nearest') \n",
    "plt.tight_layout()\n",
    "plt.show()"
   ]
  },
  {
   "cell_type": "markdown",
   "metadata": {},
   "source": [
    "## 데이터 분할"
   ]
  },
  {
   "cell_type": "code",
   "execution_count": 4,
   "metadata": {},
   "outputs": [],
   "source": [
    "x_data_train, x_data_test, t_data_train, t_data_test = \\\n",
    "train_test_split(df.drop('label', axis=1, inplace=False), df['label'], test_size=0.3, random_state=0) # (2차원, 1차원)"
   ]
  },
  {
   "cell_type": "markdown",
   "metadata": {},
   "source": [
    "## 정규화"
   ]
  },
  {
   "cell_type": "code",
   "execution_count": 5,
   "metadata": {},
   "outputs": [],
   "source": [
    "scaler = MinMaxScaler()\n",
    "scaler.fit(x_data_train)\n",
    "x_data_train_norm = scaler.transform(x_data_train)\n",
    "\n",
    "scaler.fit(x_data_test)\n",
    "x_data_test_norm = scaler.transform(x_data_test)"
   ]
  },
  {
   "cell_type": "markdown",
   "metadata": {},
   "source": [
    "## One-hot Encoding"
   ]
  },
  {
   "cell_type": "code",
   "execution_count": 6,
   "metadata": {},
   "outputs": [],
   "source": [
    "sess = tf.Session()\n",
    "t_data_train_onehot = sess.run(tf.one_hot(t_data_train, depth=10)) \n",
    "t_data_test_onehot = sess.run(tf.one_hot(t_data_test, depth=10))"
   ]
  },
  {
   "cell_type": "markdown",
   "metadata": {},
   "source": [
    "## Tensorflow Graph"
   ]
  },
  {
   "cell_type": "code",
   "execution_count": 7,
   "metadata": {},
   "outputs": [],
   "source": [
    "# placeholder\n",
    "X = tf.placeholder(shape=[None, 784], dtype=tf.float32)\n",
    "T = tf.placeholder(shape=[None, 10], dtype=tf.float32)\n",
    "\n",
    "# Weight & bias\n",
    "W = tf.Variable(tf.random.normal([784, 10]), name='weight') # 7840개\n",
    "b = tf.Variable(tf.random.normal([10]), name='bias') # 10개\n",
    "        \n",
    "# Hypothesis\n",
    "logit = tf.matmul(X,W) + b\n",
    "H = tf.nn.softmax(logit)\n",
    "\n",
    "# loss\n",
    "loss = tf.reduce_mean(tf.nn.softmax_cross_entropy_with_logits_v2(logits=logit, labels=T))\n",
    "\n",
    "# gradient descent algorithm\n",
    "train = tf.train.GradientDescentOptimizer(learning_rate=1e-1).minimize(loss)"
   ]
  },
  {
   "cell_type": "markdown",
   "metadata": {},
   "source": [
    "## Learning"
   ]
  },
  {
   "cell_type": "code",
   "execution_count": 8,
   "metadata": {},
   "outputs": [],
   "source": [
    "# parameter\n",
    "num_of_epoch = 1000\n",
    "batch_size = 100\n",
    "\n",
    "def run_train(sess, train_x, train_t):\n",
    "    print('=====START LEARNING=====')\n",
    "    \n",
    "    # 초기화\n",
    "    sess.run(tf.global_variables_initializer())\n",
    "    \n",
    "    # 반복학습\n",
    "    for step in range(num_of_epoch):\n",
    "        total_batch = int(train_x.shape[0] / batch_size)\n",
    "        \n",
    "        for i in range(total_batch):\n",
    "            batch_x = train_x[i*batch_size: (i+1)*batch_size]\n",
    "            batch_t = train_t[i*batch_size: (i+1)*batch_size]\n",
    "            \n",
    "            _, loss_val = sess.run([train, loss], feed_dict={X: batch_x, T: batch_t})\n",
    "        \n",
    "        if step % 100 == 0:\n",
    "            print('Loss: {}'.format(loss_val))\n",
    "    print('=====FINISH LEARNING=====')"
   ]
  },
  {
   "cell_type": "markdown",
   "metadata": {},
   "source": [
    "## Accuracy"
   ]
  },
  {
   "cell_type": "code",
   "execution_count": 9,
   "metadata": {},
   "outputs": [],
   "source": [
    "predict = tf.argmax(H, axis=1)\n",
    "correct = tf.equal(predict, tf.argmax(T, axis=1))\n",
    "accuracy = tf.reduce_mean(tf.cast(correct, dtype=tf.float32))"
   ]
  },
  {
   "cell_type": "markdown",
   "metadata": {},
   "source": [
    "## K-fold Cross Validation"
   ]
  },
  {
   "cell_type": "code",
   "execution_count": 10,
   "metadata": {},
   "outputs": [
    {
     "name": "stdout",
     "output_type": "stream",
     "text": [
      "=====START LEARNING=====\n",
      "Loss: 2.6306164264678955\n",
      "Loss: 0.273072749376297\n",
      "Loss: 0.20051433145999908\n",
      "Loss: 0.1790030598640442\n",
      "Loss: 0.16765278577804565\n",
      "Loss: 0.160324364900589\n",
      "Loss: 0.1551019251346588\n",
      "Loss: 0.15109921991825104\n",
      "Loss: 0.14783591032028198\n",
      "Loss: 0.14503581821918488\n",
      "=====FINISH LEARNING=====\n",
      "=====START LEARNING=====\n",
      "Loss: 2.6717844009399414\n",
      "Loss: 0.2418769896030426\n",
      "Loss: 0.2040814906358719\n",
      "Loss: 0.1878291666507721\n",
      "Loss: 0.17785966396331787\n",
      "Loss: 0.17077237367630005\n",
      "Loss: 0.1652175486087799\n",
      "Loss: 0.1606026291847229\n",
      "Loss: 0.15665549039840698\n",
      "Loss: 0.15322643518447876\n",
      "=====FINISH LEARNING=====\n",
      "=====START LEARNING=====\n",
      "Loss: 3.164097309112549\n",
      "Loss: 0.2489638477563858\n",
      "Loss: 0.18074050545692444\n",
      "Loss: 0.14939309656620026\n",
      "Loss: 0.13214631378650665\n",
      "Loss: 0.12165557593107224\n",
      "Loss: 0.11470924317836761\n",
      "Loss: 0.1097869798541069\n",
      "Loss: 0.10611943900585175\n",
      "Loss: 0.10327891260385513\n",
      "=====FINISH LEARNING=====\n",
      "=====START LEARNING=====\n",
      "Loss: 2.8543174266815186\n",
      "Loss: 0.2485610842704773\n",
      "Loss: 0.18937358260154724\n",
      "Loss: 0.1642630398273468\n",
      "Loss: 0.15108206868171692\n",
      "Loss: 0.14298950135707855\n",
      "Loss: 0.13744258880615234\n",
      "Loss: 0.1333228051662445\n",
      "Loss: 0.13006973266601562\n",
      "Loss: 0.1273805946111679\n",
      "=====FINISH LEARNING=====\n",
      "=====START LEARNING=====\n",
      "Loss: 2.2120296955108643\n",
      "Loss: 0.18266010284423828\n",
      "Loss: 0.17111274600028992\n",
      "Loss: 0.16348797082901\n",
      "Loss: 0.15852810442447662\n",
      "Loss: 0.1550106555223465\n",
      "Loss: 0.1520446538925171\n",
      "Loss: 0.1492488980293274\n",
      "Loss: 0.1465015858411789\n",
      "Loss: 0.14378315210342407\n",
      "=====FINISH LEARNING=====\n",
      "각 Fold의 Accuracy: [0.90782315, 0.9064626, 0.9068027, 0.9059524, 0.90663266]\n",
      "K-fold Validation을 통한 우리 모델의 Accuracy: 0.9067346453666687\n"
     ]
    }
   ],
   "source": [
    "cv = 5\n",
    "results = []\n",
    "\n",
    "kf = KFold(n_splits=cv, shuffle=True)\n",
    "\n",
    "for training_idx, validation_idx in kf.split(x_data_train_norm):\n",
    "    # fancy indexing\n",
    "    training_x = x_data_train_norm[training_idx]\n",
    "    training_t = t_data_train_onehot[training_idx]\n",
    "    \n",
    "    validation_x = x_data_train_norm[validation_idx]\n",
    "    validation_t = t_data_train_onehot[validation_idx]\n",
    "    \n",
    "    # learning\n",
    "    run_train(sess, training_x, training_t)\n",
    "    \n",
    "    # validation\n",
    "    results.append(sess.run(accuracy, feed_dict={X: validation_x, T: validation_t}))\n",
    "    \n",
    "final_acc = np.mean(results)\n",
    "print('각 Fold의 Accuracy: {}'.format(results))\n",
    "print('K-fold Validation을 통한 우리 모델의 Accuracy: {}'.format(final_acc))"
   ]
  },
  {
   "cell_type": "markdown",
   "metadata": {},
   "source": [
    "## Testing"
   ]
  },
  {
   "cell_type": "code",
   "execution_count": 11,
   "metadata": {},
   "outputs": [
    {
     "name": "stdout",
     "output_type": "stream",
     "text": [
      "=====START LEARNING=====\n",
      "Loss: 1.8459428548812866\n",
      "Loss: 0.2462705671787262\n",
      "Loss: 0.19432052969932556\n",
      "Loss: 0.17188483476638794\n",
      "Loss: 0.16010664403438568\n",
      "Loss: 0.15301412343978882\n",
      "Loss: 0.1483079344034195\n",
      "Loss: 0.14495432376861572\n",
      "Loss: 0.1424129456281662\n",
      "Loss: 0.140374094247818\n",
      "=====FINISH LEARNING=====\n",
      "우리 모델의 최종 Accuracy: 0.9149206280708313\n"
     ]
    }
   ],
   "source": [
    "run_train(sess, x_data_train_norm, t_data_train_onehot)\n",
    "final_accuracy = sess.run(accuracy, feed_dict={X: x_data_test_norm, T: t_data_test_onehot})\n",
    "print('우리 모델의 최종 Accuracy: {}'.format(final_accuracy))"
   ]
  },
  {
   "cell_type": "markdown",
   "metadata": {},
   "source": [
    "## Evaluation Matrix\n",
    "* Precision\n",
    "* Recall\n",
    "* F1\n",
    "* Accuracy"
   ]
  },
  {
   "cell_type": "code",
   "execution_count": 12,
   "metadata": {},
   "outputs": [
    {
     "name": "stdout",
     "output_type": "stream",
     "text": [
      "              precision    recall  f1-score   support\n",
      "\n",
      "       num 0       0.96      0.95      0.95      1242\n",
      "       num 1       0.95      0.97      0.96      1429\n",
      "       num 2       0.91      0.89      0.90      1276\n",
      "       num 3       0.90      0.89      0.89      1298\n",
      "       num 4       0.92      0.91      0.92      1236\n",
      "       num 5       0.87      0.87      0.87      1119\n",
      "       num 6       0.93      0.95      0.94      1243\n",
      "       num 7       0.94      0.92      0.93      1334\n",
      "       num 8       0.88      0.87      0.88      1204\n",
      "       num 9       0.87      0.90      0.89      1219\n",
      "\n",
      "    accuracy                           0.91     12600\n",
      "   macro avg       0.91      0.91      0.91     12600\n",
      "weighted avg       0.91      0.91      0.91     12600\n",
      "\n"
     ]
    }
   ],
   "source": [
    "names = ['num 0', 'num 1', 'num 2', 'num 3', 'num 4', 'num 5', 'num 6', 'num 7', 'num 8', 'num 9']\n",
    "report = classification_report(t_data_test, \n",
    "                               sess.run(predict, feed_dict={X: x_data_test_norm}),\n",
    "                               target_names=names)\n",
    "print(report)"
   ]
  },
  {
   "cell_type": "markdown",
   "metadata": {},
   "source": [
    "# Confusion Matrix\n",
    "## Sample Code\n",
    "3개의 label(정답)이 있는 multinomial classification에 대해 예측값을 넣어서 confusion matrix를 출력"
   ]
  },
  {
   "cell_type": "code",
   "execution_count": 13,
   "metadata": {},
   "outputs": [
    {
     "name": "stdout",
     "output_type": "stream",
     "text": [
      "[[2 0 0]\n",
      " [0 0 1]\n",
      " [1 0 2]]\n"
     ]
    }
   ],
   "source": [
    "from sklearn.metrics import confusion_matrix\n",
    "y_true = [2, 0, 2, 2, 0, 1] # 정답\n",
    "y_pred = [0, 0, 2, 2, 0, 2] # 예측값\n",
    "print(confusion_matrix(y_true, y_pred)) # 2차원 ndarray"
   ]
  },
  {
   "cell_type": "markdown",
   "metadata": {},
   "source": [
    "## MNIST 적용"
   ]
  },
  {
   "cell_type": "code",
   "execution_count": 14,
   "metadata": {
    "scrolled": true
   },
   "outputs": [
    {
     "name": "stdout",
     "output_type": "stream",
     "text": [
      "[[1184    0   11    4    2   11   21    0    7    2]\n",
      " [   0 1391    8    6    1    3    5    0   12    3]\n",
      " [  10   19 1137   31   16    6   16   14   18    9]\n",
      " [   6    4   29 1159    1   49    3    9   23   15]\n",
      " [   4   14    9    2 1126    4   11    5   10   51]\n",
      " [   8    7    7   36    7  977   20    4   42   11]\n",
      " [   6    3   11    0   15   16 1186    0    6    0]\n",
      " [   2    6   19    8   18    5    0 1224    7   45]\n",
      " [   6   16   14   33    6   42   12    4 1050   21]\n",
      " [  13    3    3   13   31    9    0   41   12 1094]]\n"
     ]
    }
   ],
   "source": [
    "confusion_mtrx = confusion_matrix(t_data_test, sess.run(predict, feed_dict={X: x_data_test_norm}))\n",
    "                     \n",
    "print(confusion_mtrx) # 예) 49: 3을 5로 잘못 예측"
   ]
  },
  {
   "cell_type": "code",
   "execution_count": 18,
   "metadata": {},
   "outputs": [
    {
     "data": {
      "image/png": "[encoded data removed]",
      "text/plain": [
       "<Figure size 432x288 with 2 Axes>"
      ]
     },
     "metadata": {
      "needs_background": "light"
     },
     "output_type": "display_data"
    }
   ],
   "source": [
    "import seaborn as sns\n",
    "\n",
    "sns.heatmap(confusion_mtrx, annot=True, fmt='d', cmap='YlGnBu')\n",
    "plt.title('MNIST Confusion Matrix', fontsize=20)\n",
    "plt.show()"
   ]
  },
  {
   "cell_type": "markdown",
   "metadata": {},
   "source": [
    "## 실제 이미지를 가지고 예측\n",
    "이미지 전처리 필요 (우리 모델이 예측할 수 있는 형태로 입력 데이터를 가공해주어야 함)\n",
    "* 이미지 하나 구하기\n",
    "* 입력 이미지 -> 예측"
   ]
  },
  {
   "cell_type": "code",
   "execution_count": 30,
   "metadata": {},
   "outputs": [
    {
     "name": "stdout",
     "output_type": "stream",
     "text": [
      "(572, 406, 3)\n",
      "(572, 406)\n"
     ]
    },
    {
     "data": {
      "image/png": "[encoded data removed]",
      "text/plain": [
       "<Figure size 432x288 with 1 Axes>"
      ]
     },
     "metadata": {
      "needs_background": "light"
     },
     "output_type": "display_data"
    },
    {
     "name": "stdout",
     "output_type": "stream",
     "text": [
      "이미지의 크기: 232232\n",
      "이미지의 형태: (572, 406)\n"
     ]
    },
    {
     "data": {
      "image/png": "[encoded data removed]",
      "text/plain": [
       "<Figure size 432x288 with 1 Axes>"
      ]
     },
     "metadata": {
      "needs_background": "light"
     },
     "output_type": "display_data"
    },
    {
     "name": "stdout",
     "output_type": "stream",
     "text": [
      "예측값: [8]\n"
     ]
    }
   ],
   "source": [
    "import numpy as np\n",
    "import cv2\n",
    "from PIL import Image\n",
    "import matplotlib.pyplot as plt\n",
    "\n",
    "# 이미지 파일을 컬러로 읽어오기\n",
    "my_img = cv2.imread('data/mnist/number.jpg', cv2.IMREAD_COLOR) \n",
    "print(my_img.shape) # (572, 406, 3)\n",
    "\n",
    "# 컬러 이미지를 흑백 이미지(Grayscale)로 변경\n",
    "# 즉, 3차원 데이터를 2차원 형태로 변경\n",
    "im_grey = cv2.cvtColor(my_img, cv2.COLOR_BGR2GRAY) \n",
    "print(im_grey.shape) # (572, 406)\n",
    "\n",
    "# 최종 이미지 파일을 생성 (2차원 흑백 이미지)\n",
    "# MNIST의 입력 데이터\n",
    "cv2.imwrite('data/mnist/number_grey.jpg', im_grey)\n",
    "\n",
    "# 흑백 이미지 파일을 Matplotlib으로 출력해보자.\n",
    "img = Image.open('data/mnist/number_grey.jpg') # JPG 객체 반환\n",
    "plt.imshow(img, cmap='Greys') # 2차원 데이터에 색깔 정보가 없으므로 color map을 넣어야됨\n",
    "plt.show()\n",
    "\n",
    "# 사이즈 처리 (28x28)\n",
    "pixel = np.array(img) # 이미지 객체의 픽셀 정보(2차원 ndarray)\n",
    "print('이미지의 크기: {}'.format(pixel.size))\n",
    "print('이미지의 형태: {}'.format(pixel.shape))\n",
    "\n",
    "resize_img = img.resize((28,28)) # resize(tuple): Pillow 기능 중 하나로 이미지 처리가 쉬워짐\n",
    "plt.imshow(resize_img, cmap='Greys') # 2차원 데이터에 색깔 정보가 없으므로 color map 넣어야됨\n",
    "plt.show()\n",
    "\n",
    "# 이미지 반전 처리 (바탕색: 흰색, 숫자: 검정색)\n",
    "# 흰색: (0,0,0)을 검정색: (255,255,255)로 반전하기 위해서는 255에서 현재 RGB 값을 빼면 된다.\n",
    "img_grey = 255 - np.array(resize_img)\n",
    "\n",
    "# 픽셀 정규화 처리\n",
    "x_img = img_grey.reshape(-1, 784)\n",
    "x_img_norm = scaler.transform(x_img)\n",
    "\n",
    "# Prediction\n",
    "result = sess.run(predict, feed_dict={X: x_img_norm})\n",
    "print('예측값: {}'.format(result))"
   ]
  }
 ],
 "metadata": {
  "kernelspec": {
   "display_name": "Python [conda env:data_env] *",
   "language": "python",
   "name": "conda-env-data_env-py"
  },
  "language_info": {
   "codemirror_mode": {
    "name": "ipython",
    "version": 3
   },
   "file_extension": ".py",
   "mimetype": "text/x-python",
   "name": "python",
   "nbconvert_exporter": "python",
   "pygments_lexer": "ipython3",
   "version": "3.7.9"
  }
 },
 "nbformat": 4,
 "nbformat_minor": 4
}
