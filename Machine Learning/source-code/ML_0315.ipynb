{
 "cells": [
  {
   "cell_type": "markdown",
   "metadata": {},
   "source": [
    "# Perceptron (Logistic Regression)"
   ]
  },
  {
   "cell_type": "code",
   "execution_count": 5,
   "metadata": {},
   "outputs": [],
   "source": [
    "import numpy as np\n",
    "import tensorflow as tf\n",
    "from sklearn.metrics import classification_report"
   ]
  },
  {
   "cell_type": "markdown",
   "metadata": {},
   "source": [
    "## AND GATE"
   ]
  },
  {
   "cell_type": "code",
   "execution_count": 13,
   "metadata": {
    "scrolled": true
   },
   "outputs": [
    {
     "name": "stdout",
     "output_type": "stream",
     "text": [
      "loss: 1.1326847076416016\n",
      "loss: 0.2773377299308777\n",
      "loss: 0.19282066822052002\n",
      "loss: 0.1484033465385437\n",
      "loss: 0.12048400938510895\n",
      "loss: 0.10123542696237564\n",
      "loss: 0.0871618390083313\n",
      "loss: 0.07643470168113708\n",
      "loss: 0.067997045814991\n",
      "loss: 0.06119384989142418\n"
     ]
    }
   ],
   "source": [
    "# Training Data Set\n",
    "x_data = np.array([[0,0], [0,1], [1,0], [1,1]], dtype=np.float32) # 진리표\n",
    "t_data = np.array([[0], [0], [0], [1]], dtype=np.float32) \n",
    "\n",
    "# placeholder\n",
    "X = tf.placeholder(shape=[None, 2], dtype=tf.float32)\n",
    "T = tf.placeholder(shape=[None, 1], dtype=tf.float32)\n",
    "\n",
    "# Weight, bias\n",
    "W = tf.Variable(tf.random.normal([2,1]))\n",
    "b = tf.Variable(tf.random.normal([1])) # logistic 한개\n",
    "\n",
    "# Hypothesis\n",
    "logit = tf.matmul(X,W) + b\n",
    "H = tf.sigmoid(logit)\n",
    "\n",
    "# loss\n",
    "loss = tf.reduce_mean(tf.nn.sigmoid_cross_entropy_with_logits(logits=logit, labels=T))\n",
    "\n",
    "# train\n",
    "train = tf.train.GradientDescentOptimizer(learning_rate=1e-2).minimize(loss)\n",
    "\n",
    "# learning\n",
    "sess = tf.Session()\n",
    "sess.run(tf.global_variables_initializer())\n",
    "\n",
    "for step in range(30000):\n",
    "    _, loss_val = sess.run([train, loss], feed_dict={X: x_data, T: t_data})\n",
    "    \n",
    "    if step % 3000 == 0:\n",
    "        print('loss: {}'.format(loss_val))"
   ]
  },
  {
   "cell_type": "markdown",
   "metadata": {},
   "source": [
    "### Accuracy"
   ]
  },
  {
   "cell_type": "code",
   "execution_count": 16,
   "metadata": {},
   "outputs": [
    {
     "name": "stdout",
     "output_type": "stream",
     "text": [
      "              precision    recall  f1-score   support\n",
      "\n",
      "         0.0       1.00      1.00      1.00         3\n",
      "         1.0       1.00      1.00      1.00         1\n",
      "\n",
      "    accuracy                           1.00         4\n",
      "   macro avg       1.00      1.00      1.00         4\n",
      "weighted avg       1.00      1.00      1.00         4\n",
      "\n"
     ]
    }
   ],
   "source": [
    "accuracy = tf.cast(H >= 0.5, dtype=tf.float32) # True -> 1.0, False -> 0.0\n",
    "result = sess.run(accuracy, feed_dict={X: x_data})\n",
    "print(classification_report(t_data.ravel(), result.ravel())) # 1: 제대로 학습해서 예측도 제대로 했음"
   ]
  },
  {
   "cell_type": "markdown",
   "metadata": {},
   "source": [
    "## OR GATE"
   ]
  },
  {
   "cell_type": "code",
   "execution_count": 17,
   "metadata": {},
   "outputs": [
    {
     "name": "stdout",
     "output_type": "stream",
     "text": [
      "loss: 2.3947064876556396\n",
      "loss: 0.17993371188640594\n",
      "loss: 0.12029272317886353\n",
      "loss: 0.08933382481336594\n",
      "loss: 0.07061828672885895\n",
      "loss: 0.05818072706460953\n",
      "loss: 0.04935995489358902\n",
      "loss: 0.04280002787709236\n",
      "loss: 0.037741728127002716\n",
      "loss: 0.03372882679104805\n"
     ]
    }
   ],
   "source": [
    "# Training Data Set\n",
    "x_data = np.array([[0,0], [0,1], [1,0], [1,1]], dtype=np.float32) # 진리표\n",
    "t_data = np.array([[0], [1], [1], [1]], dtype=np.float32) \n",
    "\n",
    "# placeholder\n",
    "X = tf.placeholder(shape=[None, 2], dtype=tf.float32)\n",
    "T = tf.placeholder(shape=[None, 1], dtype=tf.float32)\n",
    "\n",
    "# Weight, bias\n",
    "W = tf.Variable(tf.random.normal([2,1]))\n",
    "b = tf.Variable(tf.random.normal([1])) # logistic 한개\n",
    "\n",
    "# Hypothesis\n",
    "logit = tf.matmul(X,W) + b\n",
    "H = tf.sigmoid(logit)\n",
    "\n",
    "# loss\n",
    "loss = tf.reduce_mean(tf.nn.sigmoid_cross_entropy_with_logits(logits=logit, labels=T))\n",
    "\n",
    "# train\n",
    "train = tf.train.GradientDescentOptimizer(learning_rate=1e-2).minimize(loss)\n",
    "\n",
    "# learning\n",
    "sess = tf.Session()\n",
    "sess.run(tf.global_variables_initializer())\n",
    "\n",
    "for step in range(30000):\n",
    "    _, loss_val = sess.run([train, loss], feed_dict={X: x_data, T: t_data})\n",
    "    \n",
    "    if step % 3000 == 0:\n",
    "        print('loss: {}'.format(loss_val))"
   ]
  },
  {
   "cell_type": "markdown",
   "metadata": {},
   "source": [
    "### Accuracy"
   ]
  },
  {
   "cell_type": "code",
   "execution_count": 19,
   "metadata": {},
   "outputs": [
    {
     "name": "stdout",
     "output_type": "stream",
     "text": [
      "              precision    recall  f1-score   support\n",
      "\n",
      "         0.0       1.00      1.00      1.00         1\n",
      "         1.0       1.00      1.00      1.00         3\n",
      "\n",
      "    accuracy                           1.00         4\n",
      "   macro avg       1.00      1.00      1.00         4\n",
      "weighted avg       1.00      1.00      1.00         4\n",
      "\n"
     ]
    }
   ],
   "source": [
    "accuracy = tf.cast(H >= 0.5, dtype=tf.float32) \n",
    "result = sess.run(accuracy, feed_dict={X: x_data})\n",
    "print(classification_report(t_data.ravel(), result.ravel())) # 1: OR Gate를 제대로 수행"
   ]
  },
  {
   "cell_type": "markdown",
   "metadata": {},
   "source": [
    "## XOR GATE"
   ]
  },
  {
   "cell_type": "code",
   "execution_count": 20,
   "metadata": {},
   "outputs": [
    {
     "name": "stdout",
     "output_type": "stream",
     "text": [
      "loss: 0.7644169330596924\n",
      "loss: 0.6960136890411377\n",
      "loss: 0.6933112740516663\n",
      "loss: 0.6931602358818054\n",
      "loss: 0.6931483745574951\n",
      "loss: 0.6931473016738892\n",
      "loss: 0.6931471824645996\n",
      "loss: 0.6931471824645996\n",
      "loss: 0.6931471824645996\n",
      "loss: 0.6931471824645996\n"
     ]
    }
   ],
   "source": [
    "# Training Data Set\n",
    "x_data = np.array([[0,0], [0,1], [1,0], [1,1]], dtype=np.float32) # 진리표\n",
    "t_data = np.array([[0], [1], [1], [0]], dtype=np.float32) \n",
    "\n",
    "# placeholder\n",
    "X = tf.placeholder(shape=[None, 2], dtype=tf.float32)\n",
    "T = tf.placeholder(shape=[None, 1], dtype=tf.float32)\n",
    "\n",
    "# Weight, bias\n",
    "W = tf.Variable(tf.random.normal([2,1]))\n",
    "b = tf.Variable(tf.random.normal([1])) # logistic 한개\n",
    "\n",
    "# Hypothesis\n",
    "logit = tf.matmul(X,W) + b\n",
    "H = tf.sigmoid(logit)\n",
    "\n",
    "# loss\n",
    "loss = tf.reduce_mean(tf.nn.sigmoid_cross_entropy_with_logits(logits=logit, labels=T))\n",
    "\n",
    "# train\n",
    "train = tf.train.GradientDescentOptimizer(learning_rate=1e-2).minimize(loss)\n",
    "\n",
    "# learning\n",
    "sess = tf.Session()\n",
    "sess.run(tf.global_variables_initializer())\n",
    "\n",
    "for step in range(30000):\n",
    "    _, loss_val = sess.run([train, loss], feed_dict={X: x_data, T: t_data})\n",
    "    \n",
    "    if step % 3000 == 0:\n",
    "        print('loss: {}'.format(loss_val))"
   ]
  },
  {
   "cell_type": "markdown",
   "metadata": {},
   "source": [
    "### Accuracy"
   ]
  },
  {
   "cell_type": "code",
   "execution_count": 21,
   "metadata": {},
   "outputs": [
    {
     "name": "stdout",
     "output_type": "stream",
     "text": [
      "              precision    recall  f1-score   support\n",
      "\n",
      "         0.0       0.33      0.50      0.40         2\n",
      "         1.0       0.00      0.00      0.00         2\n",
      "\n",
      "    accuracy                           0.25         4\n",
      "   macro avg       0.17      0.25      0.20         4\n",
      "weighted avg       0.17      0.25      0.20         4\n",
      "\n"
     ]
    }
   ],
   "source": [
    "accuracy = tf.cast(H >= 0.5, dtype=tf.float32) \n",
    "result = sess.run(accuracy, feed_dict={X: x_data})\n",
    "print(classification_report(t_data.ravel(), result.ravel())) # 0: XOR Gate 연산을 제대로 수행하지 못함"
   ]
  }
 ],
 "metadata": {
  "kernelspec": {
   "display_name": "Python [conda env:data_env]",
   "language": "python",
   "name": "conda-env-data_env-py"
  },
  "language_info": {
   "codemirror_mode": {
    "name": "ipython",
    "version": 3
   },
   "file_extension": ".py",
   "mimetype": "text/x-python",
   "name": "python",
   "nbconvert_exporter": "python",
   "pygments_lexer": "ipython3",
   "version": "3.7.9"
  }
 },
 "nbformat": 4,
 "nbformat_minor": 4
}
