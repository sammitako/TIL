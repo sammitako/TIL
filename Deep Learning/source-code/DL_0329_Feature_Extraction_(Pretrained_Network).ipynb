{
  "nbformat": 4,
  "nbformat_minor": 0,
  "metadata": {
    "colab": {
      "name": "DL_0329_Feature Extraction (Pretrained Network).ipynb",
      "provenance": [],
      "collapsed_sections": []
    },
    "kernelspec": {
      "name": "python3",
      "display_name": "Python 3"
    },
    "language_info": {
      "name": "python"
    },
    "accelerator": "GPU"
  },
  "cells": [
    {
      "cell_type": "markdown",
      "metadata": {
        "id": "-wejBnE7QIep"
      },
      "source": [
        "# Pretrained Network"
      ]
    },
    {
      "cell_type": "markdown",
      "metadata": {
        "id": "VWl851TAQMbm"
      },
      "source": [
        "## VGG16"
      ]
    },
    {
      "cell_type": "code",
      "metadata": {
        "colab": {
          "base_uri": "https://localhost:8080/"
        },
        "id": "cad0E-QVPmgt",
        "outputId": "d1bc9baa-53d0-400c-a676-727a64d6d9ee"
      },
      "source": [
        "from tensorflow.keras.applications import VGG16\n",
        "\n",
        "# 기학습된 모델\n",
        "# 16: Convolution Layer의 개수\n",
        "model_base = VGG16(weights='imagenet',\n",
        "                   include_top=False,\n",
        "                   input_shape=(150,150,3))\n",
        "\n",
        "model_base.summary() # Activation Map(FC Layer의 입력 데이터): (None, 4, 4, 512) "
      ],
      "execution_count": 1,
      "outputs": [
        {
          "output_type": "stream",
          "text": [
            "Downloading data from https://storage.googleapis.com/tensorflow/keras-applications/vgg16/vgg16_weights_tf_dim_ordering_tf_kernels_notop.h5\n",
            "58892288/58889256 [==============================] - 1s 0us/step\n",
            "Model: \"vgg16\"\n",
            "_________________________________________________________________\n",
            "Layer (type)                 Output Shape              Param #   \n",
            "=================================================================\n",
            "input_1 (InputLayer)         [(None, 150, 150, 3)]     0         \n",
            "_________________________________________________________________\n",
            "block1_conv1 (Conv2D)        (None, 150, 150, 64)      1792      \n",
            "_________________________________________________________________\n",
            "block1_conv2 (Conv2D)        (None, 150, 150, 64)      36928     \n",
            "_________________________________________________________________\n",
            "block1_pool (MaxPooling2D)   (None, 75, 75, 64)        0         \n",
            "_________________________________________________________________\n",
            "block2_conv1 (Conv2D)        (None, 75, 75, 128)       73856     \n",
            "_________________________________________________________________\n",
            "block2_conv2 (Conv2D)        (None, 75, 75, 128)       147584    \n",
            "_________________________________________________________________\n",
            "block2_pool (MaxPooling2D)   (None, 37, 37, 128)       0         \n",
            "_________________________________________________________________\n",
            "block3_conv1 (Conv2D)        (None, 37, 37, 256)       295168    \n",
            "_________________________________________________________________\n",
            "block3_conv2 (Conv2D)        (None, 37, 37, 256)       590080    \n",
            "_________________________________________________________________\n",
            "block3_conv3 (Conv2D)        (None, 37, 37, 256)       590080    \n",
            "_________________________________________________________________\n",
            "block3_pool (MaxPooling2D)   (None, 18, 18, 256)       0         \n",
            "_________________________________________________________________\n",
            "block4_conv1 (Conv2D)        (None, 18, 18, 512)       1180160   \n",
            "_________________________________________________________________\n",
            "block4_conv2 (Conv2D)        (None, 18, 18, 512)       2359808   \n",
            "_________________________________________________________________\n",
            "block4_conv3 (Conv2D)        (None, 18, 18, 512)       2359808   \n",
            "_________________________________________________________________\n",
            "block4_pool (MaxPooling2D)   (None, 9, 9, 512)         0         \n",
            "_________________________________________________________________\n",
            "block5_conv1 (Conv2D)        (None, 9, 9, 512)         2359808   \n",
            "_________________________________________________________________\n",
            "block5_conv2 (Conv2D)        (None, 9, 9, 512)         2359808   \n",
            "_________________________________________________________________\n",
            "block5_conv3 (Conv2D)        (None, 9, 9, 512)         2359808   \n",
            "_________________________________________________________________\n",
            "block5_pool (MaxPooling2D)   (None, 4, 4, 512)         0         \n",
            "=================================================================\n",
            "Total params: 14,714,688\n",
            "Trainable params: 14,714,688\n",
            "Non-trainable params: 0\n",
            "_________________________________________________________________\n"
          ],
          "name": "stdout"
        }
      ]
    },
    {
      "cell_type": "markdown",
      "metadata": {
        "id": "iLF7_feHXOtm"
      },
      "source": [
        "## Cats & Dogs Training Data Set에 대한 Activation Map 추출"
      ]
    },
    {
      "cell_type": "code",
      "metadata": {
        "colab": {
          "base_uri": "https://localhost:8080/"
        },
        "id": "JKMqgCBgQLIS",
        "outputId": "8d97e8b1-88ee-40b2-ef7a-365f510640ab"
      },
      "source": [
        "import os\n",
        "import numpy as np\n",
        "from tensorflow.keras.preprocessing.image import ImageDataGenerator\n",
        "\n",
        "# 경로 설정\n",
        "base_dir = '/content/drive/MyDrive/ML Colab/data/CAT_DOG/cat_dog_small'\n",
        "train_dir = os.path.join(base_dir, 'train')\n",
        "validation_dir = os.path.join(base_dir, 'validation')\n",
        "\n",
        "# ImageDataGenerator 생성 (데이터 증식 제외)\n",
        "datagen = ImageDataGenerator(rescale=1/255)\n",
        "\n",
        "# 배치 사이즈 설정 (ImageDataGenerator - 무한히 반복하여 데이터를 추출)\n",
        "batch_size = 20\n",
        "\n",
        "# 입력 이미지에 대해 VGG16을 적용하여 특징을 추출하는 함수 생성 (->Activation Map)\n",
        "# 개와 고양이 폴더를 합친 총 데이터의 개수인 sample_count중에서 batch_size개씩을 이미지를 가져옴\n",
        "def extract_feature(directory, sample_count): # 입력 데이터 폴더, 데이터 개수\n",
        "    \n",
        "    # 최종 결과물 features: Activation Map(Numpy Array)\n",
        "\t\t# 기학습된 모델에 배치 사이즈만큼 입력 데이터를 넣어서 나온 결과를 features에 추가해줄 것이다.\n",
        "    features = np.zeros(shape=(sample_count, 4,4,512)) \n",
        "\n",
        "    # 분류값(1차원: feature 이미지 하나 당 값 1개로 표현)\n",
        "    labels = np.zeros(shape=(sample_count,)) \n",
        "\n",
        "    # 특정 폴더의 이미지를 가져와서 generator 생성\n",
        "    generator = datagen.flow_from_directory(\n",
        "          directory, # 이미지 폴더\n",
        "          target_size=(150,150)\n",
        "          batch_size=batch_size # 1epoch 당 가져올 데이터의 개수\n",
        "          class_mode='binary'\n",
        "    )\n",
        "\n",
        "    # 이미지로부터 픽셀 데이터와 레이블을 generator의 batch_size만큼 가져옴\n",
        "    i = 0\n",
        "    for x_data_batch, t_data_batch in generator:\n",
        "      # Convolution layer, Pooling layer에 이미지 입력\n",
        "      feature_batch = model_base.predict(x_data_batch) # 최종 예측값이 나와야하지만 Classifier를 제외했으므로 Activation Map이 나옴\n",
        "      features[i*batch_size:(i+1)*batch_size] = feature_batch # 행단위로 추가됨\n",
        "      labels[i*batch_size:(i+1)*batch_size] = t_data_batch\n",
        "\n",
        "      i += 1\n",
        "      \n",
        "      if i*batch_size >= sample_count:\n",
        "        break\n",
        "\n",
        "    return features, labels\n",
        "\n",
        "# Feature Extraction 실행\n",
        "train_features, train_labels = extract_feature(train_dir, 2000)\n",
        "validation_features, validation_labels = extract_feature(validation_dir, 1000)"
      ],
      "execution_count": 8,
      "outputs": [
        {
          "output_type": "stream",
          "text": [
            "Found 2000 images belonging to 2 classes.\n",
            "Found 1000 images belonging to 2 classes.\n"
          ],
          "name": "stdout"
        }
      ]
    },
    {
      "cell_type": "markdown",
      "metadata": {
        "id": "Vbdv3RY5jwxb"
      },
      "source": [
        "## Classifier\n",
        "Activation Map을 FC Layer의 입력 데이터로 사용"
      ]
    },
    {
      "cell_type": "code",
      "metadata": {
        "colab": {
          "base_uri": "https://localhost:8080/"
        },
        "id": "tCSxomFEfcsh",
        "outputId": "6b837da6-18f0-4b2a-8a72-76d9b29d5e71"
      },
      "source": [
        "# 2차원 데이터로 변경\n",
        "train_features = np.reshape(train_features, (2000, 4*4*512))\n",
        "validation_features = np.reshape(validation_features, (1000, 4*4*512))\n",
        "\n",
        "# DNN\n",
        "from tensorflow.keras.models import Sequential\n",
        "from tensorflow.keras.layers import Dense, Dropout\n",
        "from tensorflow.keras.optimizers import Adam\n",
        "\n",
        "# 모델 생성\n",
        "model = Sequential()\n",
        "\n",
        "# FC Layer\n",
        "model.add(Dense(256, activation='relu', input_shape=(4*4*512,)))\n",
        "\n",
        "# Dropout\n",
        "model.add(Dropout(0.5))\n",
        "\n",
        "# Output Layer\n",
        "model.add(Dense(1, activation='sigmoid'))\n",
        "\n",
        "# Optimizer\n",
        "model.compile(optimizer=Adam(learning_rate=1e-4),\n",
        "              loss='binary_crossentropy',\n",
        "              metrics=['accuracy'])\n",
        "\n",
        "# learning\n",
        "history = model.fit(train_features, train_labels,\n",
        "                    epochs=30, batch_size=64, \n",
        "                    validation_data=(validation_features, validation_labels))"
      ],
      "execution_count": 9,
      "outputs": [
        {
          "output_type": "stream",
          "text": [
            "Epoch 1/30\n",
            "32/32 [==============================] - 1s 16ms/step - loss: 0.6212 - accuracy: 0.6624 - val_loss: 0.3485 - val_accuracy: 0.8630\n",
            "Epoch 2/30\n",
            "32/32 [==============================] - 0s 6ms/step - loss: 0.3411 - accuracy: 0.8499 - val_loss: 0.2916 - val_accuracy: 0.8920\n",
            "Epoch 3/30\n",
            "32/32 [==============================] - 0s 6ms/step - loss: 0.2837 - accuracy: 0.8894 - val_loss: 0.2661 - val_accuracy: 0.8970\n",
            "Epoch 4/30\n",
            "32/32 [==============================] - 0s 6ms/step - loss: 0.2267 - accuracy: 0.9169 - val_loss: 0.2595 - val_accuracy: 0.8990\n",
            "Epoch 5/30\n",
            "32/32 [==============================] - 0s 6ms/step - loss: 0.1941 - accuracy: 0.9306 - val_loss: 0.2439 - val_accuracy: 0.9070\n",
            "Epoch 6/30\n",
            "32/32 [==============================] - 0s 6ms/step - loss: 0.1952 - accuracy: 0.9295 - val_loss: 0.2360 - val_accuracy: 0.9090\n",
            "Epoch 7/30\n",
            "32/32 [==============================] - 0s 6ms/step - loss: 0.1682 - accuracy: 0.9391 - val_loss: 0.2360 - val_accuracy: 0.9070\n",
            "Epoch 8/30\n",
            "32/32 [==============================] - 0s 6ms/step - loss: 0.1447 - accuracy: 0.9496 - val_loss: 0.2371 - val_accuracy: 0.9040\n",
            "Epoch 9/30\n",
            "32/32 [==============================] - 0s 5ms/step - loss: 0.1287 - accuracy: 0.9601 - val_loss: 0.2326 - val_accuracy: 0.9020\n",
            "Epoch 10/30\n",
            "32/32 [==============================] - 0s 6ms/step - loss: 0.1268 - accuracy: 0.9599 - val_loss: 0.2667 - val_accuracy: 0.8840\n",
            "Epoch 11/30\n",
            "32/32 [==============================] - 0s 6ms/step - loss: 0.1355 - accuracy: 0.9515 - val_loss: 0.2413 - val_accuracy: 0.9010\n",
            "Epoch 12/30\n",
            "32/32 [==============================] - 0s 6ms/step - loss: 0.1133 - accuracy: 0.9616 - val_loss: 0.2392 - val_accuracy: 0.9070\n",
            "Epoch 13/30\n",
            "32/32 [==============================] - 0s 6ms/step - loss: 0.1167 - accuracy: 0.9531 - val_loss: 0.2312 - val_accuracy: 0.9090\n",
            "Epoch 14/30\n",
            "32/32 [==============================] - 0s 6ms/step - loss: 0.0860 - accuracy: 0.9778 - val_loss: 0.2323 - val_accuracy: 0.9050\n",
            "Epoch 15/30\n",
            "32/32 [==============================] - 0s 6ms/step - loss: 0.0819 - accuracy: 0.9821 - val_loss: 0.2550 - val_accuracy: 0.9000\n",
            "Epoch 16/30\n",
            "32/32 [==============================] - 0s 6ms/step - loss: 0.0645 - accuracy: 0.9886 - val_loss: 0.2374 - val_accuracy: 0.9030\n",
            "Epoch 17/30\n",
            "32/32 [==============================] - 0s 6ms/step - loss: 0.0664 - accuracy: 0.9843 - val_loss: 0.2339 - val_accuracy: 0.9080\n",
            "Epoch 18/30\n",
            "32/32 [==============================] - 0s 6ms/step - loss: 0.0578 - accuracy: 0.9874 - val_loss: 0.2365 - val_accuracy: 0.9070\n",
            "Epoch 19/30\n",
            "32/32 [==============================] - 0s 6ms/step - loss: 0.0547 - accuracy: 0.9938 - val_loss: 0.2557 - val_accuracy: 0.8980\n",
            "Epoch 20/30\n",
            "32/32 [==============================] - 0s 6ms/step - loss: 0.0604 - accuracy: 0.9882 - val_loss: 0.2427 - val_accuracy: 0.9060\n",
            "Epoch 21/30\n",
            "32/32 [==============================] - 0s 6ms/step - loss: 0.0527 - accuracy: 0.9915 - val_loss: 0.2446 - val_accuracy: 0.9050\n",
            "Epoch 22/30\n",
            "32/32 [==============================] - 0s 6ms/step - loss: 0.0462 - accuracy: 0.9921 - val_loss: 0.2525 - val_accuracy: 0.9060\n",
            "Epoch 23/30\n",
            "32/32 [==============================] - 0s 6ms/step - loss: 0.0448 - accuracy: 0.9915 - val_loss: 0.2466 - val_accuracy: 0.9070\n",
            "Epoch 24/30\n",
            "32/32 [==============================] - 0s 5ms/step - loss: 0.0373 - accuracy: 0.9978 - val_loss: 0.2543 - val_accuracy: 0.9080\n",
            "Epoch 25/30\n",
            "32/32 [==============================] - 0s 5ms/step - loss: 0.0348 - accuracy: 0.9957 - val_loss: 0.2499 - val_accuracy: 0.9050\n",
            "Epoch 26/30\n",
            "32/32 [==============================] - 0s 6ms/step - loss: 0.0355 - accuracy: 0.9978 - val_loss: 0.2515 - val_accuracy: 0.9050\n",
            "Epoch 27/30\n",
            "32/32 [==============================] - 0s 6ms/step - loss: 0.0314 - accuracy: 0.9993 - val_loss: 0.2616 - val_accuracy: 0.9080\n",
            "Epoch 28/30\n",
            "32/32 [==============================] - 0s 6ms/step - loss: 0.0315 - accuracy: 0.9996 - val_loss: 0.2543 - val_accuracy: 0.9040\n",
            "Epoch 29/30\n",
            "32/32 [==============================] - 0s 6ms/step - loss: 0.0287 - accuracy: 0.9992 - val_loss: 0.2640 - val_accuracy: 0.9070\n",
            "Epoch 30/30\n",
            "32/32 [==============================] - 0s 6ms/step - loss: 0.0272 - accuracy: 0.9994 - val_loss: 0.2603 - val_accuracy: 0.9100\n"
          ],
          "name": "stdout"
        }
      ]
    }
  ]
}