{
 "cells": [
  {
   "cell_type": "markdown",
   "metadata": {},
   "source": [
    "# Logistic Regression"
   ]
  },
  {
   "cell_type": "code",
   "execution_count": 2,
   "metadata": {},
   "outputs": [],
   "source": [
    "import numpy as np\n",
    "from sklearn import linear_model\n",
    "import mglearn\n",
    "import warnings\n",
    "import matplotlib.pyplot as plt\n",
    "\n",
    "# warning off\n",
    "warnings.filterwarnings(action='ignore')"
   ]
  },
  {
   "cell_type": "markdown",
   "metadata": {},
   "source": [
    "## Training Data Set"
   ]
  },
  {
   "cell_type": "code",
   "execution_count": 5,
   "metadata": {},
   "outputs": [
    {
     "name": "stdout",
     "output_type": "stream",
     "text": [
      "[[ 9.96346605  4.59676542]\n",
      " [11.0329545  -0.16816717]\n",
      " [11.54155807  5.21116083]\n",
      " [ 8.69289001  1.54322016]\n",
      " [ 8.1062269   4.28695977]\n",
      " [ 8.30988863  4.80623966]\n",
      " [11.93027136  4.64866327]\n",
      " [ 9.67284681 -0.20283165]\n",
      " [ 8.34810316  5.13415623]\n",
      " [ 8.67494727  4.47573059]\n",
      " [ 9.17748385  5.09283177]\n",
      " [10.24028948  2.45544401]\n",
      " [ 8.68937095  1.48709629]\n",
      " [ 8.92229526 -0.63993225]\n",
      " [ 9.49123469  4.33224792]\n",
      " [ 9.25694192  5.13284858]\n",
      " [ 7.99815287  4.8525051 ]\n",
      " [ 8.18378052  1.29564214]\n",
      " [ 8.7337095   2.49162431]\n",
      " [ 9.32298256  5.09840649]\n",
      " [10.06393839  0.99078055]\n",
      " [ 9.50048972 -0.26430318]\n",
      " [ 8.34468785  1.63824349]\n",
      " [ 9.50169345  1.93824624]\n",
      " [ 9.15072323  5.49832246]\n",
      " [11.563957    1.3389402 ]]\n",
      "[1 0 1 0 0 1 1 0 1 1 1 1 0 0 1 1 1 0 0 1 0 0 0 0 1 0]\n"
     ]
    }
   ],
   "source": [
    "x, y = mglearn.datasets.make_forge() # tuple\n",
    "print(x) # x축 좌표, y축 좌표\n",
    "print(y) # 점의 형태"
   ]
  },
  {
   "cell_type": "code",
   "execution_count": 16,
   "metadata": {},
   "outputs": [
    {
     "data": {
      "text/plain": [
       "[<matplotlib.lines.Line2D at 0x7fc809808d90>,\n",
       " <matplotlib.lines.Line2D at 0x7fc8098161d0>]"
      ]
     },
     "execution_count": 16,
     "metadata": {},
     "output_type": "execute_result"
    },
    {
     "data": {
      "image/png": "[encoded data removed]",
      "text/plain": [
       "<Figure size 432x288 with 1 Axes>"
      ]
     },
     "metadata": {
      "needs_background": "light"
     },
     "output_type": "display_data"
    }
   ],
   "source": [
    "mglearn.discrete_scatter(x[:,0], x[:,1], y)"
   ]
  },
  {
   "cell_type": "markdown",
   "metadata": {},
   "source": [
    "## Linear Regression\n",
    "Training Data Set을 가장 잘 표현하는 직선을 그려라."
   ]
  },
  {
   "cell_type": "code",
   "execution_count": 18,
   "metadata": {},
   "outputs": [
    {
     "name": "stdout",
     "output_type": "stream",
     "text": [
      "[[-0.17382295]]\n",
      "[4.5982984]\n"
     ]
    },
    {
     "data": {
      "image/png": "[encoded data removed]",
      "text/plain": [
       "<Figure size 432x288 with 1 Axes>"
      ]
     },
     "metadata": {
      "needs_background": "light"
     },
     "output_type": "display_data"
    }
   ],
   "source": [
    "# model\n",
    "model = linear_model.LinearRegression()\n",
    "\n",
    "# learning\n",
    "model.fit(x[:,0].reshape(-1,1), x[:,1].reshape(-1,1))\n",
    "\n",
    "# 결과\n",
    "print(model.coef_) # Weight: [[-0.17382295]]\n",
    "print(model.intercept_) # bias: [4.5982984]\n",
    "\n",
    "# Visualization\n",
    "mglearn.discrete_scatter(x[:,0], x[:,1], y)\n",
    "plt.plot(x[:,0], x[:,0] * model.coef_.ravel() + model.intercept_) # (x, y) 그래프\n",
    "plt.show()"
   ]
  },
  {
   "cell_type": "markdown",
   "metadata": {},
   "source": [
    "### 그러면 Linear Regression 직선으로는 분류 작업을 할 수 없을까?\n",
    "공부시간에 따른 합격 여부를 판단해보자."
   ]
  },
  {
   "cell_type": "markdown",
   "metadata": {},
   "source": [
    "* <b>지대점이 존재하지 않을 경우 -> 예측 가능</b>"
   ]
  },
  {
   "cell_type": "code",
   "execution_count": 24,
   "metadata": {},
   "outputs": [
    {
     "name": "stdout",
     "output_type": "stream",
     "text": [
      "기울기: [[0.1292517]], 절편: [-0.27210884]\n"
     ]
    },
    {
     "data": {
      "image/png": "[encoded data removed]",
      "text/plain": [
       "<Figure size 432x288 with 1 Axes>"
      ]
     },
     "metadata": {
      "needs_background": "light"
     },
     "output_type": "display_data"
    },
    {
     "name": "stdout",
     "output_type": "stream",
     "text": [
      "[[0.63265306]]\n",
      "[5.97368421]\n"
     ]
    }
   ],
   "source": [
    "import numpy as np\n",
    "from sklearn import linear_model\n",
    "import matplotlib.pyplot as plt\n",
    "\n",
    "# Training Data Set\n",
    "x_data = np.array([1, 2, 5, 8, 10]) # 공부시간\n",
    "t_data = np.array([0, 0, 0, 1, 1])  # 합격여부 (0: Fail, 1: Pass)\n",
    "\n",
    "# sklearn\n",
    "model = linear_model.LinearRegression()\n",
    "model.fit(x_data.reshape(-1,1), t_data.reshape(-1,1))\n",
    "print('기울기: {}, 절편: {}'.format(model.coef_, model.intercept_))\n",
    "\n",
    "# visualization\n",
    "plt.scatter(x_data, t_data)\n",
    "plt.plot(x_data, x_data * model.coef_.ravel() + model.intercept_)\n",
    "plt.show()\n",
    "\n",
    "# prediction\n",
    "result = model.predict([[7]])\n",
    "print(result) # [[0.63265306]] => 0.5보다 크기 때문에 시험에 합격으로 간주\n",
    "\n",
    "# 그럼 시험에 통과하기 위한 최소 시간?\n",
    "time = (0.5 - model.intercept_) / model.coef_.ravel()\n",
    "print(time) # [5.97368421]"
   ]
  },
  {
   "cell_type": "markdown",
   "metadata": {},
   "source": [
    "* <b>실제 데이터가 지대점처럼 보이는 경우 -> 예측 불가</b> <br>\n",
    "<br>\n",
    "따라서 데이터에 따라 예측결과가 달라지므로 Linear Regression으로는 문제 해결이 안된다."
   ]
  },
  {
   "cell_type": "code",
   "execution_count": 25,
   "metadata": {},
   "outputs": [
    {
     "name": "stdout",
     "output_type": "stream",
     "text": [
      "기울기: [[0.03500583]], 절편: [0.17327888]\n"
     ]
    },
    {
     "data": {
      "image/png": "[encoded data removed]",
      "text/plain": [
       "<Figure size 432x288 with 1 Axes>"
      ]
     },
     "metadata": {
      "needs_background": "light"
     },
     "output_type": "display_data"
    },
    {
     "name": "stdout",
     "output_type": "stream",
     "text": [
      "[[0.41831972]]\n",
      "[9.33333333]\n"
     ]
    }
   ],
   "source": [
    "import numpy as np\n",
    "from sklearn import linear_model\n",
    "import matplotlib.pyplot as plt\n",
    "\n",
    "# Training Data Set\n",
    "x_data = np.array([1, 2, 5, 8, 10, 30]) # 공부시간\n",
    "t_data = np.array([0, 0, 0, 1, 1, 1])  # 합격여부 (0: Fail, 1: Pass)\n",
    "\n",
    "# sklearn\n",
    "model = linear_model.LinearRegression()\n",
    "model.fit(x_data.reshape(-1,1), t_data.reshape(-1,1))\n",
    "print('기울기: {}, 절편: {}'.format(model.coef_, model.intercept_))\n",
    "\n",
    "# visualization\n",
    "plt.scatter(x_data, t_data)\n",
    "plt.plot(x_data, x_data * model.coef_.ravel() + model.intercept_)\n",
    "plt.show()\n",
    "\n",
    "# prediction\n",
    "result = model.predict([[7]])\n",
    "print(result) # [[0.41831972]] => 0.5보다 작기 때문에 시험에 불합격으로 간주\n",
    "\n",
    "# 그럼 시험에 통과하기 위한 최소 시간?\n",
    "time = (0.5 - model.intercept_) / model.coef_.ravel()\n",
    "print(time) # [9.33333333]"
   ]
  },
  {
   "cell_type": "markdown",
   "metadata": {},
   "source": [
    "## Logistic Regression\n",
    "시그모이드 함수의 형태를 살펴보자."
   ]
  },
  {
   "cell_type": "code",
   "execution_count": 26,
   "metadata": {},
   "outputs": [
    {
     "data": {
      "image/png": "[encoded data removed]",
      "text/plain": [
       "<Figure size 432x288 with 1 Axes>"
      ]
     },
     "metadata": {
      "needs_background": "light"
     },
     "output_type": "display_data"
    }
   ],
   "source": [
    "import numpy as np\n",
    "import matplotlib.pyplot as plt\n",
    "\n",
    "x_data = np.arange(-7, 8)\n",
    "sigmoid_t_data = 1 / (1 + np.exp(-1 * x_data))\n",
    "\n",
    "plt.plot(x_data, sigmoid_t_data)\n",
    "plt.show()"
   ]
  },
  {
   "cell_type": "markdown",
   "metadata": {},
   "source": [
    "### 그럼, 공부 시간에 따른 시험 함격 여부에 대한 데이터로 학습 후 예측을 해보자.\n",
    "* 독립변수: 공부시간 (1개)\n",
    "* Simple Logistic Regression"
   ]
  },
  {
   "cell_type": "markdown",
   "metadata": {},
   "source": [
    "### Training Data Set"
   ]
  },
  {
   "cell_type": "code",
   "execution_count": 39,
   "metadata": {},
   "outputs": [],
   "source": [
    "x_data = np.arange(2,21, 2).reshape(-1,1) # 공부시간(독립변수): 2 ~ 20 짝수\n",
    "t_data = np.array([0,0,0,0,0,0,1,1,1,1]).reshape(-1,1)  # 합격여부(14시간부터 합격)"
   ]
  },
  {
   "cell_type": "markdown",
   "metadata": {},
   "source": [
    "### Python"
   ]
  },
  {
   "cell_type": "code",
   "execution_count": 34,
   "metadata": {},
   "outputs": [
    {
     "name": "stdout",
     "output_type": "stream",
     "text": [
      "W: [0.61634402], b: [0.83812458], loss: 31.084563636559768\n",
      "W: [0.25396711], b: [-2.97342113], loss: 3.0170486947984667\n",
      "W: [0.37154708], b: [-4.54839051], loss: 2.1656165416188413\n",
      "W: [0.44953782], b: [-5.59003483], loss: 1.7989241322686622\n",
      "W: [0.50964056], b: [-6.39073464], loss: 1.5831537572251195\n",
      "W: [0.55936499], b: [-7.05174161], loss: 1.4363451358839723\n",
      "W: [0.60223054], b: [-7.62052878], loss: 1.3277292060983215\n",
      "W: [0.64018536], b: [-8.12337171], loss: 1.242876050539615\n",
      "W: [0.67442833], b: [-8.57643292], loss: 1.1740104743788582\n",
      "W: [0.70575359], b: [-8.99041104], loss: 1.1165235026655151\n"
     ]
    }
   ],
   "source": [
    "import numpy as np\n",
    "\n",
    "# 수치미분함수\n",
    "def numerical_derivative(f, x):\n",
    "    # f: 손실함수, x: ndarray => [W, b]\n",
    "    \n",
    "    delta_x = 1e-4\n",
    "    derivative_x = np.zeros_like(x) \n",
    "    \n",
    "    it = np.nditer(x, flags=['multi_index'])\n",
    "    \n",
    "    while not it.finished: \n",
    "        idx = it.multi_index \n",
    "        tmp = x[idx]                        \n",
    "\n",
    "        x[idx] = tmp + delta_x \n",
    "        fx_plus_delta = f(x) \n",
    "        \n",
    "        x[idx] = tmp - delta_x\n",
    "        fx_minus_delta = f(x) \n",
    "        \n",
    "        derivative_x[idx] = (fx_plus_delta - fx_minus_delta) / (2 * delta_x)\n",
    "        \n",
    "        x[idx] = tmp \n",
    "    \n",
    "        it.iternext() \n",
    "        \n",
    "    return derivative_x\n",
    "\n",
    "\n",
    "\n",
    "# W, b\n",
    "W = np.random.rand(1,1) # 행렬곱 연산을 위해 2차원 배열로 생성\n",
    "b = np.random.rand(1)   # braodcasting\n",
    "    \n",
    "# loss function\n",
    "def loss_func(input_obj): #[W, b]\n",
    "    input_W = input_obj[0]\n",
    "    input_b = input_obj[1]\n",
    "    \n",
    "    # linear regression hypothesis\n",
    "    z = np.dot(x_data, input_W) + input_b\n",
    "    \n",
    "    # logistic regression hypothesis\n",
    "    y = 1 / (1 + np.exp(-1 * z))\n",
    "    \n",
    "    \n",
    "    # cross entropy\n",
    "    # 로그 연산 시, 무한대로 발산하는 경우를 방지하기위해 delta 값 설정\n",
    "    delta = 1e-7 # 아주 작은 더미값\n",
    "    \n",
    "    log_loss = -np.sum(t_data*np.log(y+delta) + (1 - t_data)*np.log(1 - y+delta)) \n",
    "    \n",
    "    return log_loss\n",
    "\n",
    "# learning rate\n",
    "learning_rate = 1e-4\n",
    "\n",
    "# learning - Gradient Descent Algorithm 수행\n",
    "for step in range(300000):\n",
    "    # [W b]\n",
    "    input_param = np.concatenate((W.ravel(), b), axis=0)\n",
    "    \n",
    "    # learning_rate * 편미분\n",
    "    derivative_result = learning_rate * numerical_derivative(loss_func, input_param)\n",
    "    \n",
    "    # W, b 갱신\n",
    "    W = W - derivative_result[0].reshape(-1, 1)\n",
    "    b = b - derivative_result[1]\n",
    "    \n",
    "    if step % 30000 == 0:\n",
    "        input_param = np.concatenate((W.ravel(), b), axis=0)\n",
    "        print('W: {}, b: {}, loss: {}'.format(W.ravel(), b, loss_func(input_param)))\n",
    "    "
   ]
  },
  {
   "cell_type": "markdown",
   "metadata": {},
   "source": [
    "### Python Prediction\n",
    "13시간 공부할 경우?"
   ]
  },
  {
   "cell_type": "code",
   "execution_count": 35,
   "metadata": {},
   "outputs": [
    {
     "name": "stdout",
     "output_type": "stream",
     "text": [
      "(1, array([[0.54451492]]))\n"
     ]
    }
   ],
   "source": [
    "def logistic_predict(x): # x = [[13]]\n",
    "    z = np.dot(x, W) + b\n",
    "    y = 1 / (1 + np.exp(-1 * z))\n",
    "    \n",
    "    if y < 0.5:\n",
    "        result = 0\n",
    "    else:\n",
    "        result = 1\n",
    "        \n",
    "    return result, y # (result: 결과값, y: 확률값)\n",
    "\n",
    "study_hour = np.array([[13]])\n",
    "print(logistic_predict(study_hour)) # 결과: 1(합격), 확률: 0.54451492"
   ]
  },
  {
   "cell_type": "markdown",
   "metadata": {},
   "source": [
    "### Tensorflow"
   ]
  },
  {
   "cell_type": "code",
   "execution_count": 5,
   "metadata": {},
   "outputs": [
    {
     "name": "stdout",
     "output_type": "stream",
     "text": [
      "W: [[0.4479966]], b: [-0.11997605], loss: 1.8789024353027344\n",
      "W: [[0.08274794]], b: [-0.6647921], loss: 0.5540010333061218\n",
      "W: [[0.11516709]], b: [-1.1050949], loss: 0.4889136850833893\n",
      "W: [[0.14348446]], b: [-1.4878873], loss: 0.43972525000572205\n",
      "W: [[0.16849104]], b: [-1.8249409], loss: 0.4016006886959076\n",
      "W: [[0.19081108]], b: [-2.1252987], loss: 0.37132471799850464\n",
      "W: [[0.210955]], b: [-2.3959947], loss: 0.3467347323894501\n",
      "W: [[0.22930133]], b: [-2.642423], loss: 0.32636183500289917\n",
      "W: [[0.2461758]], b: [-2.8688328], loss: 0.309181272983551\n",
      "W: [[0.26175717]], b: [-3.0778663], loss: 0.29451385140419006\n"
     ]
    }
   ],
   "source": [
    "import tensorflow as tf\n",
    "\n",
    "# Training Data Set\n",
    "x_data = np.arange(2,21, 2).reshape(-1,1)\n",
    "t_data = np.array([0,0,0,0,0,0,1,1,1,1]).reshape(-1,1)\n",
    "\n",
    "# placeholder\n",
    "X = tf.placeholder(shape=[None,1], dtype=tf.float32)\n",
    "T = tf.placeholder(shape=[None,1], dtype=tf.float32)\n",
    "\n",
    "# W, b\n",
    "W = tf.Variable(tf.random.normal([1,1]), name='weight')\n",
    "b = tf.Variable(tf.random.normal([1]), name='bias')\n",
    "\n",
    "# model\n",
    "linear_model = tf.matmul(X, W) + b \n",
    "H = tf.sigmoid(linear_model) \n",
    "\n",
    "# log loss\n",
    "loss = tf.reduce_mean(tf.nn.sigmoid_cross_entropy_with_logits(logits=linear_model, labels=T))\n",
    "\n",
    "# gradient descent algorithm\n",
    "train = tf.train.GradientDescentOptimizer(learning_rate=1e-4).minimize(loss)\n",
    "\n",
    "# learning\n",
    "sess = tf.Session()\n",
    "sess.run(tf.global_variables_initializer())\n",
    "\n",
    "for step in range(300000):\n",
    "    _, W_val, b_val, loss_val = sess.run([train, W, b, loss], feed_dict={X: x_data, T: t_data})\n",
    "    \n",
    "    if step % 30000 == 0:\n",
    "        print('W: {}, b: {}, loss: {}'.format(W_val, b_val, loss_val))"
   ]
  },
  {
   "cell_type": "markdown",
   "metadata": {},
   "source": [
    "### Tensorflow Prediction\n",
    "13시간 공부할 경우?"
   ]
  },
  {
   "cell_type": "code",
   "execution_count": 6,
   "metadata": {},
   "outputs": [
    {
     "name": "stdout",
     "output_type": "stream",
     "text": [
      "[[0.5790821]]\n"
     ]
    }
   ],
   "source": [
    "study_hour = np.array([[13]])\n",
    "result = sess.run(H, feed_dict={X: study_hour})\n",
    "print(result) # [[0.5790821]] 확률로 합격"
   ]
  },
  {
   "cell_type": "markdown",
   "metadata": {},
   "source": [
    "### Scikit-learn"
   ]
  },
  {
   "cell_type": "code",
   "execution_count": 37,
   "metadata": {},
   "outputs": [
    {
     "name": "stdout",
     "output_type": "stream",
     "text": [
      "W: [[0.96460076]], b: [-12.54018553], 확률: [[0.50009391 0.49990609]]\n",
      "[0]\n"
     ]
    }
   ],
   "source": [
    "from sklearn import linear_model\n",
    "\n",
    "model = linear_model.LogisticRegression()\n",
    "model.fit(x_data, t_data.ravel()) # 2번째 인자 - 1차원\n",
    "result = model.predict(study_hour)\n",
    "result_proba = model.predict_proba(study_hour) # [[떨어질 확률, 합격할 확률]]\n",
    "\n",
    "print('W: {}, b: {}, 확률: {}'.format(model.coef_, model.intercept_, result_proba))\n",
    "print(result) # 0: 불합격"
   ]
  }
 ],
 "metadata": {
  "kernelspec": {
   "display_name": "Python [conda env:data_env] *",
   "language": "python",
   "name": "conda-env-data_env-py"
  },
  "language_info": {
   "codemirror_mode": {
    "name": "ipython",
    "version": 3
   },
   "file_extension": ".py",
   "mimetype": "text/x-python",
   "name": "python",
   "nbconvert_exporter": "python",
   "pygments_lexer": "ipython3",
   "version": "3.7.9"
  }
 },
 "nbformat": 4,
 "nbformat_minor": 4
}
