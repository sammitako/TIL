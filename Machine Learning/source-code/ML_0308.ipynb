{
 "cells": [
  {
   "cell_type": "markdown",
   "metadata": {},
   "source": [
    "# BMI 예제를 통한 K-fold Cross Validation 구현"
   ]
  },
  {
   "cell_type": "code",
   "execution_count": 1,
   "metadata": {},
   "outputs": [],
   "source": [
    "import numpy as np\n",
    "import pandas as pd\n",
    "import matplotlib.pyplot as plt\n",
    "import tensorflow as tf\n",
    "from sklearn.preprocessing import MinMaxScaler\n",
    "\n",
    "from sklearn.model_selection import train_test_split\n",
    "from sklearn.model_selection import KFold"
   ]
  },
  {
   "cell_type": "code",
   "execution_count": 2,
   "metadata": {
    "scrolled": true
   },
   "outputs": [
    {
     "data": {
      "text/html": [
       "<div>\n",
       "<style scoped>\n",
       "    .dataframe tbody tr th:only-of-type {\n",
       "        vertical-align: middle;\n",
       "    }\n",
       "\n",
       "    .dataframe tbody tr th {\n",
       "        vertical-align: top;\n",
       "    }\n",
       "\n",
       "    .dataframe thead th {\n",
       "        text-align: right;\n",
       "    }\n",
       "</style>\n",
       "<table border=\"1\" class=\"dataframe\">\n",
       "  <thead>\n",
       "    <tr style=\"text-align: right;\">\n",
       "      <th></th>\n",
       "      <th>label</th>\n",
       "      <th>height</th>\n",
       "      <th>weight</th>\n",
       "    </tr>\n",
       "  </thead>\n",
       "  <tbody>\n",
       "    <tr>\n",
       "      <th>0</th>\n",
       "      <td>1</td>\n",
       "      <td>188</td>\n",
       "      <td>71</td>\n",
       "    </tr>\n",
       "    <tr>\n",
       "      <th>1</th>\n",
       "      <td>2</td>\n",
       "      <td>161</td>\n",
       "      <td>68</td>\n",
       "    </tr>\n",
       "    <tr>\n",
       "      <th>2</th>\n",
       "      <td>0</td>\n",
       "      <td>178</td>\n",
       "      <td>52</td>\n",
       "    </tr>\n",
       "    <tr>\n",
       "      <th>3</th>\n",
       "      <td>2</td>\n",
       "      <td>136</td>\n",
       "      <td>63</td>\n",
       "    </tr>\n",
       "    <tr>\n",
       "      <th>4</th>\n",
       "      <td>1</td>\n",
       "      <td>145</td>\n",
       "      <td>52</td>\n",
       "    </tr>\n",
       "    <tr>\n",
       "      <th>...</th>\n",
       "      <td>...</td>\n",
       "      <td>...</td>\n",
       "      <td>...</td>\n",
       "    </tr>\n",
       "    <tr>\n",
       "      <th>19995</th>\n",
       "      <td>0</td>\n",
       "      <td>163</td>\n",
       "      <td>48</td>\n",
       "    </tr>\n",
       "    <tr>\n",
       "      <th>19996</th>\n",
       "      <td>2</td>\n",
       "      <td>139</td>\n",
       "      <td>70</td>\n",
       "    </tr>\n",
       "    <tr>\n",
       "      <th>19997</th>\n",
       "      <td>1</td>\n",
       "      <td>150</td>\n",
       "      <td>48</td>\n",
       "    </tr>\n",
       "    <tr>\n",
       "      <th>19998</th>\n",
       "      <td>1</td>\n",
       "      <td>189</td>\n",
       "      <td>69</td>\n",
       "    </tr>\n",
       "    <tr>\n",
       "      <th>19999</th>\n",
       "      <td>1</td>\n",
       "      <td>142</td>\n",
       "      <td>41</td>\n",
       "    </tr>\n",
       "  </tbody>\n",
       "</table>\n",
       "<p>20000 rows × 3 columns</p>\n",
       "</div>"
      ],
      "text/plain": [
       "       label  height  weight\n",
       "0          1     188      71\n",
       "1          2     161      68\n",
       "2          0     178      52\n",
       "3          2     136      63\n",
       "4          1     145      52\n",
       "...      ...     ...     ...\n",
       "19995      0     163      48\n",
       "19996      2     139      70\n",
       "19997      1     150      48\n",
       "19998      1     189      69\n",
       "19999      1     142      41\n",
       "\n",
       "[20000 rows x 3 columns]"
      ]
     },
     "metadata": {},
     "output_type": "display_data"
    }
   ],
   "source": [
    "df = pd.read_csv('data/bmi.csv', skiprows=3)\n",
    "display(df) # label: 0(저체중), 1(정상), 2(과체중)"
   ]
  },
  {
   "cell_type": "markdown",
   "metadata": {},
   "source": [
    "## 상관분석\n",
    "종속변수(레이블)에 영향을 미치지 않는 feature(필드, 속성)을 제외\n",
    "* 1: 상관관계 있음\n",
    "* 0: 상관관계 없음"
   ]
  },
  {
   "cell_type": "markdown",
   "metadata": {},
   "source": [
    "## Data Preprocessing"
   ]
  },
  {
   "cell_type": "markdown",
   "metadata": {},
   "source": [
    "### 결측치 처리"
   ]
  },
  {
   "cell_type": "code",
   "execution_count": 33,
   "metadata": {},
   "outputs": [
    {
     "name": "stdout",
     "output_type": "stream",
     "text": [
      "<class 'pandas.core.frame.DataFrame'>\n",
      "RangeIndex: 20000 entries, 0 to 19999\n",
      "Data columns (total 3 columns):\n",
      " #   Column  Non-Null Count  Dtype\n",
      "---  ------  --------------  -----\n",
      " 0   label   20000 non-null  int64\n",
      " 1   height  20000 non-null  int64\n",
      " 2   weight  20000 non-null  int64\n",
      "dtypes: int64(3)\n",
      "memory usage: 468.9 KB\n",
      "None\n"
     ]
    }
   ],
   "source": [
    "# 결측치 확인\n",
    "print(df.info())"
   ]
  },
  {
   "cell_type": "markdown",
   "metadata": {},
   "source": [
    "### 이상치 처리"
   ]
  },
  {
   "cell_type": "code",
   "execution_count": 34,
   "metadata": {},
   "outputs": [
    {
     "data": {
      "image/png": "[encoded data removed]",
      "text/plain": [
       "<Figure size 432x288 with 3 Axes>"
      ]
     },
     "metadata": {
      "needs_background": "light"
     },
     "output_type": "display_data"
    }
   ],
   "source": [
    "# 이상치 확인\n",
    "fig = plt.figure()\n",
    "fig_label = fig.add_subplot(1,3,1)\n",
    "fig_height = fig.add_subplot(1,3,2)\n",
    "fig_weight = fig.add_subplot(1,3,3)\n",
    "\n",
    "fig_label.set_title('label')\n",
    "fig_label.boxplot(df['label'])\n",
    "\n",
    "fig_height.set_title('height')\n",
    "fig_height.boxplot(df['height'])\n",
    "\n",
    "fig_weight.set_title('weight')\n",
    "fig_weight.boxplot(df['weight'])\n",
    "\n",
    "fig.tight_layout()\n",
    "plt.show()"
   ]
  },
  {
   "cell_type": "markdown",
   "metadata": {},
   "source": [
    "### Data Split - Train Data, Test Data\n"
   ]
  },
  {
   "cell_type": "code",
   "execution_count": 3,
   "metadata": {},
   "outputs": [],
   "source": [
    "x_train, x_test, t_train, t_test = \\\n",
    "train_test_split(df[['height', 'weight']], df['label'], \n",
    "                 test_size=0.3, random_state=0)"
   ]
  },
  {
   "cell_type": "markdown",
   "metadata": {},
   "source": [
    "### 정규화"
   ]
  },
  {
   "cell_type": "code",
   "execution_count": 5,
   "metadata": {},
   "outputs": [
    {
     "name": "stdout",
     "output_type": "stream",
     "text": [
      "[[0.9375     0.8       ]\n",
      " [0.         0.86666667]\n",
      " [0.0125     0.57777778]\n",
      " ...\n",
      " [0.325      0.97777778]\n",
      " [0.6875     0.73333333]\n",
      " [0.75       0.48888889]]\n"
     ]
    }
   ],
   "source": [
    "scaler_x = MinMaxScaler()\n",
    "\n",
    "scaler_x.fit(x_train)\n",
    "x_train_norm = scaler_x.transform(x_train)\n",
    "\n",
    "scaler_x.fit(x_test)\n",
    "x_test_norm = scaler_x.transform(x_test)\n",
    "\n",
    "print(x_train_norm)\n",
    "\n",
    "# 안쓰는 변수 삭제\n",
    "del x_train\n",
    "del x_test"
   ]
  },
  {
   "cell_type": "markdown",
   "metadata": {},
   "source": [
    "### One-hot Encoding"
   ]
  },
  {
   "cell_type": "code",
   "execution_count": 6,
   "metadata": {},
   "outputs": [
    {
     "name": "stdout",
     "output_type": "stream",
     "text": [
      "[[0. 1. 0.]\n",
      " [0. 0. 1.]\n",
      " [0. 0. 1.]\n",
      " ...\n",
      " [0. 0. 1.]\n",
      " [0. 1. 0.]\n",
      " [1. 0. 0.]]\n"
     ]
    }
   ],
   "source": [
    "sess = tf.Session()\n",
    "t_train_onehot = sess.run(tf.one_hot(t_train, depth=3))\n",
    "t_test_onehot = sess.run(tf.one_hot(t_test, depth=3))\n",
    "\n",
    "# 안쓰는 변수 삭제\n",
    "del t_train\n",
    "del t_test\n",
    "\n",
    "print(t_train_onehot)"
   ]
  },
  {
   "cell_type": "markdown",
   "metadata": {},
   "source": [
    "## Softmax Regression\n",
    "### tensorflow node 생성"
   ]
  },
  {
   "cell_type": "code",
   "execution_count": 7,
   "metadata": {},
   "outputs": [],
   "source": [
    "# X, T\n",
    "X = tf.placeholder(shape=[None,2], dtype=tf.float32)\n",
    "T = tf.placeholder(shape=[None,3], dtype=tf.float32)\n",
    "\n",
    "# W, b\n",
    "W = tf.Variable(tf.random.normal([2,3]), name='weight')\n",
    "b = tf.Variable(tf.random.normal([3]), name='bias')\n",
    "\n",
    "# Hypothesis\n",
    "logit = tf.matmul(X, W) + b\n",
    "H = tf.nn.softmax(logit)\n",
    "\n",
    "# log loss\n",
    "loss = tf.reduce_mean(tf.nn.softmax_cross_entropy_with_logits_v2(logits=logit, labels=T))\n",
    "\n",
    "# gradient descent algorithm\n",
    "train = tf.train.GradientDescentOptimizer(learning_rate=0.1).minimize(loss)"
   ]
  },
  {
   "cell_type": "markdown",
   "metadata": {},
   "source": [
    "### 배치 처리"
   ]
  },
  {
   "cell_type": "code",
   "execution_count": 8,
   "metadata": {},
   "outputs": [],
   "source": [
    "# parameter\n",
    "num_of_epoch = 1000\n",
    "batch_size = 100"
   ]
  },
  {
   "cell_type": "markdown",
   "metadata": {},
   "source": [
    "### 학습용 함수\n",
    "* K-fold Cross Validation 진행 시, 실행할 함수\n",
    "* 학습에 필요한 3가지 인자: 세션 객체, 학습용 x_data, 학습용 t_data"
   ]
  },
  {
   "cell_type": "code",
   "execution_count": 9,
   "metadata": {},
   "outputs": [],
   "source": [
    "def run_train(sess, train_x, train_t):\n",
    "    print('=====START LEARNING=====')\n",
    "    \n",
    "    # 초기화\n",
    "    sess.run(tf.global_variables_initializer())\n",
    "    \n",
    "    # 반복학습\n",
    "    for step in range(num_of_epoch):\n",
    "        # 1 epoch: 입력 데이터(train_x)를 100개씩 잘라서 총 140번 학습\n",
    "        total_batch = int(train_x.shape[0] / batch_size) # shape: (14000, 2)\n",
    "        \n",
    "        for i in range(total_batch):\n",
    "            # 100개씩: 0~99, 100~199, ...\n",
    "            batch_x = train_x[i*batch_size:(i+1)*batch_size] \n",
    "            batch_t = train_t[i*batch_size:(i+1)*batch_size]\n",
    "            _, loss_val = sess.run([train, loss], feed_dict={X: batch_x, T: batch_t})\n",
    "            \n",
    "        if step % 100 == 0:\n",
    "            print('Loss: {}'.format(loss_val))\n",
    "    \n",
    "    print('=====FINISH LEARNING=====')"
   ]
  },
  {
   "cell_type": "markdown",
   "metadata": {},
   "source": [
    "## Accuracy\n",
    "* Ture를 True로 맞추고, False를 False로 맞춘 비율\n",
    "* `tf.argmax()`: 현재 가지고 있는 numpy array 중 가장 큰 값의 인덱스를 알려줌"
   ]
  },
  {
   "cell_type": "code",
   "execution_count": 10,
   "metadata": {
    "scrolled": true
   },
   "outputs": [
    {
     "name": "stdout",
     "output_type": "stream",
     "text": [
      "=====START LEARNING=====\n",
      "Loss: 1.0097393989562988\n",
      "Loss: 0.205830380320549\n",
      "Loss: 0.16252490878105164\n",
      "Loss: 0.14284533262252808\n",
      "Loss: 0.13104629516601562\n",
      "Loss: 0.12297458946704865\n",
      "Loss: 0.11700376868247986\n",
      "Loss: 0.11235222220420837\n",
      "Loss: 0.10859201103448868\n",
      "Loss: 0.10546697676181793\n",
      "=====FINISH LEARNING=====\n",
      "Accuracy : 0.9827142953872681\n"
     ]
    }
   ],
   "source": [
    "predict = tf.argmax(H, 1) # axis=1: 열방향으로 비교\n",
    "correct = tf.equal(predict, tf.argmax(T, 1)) # True or False?\n",
    "accuracy = tf.reduce_mean(tf.cast(correct, dtype=tf.float32)) # cast: 1 or 0\n",
    "\n",
    "# learning\n",
    "run_train(sess, x_train_norm, t_train_onehot)\n",
    "\n",
    "# Training Data Set을 이용하여 성능평가 (X)\n",
    "result = sess.run(accuracy, feed_dict={X: x_train_norm, T: t_train_onehot})\n",
    "\n",
    "print('Accuracy : {}'.format(result))"
   ]
  },
  {
   "cell_type": "markdown",
   "metadata": {},
   "source": [
    "## K-fold Cross Validation\n",
    "전체 데이터 양이 적은 경우, 학습 모델에 대한 성능 평가 방법"
   ]
  },
  {
   "cell_type": "code",
   "execution_count": 11,
   "metadata": {},
   "outputs": [
    {
     "name": "stdout",
     "output_type": "stream",
     "text": [
      "=====START LEARNING=====\n",
      "Loss: 0.8705247640609741\n",
      "Loss: 0.1947106122970581\n",
      "Loss: 0.14953257143497467\n",
      "Loss: 0.12870106101036072\n",
      "Loss: 0.11614877730607986\n",
      "Loss: 0.10755503922700882\n",
      "Loss: 0.1012067049741745\n",
      "Loss: 0.09627267718315125\n",
      "Loss: 0.09229623526334763\n",
      "Loss: 0.08900299668312073\n",
      "=====FINISH LEARNING=====\n",
      "=====START LEARNING=====\n",
      "Loss: 0.9283795952796936\n",
      "Loss: 0.20817093551158905\n",
      "Loss: 0.16001951694488525\n",
      "Loss: 0.13791251182556152\n",
      "Loss: 0.1246616393327713\n",
      "Loss: 0.11563077569007874\n",
      "Loss: 0.10898330062627792\n",
      "Loss: 0.10383119434118271\n",
      "Loss: 0.09968775510787964\n",
      "Loss: 0.09626123309135437\n",
      "=====FINISH LEARNING=====\n",
      "=====START LEARNING=====\n",
      "Loss: 0.9251052737236023\n",
      "Loss: 0.21578991413116455\n",
      "Loss: 0.16912303864955902\n",
      "Loss: 0.14765846729278564\n",
      "Loss: 0.13476821780204773\n",
      "Loss: 0.12596982717514038\n",
      "Loss: 0.11948574334383011\n",
      "Loss: 0.11445555835962296\n",
      "Loss: 0.11040762811899185\n",
      "Loss: 0.10705868899822235\n",
      "=====FINISH LEARNING=====\n",
      "=====START LEARNING=====\n",
      "Loss: 0.9100033044815063\n",
      "Loss: 0.21156229078769684\n",
      "Loss: 0.16415561735630035\n",
      "Loss: 0.1422586292028427\n",
      "Loss: 0.1290280967950821\n",
      "Loss: 0.11994362622499466\n",
      "Loss: 0.1132127195596695\n",
      "Loss: 0.10796666145324707\n",
      "Loss: 0.10372726619243622\n",
      "Loss: 0.10020626336336136\n",
      "=====FINISH LEARNING=====\n",
      "=====START LEARNING=====\n",
      "Loss: 0.8908410668373108\n",
      "Loss: 0.2047928273677826\n",
      "Loss: 0.15652096271514893\n",
      "Loss: 0.13469122350215912\n",
      "Loss: 0.1217125877737999\n",
      "Loss: 0.11291293799877167\n",
      "Loss: 0.10646020621061325\n",
      "Loss: 0.10147235542535782\n",
      "Loss: 0.09747055172920227\n",
      "Loss: 0.09416717290878296\n",
      "=====FINISH LEARNING=====\n",
      "측정한 각 Fold의 정확도: [0.97964287, 0.98464286, 0.9792857, 0.9842857, 0.9835714]\n",
      "최종 K-Fold Validation을 통한 Accuracy: 0.9822857975959778\n"
     ]
    }
   ],
   "source": [
    "# 총 5번의 학습과 5번의 평가가 이뤄짐\n",
    "# 시간이 5배가 걸리지만 더 정확한 성능평가가 이뤄짐\n",
    "# 우리가 만든 모델이 잘 만들어졌는 지 확인하는 용도\n",
    "cv = 5      \n",
    "results = [] \n",
    "\n",
    "# Split Train Data and Validation Data\n",
    "kf = KFold(n_splits=cv, shuffle=True) \n",
    "\n",
    "# cv만큼 Train Data가 잘림 -> 한 폴드에 대해 train용 데이터의 인덱스, test용 데이터의 인덱스 뽑힘\n",
    "for training_idx, validation_idx in kf.split(x_train_norm): # x_train_norm: Kfold로 나누어진 row 인덱스값이 나옴\n",
    "    \n",
    "    training_x = x_train_norm[training_idx] # Fancy Indexing\n",
    "    training_t = t_train_onehot[training_idx]\n",
    "    \n",
    "    validation_x = x_train_norm[validation_idx]\n",
    "    validation_t = t_train_onehot[validation_idx]\n",
    "    \n",
    "    # 1. training data로 learning\n",
    "    run_train(sess, training_x, training_t)\n",
    "    \n",
    "    # 2. testing data로 validation: #1에서 만든 학습모델에 대한 정확도(성능평가) 측정\n",
    "    results.append(sess.run(accuracy, feed_dict={X:validation_x, T: validation_t}))\n",
    "    \n",
    "print('측정한 각 Fold의 정확도: {}'.format(results))\n",
    "\n",
    "# 3. results 안 각각의 학습 결과에 대한 평가값(정확도)의 평균\n",
    "final_acc = np.mean(results)\n",
    "print('K-Fold Validation을 통한 우리 모델의 최종 Accuracy: {}'.format(final_acc))"
   ]
  },
  {
   "cell_type": "markdown",
   "metadata": {},
   "source": [
    "## Testing"
   ]
  },
  {
   "cell_type": "code",
   "execution_count": 12,
   "metadata": {},
   "outputs": [
    {
     "name": "stdout",
     "output_type": "stream",
     "text": [
      "=====START LEARNING=====\n",
      "Loss: 0.9455364942550659\n",
      "Loss: 0.20482388138771057\n",
      "Loss: 0.15653131902217865\n",
      "Loss: 0.13469655811786652\n",
      "Loss: 0.12171604484319687\n",
      "Loss: 0.11291545629501343\n",
      "Loss: 0.10646199434995651\n",
      "Loss: 0.101473867893219\n",
      "Loss: 0.0974717065691948\n",
      "Loss: 0.09416808933019638\n",
      "=====FINISH LEARNING=====\n",
      "우리 모델의 최종 정확도: 0.9836666584014893\n"
     ]
    }
   ],
   "source": [
    "run_train(sess, training_x, training_t)\n",
    "final_accuracy = sess.run(accuracy, feed_dict={X: x_test_norm, T: t_test_onehot})\n",
    "print('우리 모델의 최종 정확도: {}'.format(final_accuracy))"
   ]
  }
 ],
 "metadata": {
  "kernelspec": {
   "display_name": "Python [conda env:data_env] *",
   "language": "python",
   "name": "conda-env-data_env-py"
  },
  "language_info": {
   "codemirror_mode": {
    "name": "ipython",
    "version": 3
   },
   "file_extension": ".py",
   "mimetype": "text/x-python",
   "name": "python",
   "nbconvert_exporter": "python",
   "pygments_lexer": "ipython3",
   "version": "3.7.9"
  }
 },
 "nbformat": 4,
 "nbformat_minor": 4
}
