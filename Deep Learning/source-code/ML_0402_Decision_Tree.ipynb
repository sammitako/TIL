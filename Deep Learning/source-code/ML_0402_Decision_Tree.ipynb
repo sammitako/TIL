{
  "nbformat": 4,
  "nbformat_minor": 0,
  "metadata": {
    "colab": {
      "name": "ML_0402_Decision Tree.ipynb",
      "private_outputs": true,
      "provenance": [],
      "collapsed_sections": []
    },
    "kernelspec": {
      "name": "python3",
      "display_name": "Python 3"
    },
    "language_info": {
      "name": "python"
    }
  },
  "cells": [
    {
      "cell_type": "markdown",
      "metadata": {
        "id": "vwtIvwFIyPdp"
      },
      "source": [
        "# Decision Tree"
      ]
    },
    {
      "cell_type": "markdown",
      "metadata": {
        "id": "o3aBjKWLySvs"
      },
      "source": [
        "## Information Gain"
      ]
    },
    {
      "cell_type": "code",
      "metadata": {
        "id": "TUL8kK_vUSY-"
      },
      "source": [
        "import numpy as np\n",
        "\n",
        "result = -(10/16 * np.log2(10/16) + 6/16 * np.log2(6/16))\n",
        "print(result)"
      ],
      "execution_count": null,
      "outputs": []
    },
    {
      "cell_type": "code",
      "metadata": {
        "id": "a5uVDH8xUhXg"
      },
      "source": [
        "result1 = (8/16) * -(7/8 * np.log2(7/8) + 1/8 * np.log2(1/8))\n",
        "result2 = (8/16) * -(5/8 * np.log2(5/8) + 3/8 * np.log2(3/8))\n",
        "print(result1 + result2) # 0.7489992230622806"
      ],
      "execution_count": null,
      "outputs": []
    },
    {
      "cell_type": "markdown",
      "metadata": {
        "id": "yx46EYFOyL_q"
      },
      "source": [
        "## BMI 예제"
      ]
    },
    {
      "cell_type": "markdown",
      "metadata": {
        "id": "2F4Jw9P5zii8"
      },
      "source": [
        "### Data preprocessing"
      ]
    },
    {
      "cell_type": "code",
      "metadata": {
        "id": "ZPWvPT7IYLgF"
      },
      "source": [
        "import numpy as np\n",
        "import pandas as pd\n",
        "from sklearn.tree import DecisionTreeClassifier\n",
        "import matplotlib.pyplot as plt\n",
        "import warnings\n",
        "from mlxtend.plotting import plot_decision_regions\n",
        "\n",
        "warnings.filterwarnings(action='ignore')\n",
        "\n",
        "df = pd.read_csv('/content/drive/MyDrive/ML Colab/data/bmi.csv', skiprows=3)\n",
        "\n",
        "x_data = df[['height', 'weight']].values\n",
        "t_data = df['label'].values\n",
        "\n",
        "num_of_data = 100\n",
        "\n",
        "# label: 0 => red\n",
        "x_data_red = x_data[t_data==0][:num_of_data]\n",
        "t_data_red = t_data[t_data==0][:num_of_data]\n",
        "\n",
        "# label: 1 => blue\n",
        "x_data_blue = x_data[t_data==1][:num_of_data]\n",
        "t_data_blue = t_data[t_data==1][:num_of_data]\n",
        "\n",
        "# label: 2 => green\n",
        "x_data_green = x_data[t_data==2][:num_of_data]\n",
        "t_data_green = t_data[t_data==2][:num_of_data]\n",
        "\n",
        "plt.scatter(x_data_red[:,0], x_data_red[:,1], color='r')\n",
        "plt.scatter(x_data_blue[:,0], x_data_blue[:,1], color='b')\n",
        "plt.scatter(x_data_green[:,0], x_data_green[:,1], color='g')\n",
        "\n",
        "plt.show()\n",
        "\n",
        "# sample\n",
        "x_data_sample = np.concatenate((x_data_red,x_data_blue,x_data_green),axis=0)\n",
        "t_data_sample = np.concatenate((t_data_red,t_data_blue,t_data_green),axis=0)"
      ],
      "execution_count": null,
      "outputs": []
    },
    {
      "cell_type": "markdown",
      "metadata": {
        "id": "9EDXTTpCzkdg"
      },
      "source": [
        "### Decision Tree Model"
      ]
    },
    {
      "cell_type": "code",
      "metadata": {
        "id": "TqewhkklyQ87"
      },
      "source": [
        "model = DecisionTreeClassifier()\n",
        "model.fit(x_data_sample, t_data_sample)\n",
        "plot_decision_regions(X=x_data_sample, y=t_data_sample, clf=model, legend=3)\n",
        "\n",
        "plt.show() # 격자모양"
      ],
      "execution_count": null,
      "outputs": []
    },
    {
      "cell_type": "markdown",
      "metadata": {
        "id": "Irasil5C0EO8"
      },
      "source": [
        "### Accuracy\n",
        "전체 BMI 데이터를 이용해서 의사결정트리 모델을 구축하여 정확도를 측정해보자."
      ]
    },
    {
      "cell_type": "code",
      "metadata": {
        "id": "eHbyI-LIz1mn"
      },
      "source": [
        "from sklearn.model_selection import train_test_split\n",
        "from sklearn.metrics import classification_report\n",
        "\n",
        "df = pd.read_csv('/content/drive/MyDrive/ML Colab/data/bmi.csv', skiprows=3)\n",
        "\n",
        "x_data = df[['height', 'weight']].values\n",
        "t_data = df['label'].values\n",
        "\n",
        "# data split\n",
        "x_data_train, x_data_test, t_data_train, t_data_test = \\\n",
        "train_test_split(x_data, t_data, test_size=0.2, random_state=0)\n",
        "\n",
        "# model\n",
        "model = DecisionTreeClassifier() \n",
        "\n",
        "# learning\n",
        "model.fit(x_data_train, t_data_train)\n",
        "\n",
        "# evaluation\n",
        "result = classification_report(t_data_test, model.predict(x_data_test))\n",
        "print(result)"
      ],
      "execution_count": null,
      "outputs": []
    }
  ]
}