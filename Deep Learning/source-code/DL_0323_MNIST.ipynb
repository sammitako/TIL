{
 "cells": [
  {
   "cell_type": "markdown",
   "metadata": {},
   "source": [
    "# CNN - MNIST"
   ]
  },
  {
   "cell_type": "code",
   "execution_count": 1,
   "metadata": {},
   "outputs": [
    {
     "name": "stdout",
     "output_type": "stream",
     "text": [
      "(42000, 784)\n"
     ]
    },
    {
     "data": {
      "text/plain": [
       "<matplotlib.image.AxesImage at 0x7f8d38bbdcd0>"
      ]
     },
     "execution_count": 1,
     "metadata": {},
     "output_type": "execute_result"
    },
    {
     "data": {
      "image/png": "[encoded data removed]",
      "text/plain": [
       "<Figure size 432x288 with 5 Axes>"
      ]
     },
     "metadata": {
      "needs_background": "light"
     },
     "output_type": "display_data"
    }
   ],
   "source": [
    "import numpy as np\n",
    "import pandas as pd\n",
    "import tensorflow as tf\n",
    "import matplotlib.pyplot as plt\n",
    "import matplotlib.image as img\n",
    "\n",
    "fig = plt.figure()\n",
    "fig_list = list() # 각각의 subplot 저장 용도\n",
    "\n",
    "for i in range(5):\n",
    "    fig_list.append(fig.add_subplot(1,5,i+1))\n",
    "\n",
    "# Raw Data Loading\n",
    "df = pd.read_csv('mnist/train.csv')\n",
    "img_data = df.drop('label', axis=1, inplace=False).values # 이미지 데이터\n",
    "print(img_data.shape) # (42000, 784)\n",
    "\n",
    "# 샘플용 이미지 \n",
    "original_img = img_data[5:6].reshape(28,28) # 행 슬라이스: 1차원\n",
    "fig_list[0].imshow(original_img, cmap='gray') # 2차원 데이터 + cmap = 흑백 이미지"
   ]
  },
  {
   "cell_type": "markdown",
   "metadata": {},
   "source": [
    "## Convolution Layer\n",
    "### Conv 작업"
   ]
  },
  {
   "cell_type": "code",
   "execution_count": 2,
   "metadata": {},
   "outputs": [
    {
     "name": "stdout",
     "output_type": "stream",
     "text": [
      "(28, 28)\n",
      "(1, 28, 28, 1)\n",
      "(3, 3, 1, 4)\n",
      "(1, 26, 26, 4)\n"
     ]
    }
   ],
   "source": [
    "# 4차원 입력 이미지: (1: 이미지 개수, 28: 세로, 28: 가로, 1: 채널수)\n",
    "print(original_img.shape) # 2차원: (28, 28)\n",
    "\n",
    "input_image = original_img.reshape((1,) + original_img.shape + (1,))\n",
    "print(input_image.shape) # (1, 28, 28, 1)\n",
    "\n",
    "# 실수 처리\n",
    "input_image = input_image.astype(np.float32)\n",
    "\n",
    "# filter(kernel): (3,3,1,4)\n",
    "weight = np.random.rand(3,3,1,4) # 난수값\n",
    "print(weight.shape) # (3, 3, 1, 4)\n",
    "\n",
    "# stride: 1\n",
    "# padding: VALID\n",
    "sess = tf.Session()\n",
    "conv2d = tf.nn.conv2d(input_image, weight,\n",
    "                             strides=[1,1,1,1], padding='VALID')\n",
    "conv2d_result = sess.run(conv2d)\n",
    "print(conv2d_result.shape) # (1, 26, 26, 4): Feature Map"
   ]
  },
  {
   "cell_type": "markdown",
   "metadata": {},
   "source": [
    "### ReLU 처리"
   ]
  },
  {
   "cell_type": "code",
   "execution_count": 3,
   "metadata": {},
   "outputs": [
    {
     "name": "stdout",
     "output_type": "stream",
     "text": [
      "(1, 26, 26, 4)\n"
     ]
    }
   ],
   "source": [
    "# tensor node\n",
    "relu_ = tf.nn.relu(conv2d_result) \n",
    "\n",
    "# numpy array\n",
    "relu_result = sess.run(relu_) # Activation Map\n",
    "print(relu_result.shape) # (1, 26, 26, 4)"
   ]
  },
  {
   "cell_type": "markdown",
   "metadata": {},
   "source": [
    "## Pooling Layer"
   ]
  },
  {
   "cell_type": "code",
   "execution_count": 5,
   "metadata": {},
   "outputs": [
    {
     "name": "stdout",
     "output_type": "stream",
     "text": [
      "(1, 13, 13, 4)\n"
     ]
    }
   ],
   "source": [
    "# ksize: 2\n",
    "# stride: 2\n",
    "pooling = tf.nn.max_pool(relu_result, ksize=[1,2,2,1],\n",
    "                         strides=[1,2,2,1], padding='VALID')\n",
    "\n",
    "pooling_result = sess.run(pooling)\n",
    "print(pooling_result.shape) # (1, 13, 13, 4: filter 개수)"
   ]
  },
  {
   "cell_type": "markdown",
   "metadata": {},
   "source": [
    "## 이미지 출력"
   ]
  },
  {
   "cell_type": "code",
   "execution_count": 6,
   "metadata": {},
   "outputs": [
    {
     "name": "stdout",
     "output_type": "stream",
     "text": [
      "(4, 13, 13, 1)\n"
     ]
    }
   ],
   "source": [
    "# (4, 13, 13, 1): 맨 앞과 맨 뒤의 위치, 즉 축을 바꿈\n",
    "# (이미지 개수, height, width, 차원 높임)\n",
    "i = np.swapaxes(pooling_result, 0,3) \n",
    "print(i.shape) # (4, 13, 13, 1) \n",
    "\n",
    "# 출력\n",
    "for filter_idx, t_img in enumerate(i):\n",
    "    fig_list[filter_idx+1].imshow(t_img, cmap='gray')"
   ]
  },
  {
   "cell_type": "code",
   "execution_count": 8,
   "metadata": {},
   "outputs": [
    {
     "data": {
      "image/png": "[encoded data removed]",
      "text/plain": [
       "<Figure size 432x288 with 5 Axes>"
      ]
     },
     "metadata": {
      "needs_background": "light"
     },
     "output_type": "display_data"
    }
   ],
   "source": [
    "fig = plt.figure()\n",
    "fig_list = list()\n",
    "\n",
    "for i in range(5):\n",
    "    fig_list.append(fig.add_subplot(1,5,i+1))\n",
    "\n",
    "# 샘플용 이미지 \n",
    "original_img = img_data[5:6].reshape(28,28) \n",
    "fig_list[0].imshow(original_img, cmap='gray') \n",
    "\n",
    "# 작업된 이미지\n",
    "i = np.swapaxes(pooling_result, 0,3) \n",
    "for filter_idx, t_img in enumerate(i):\n",
    "    fig_list[filter_idx+1].imshow(t_img, cmap='gray')"
   ]
  }
 ],
 "metadata": {
  "kernelspec": {
   "display_name": "Python 3",
   "language": "python",
   "name": "python3"
  },
  "language_info": {
   "codemirror_mode": {
    "name": "ipython",
    "version": 3
   },
   "file_extension": ".py",
   "mimetype": "text/x-python",
   "name": "python",
   "nbconvert_exporter": "python",
   "pygments_lexer": "ipython3",
   "version": "3.7.9"
  }
 },
 "nbformat": 4,
 "nbformat_minor": 4
}
