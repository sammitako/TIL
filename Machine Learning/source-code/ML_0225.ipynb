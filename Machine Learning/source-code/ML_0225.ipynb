{
 "cells": [
  {
   "cell_type": "markdown",
   "metadata": {},
   "source": [
    "# Data Preprocessing - (1) 결측치(NaN) 처리"
   ]
  },
  {
   "cell_type": "code",
   "execution_count": 20,
   "metadata": {},
   "outputs": [
    {
     "data": {
      "text/html": [
       "<div>\n",
       "<style scoped>\n",
       "    .dataframe tbody tr th:only-of-type {\n",
       "        vertical-align: middle;\n",
       "    }\n",
       "\n",
       "    .dataframe tbody tr th {\n",
       "        vertical-align: top;\n",
       "    }\n",
       "\n",
       "    .dataframe thead th {\n",
       "        text-align: right;\n",
       "    }\n",
       "</style>\n",
       "<table border=\"1\" class=\"dataframe\">\n",
       "  <thead>\n",
       "    <tr style=\"text-align: right;\">\n",
       "      <th></th>\n",
       "      <th>Ozone</th>\n",
       "      <th>Solar.R</th>\n",
       "      <th>Wind</th>\n",
       "      <th>Temp</th>\n",
       "      <th>Month</th>\n",
       "      <th>Day</th>\n",
       "    </tr>\n",
       "  </thead>\n",
       "  <tbody>\n",
       "    <tr>\n",
       "      <th>0</th>\n",
       "      <td>41.0</td>\n",
       "      <td>190.0</td>\n",
       "      <td>7.4</td>\n",
       "      <td>67</td>\n",
       "      <td>5</td>\n",
       "      <td>1</td>\n",
       "    </tr>\n",
       "    <tr>\n",
       "      <th>1</th>\n",
       "      <td>36.0</td>\n",
       "      <td>118.0</td>\n",
       "      <td>8.0</td>\n",
       "      <td>72</td>\n",
       "      <td>5</td>\n",
       "      <td>2</td>\n",
       "    </tr>\n",
       "    <tr>\n",
       "      <th>2</th>\n",
       "      <td>12.0</td>\n",
       "      <td>149.0</td>\n",
       "      <td>12.6</td>\n",
       "      <td>74</td>\n",
       "      <td>5</td>\n",
       "      <td>3</td>\n",
       "    </tr>\n",
       "    <tr>\n",
       "      <th>3</th>\n",
       "      <td>18.0</td>\n",
       "      <td>313.0</td>\n",
       "      <td>11.5</td>\n",
       "      <td>62</td>\n",
       "      <td>5</td>\n",
       "      <td>4</td>\n",
       "    </tr>\n",
       "    <tr>\n",
       "      <th>4</th>\n",
       "      <td>NaN</td>\n",
       "      <td>NaN</td>\n",
       "      <td>14.3</td>\n",
       "      <td>56</td>\n",
       "      <td>5</td>\n",
       "      <td>5</td>\n",
       "    </tr>\n",
       "    <tr>\n",
       "      <th>...</th>\n",
       "      <td>...</td>\n",
       "      <td>...</td>\n",
       "      <td>...</td>\n",
       "      <td>...</td>\n",
       "      <td>...</td>\n",
       "      <td>...</td>\n",
       "    </tr>\n",
       "    <tr>\n",
       "      <th>148</th>\n",
       "      <td>30.0</td>\n",
       "      <td>193.0</td>\n",
       "      <td>6.9</td>\n",
       "      <td>70</td>\n",
       "      <td>9</td>\n",
       "      <td>26</td>\n",
       "    </tr>\n",
       "    <tr>\n",
       "      <th>149</th>\n",
       "      <td>NaN</td>\n",
       "      <td>145.0</td>\n",
       "      <td>13.2</td>\n",
       "      <td>77</td>\n",
       "      <td>9</td>\n",
       "      <td>27</td>\n",
       "    </tr>\n",
       "    <tr>\n",
       "      <th>150</th>\n",
       "      <td>14.0</td>\n",
       "      <td>191.0</td>\n",
       "      <td>14.3</td>\n",
       "      <td>75</td>\n",
       "      <td>9</td>\n",
       "      <td>28</td>\n",
       "    </tr>\n",
       "    <tr>\n",
       "      <th>151</th>\n",
       "      <td>18.0</td>\n",
       "      <td>131.0</td>\n",
       "      <td>8.0</td>\n",
       "      <td>76</td>\n",
       "      <td>9</td>\n",
       "      <td>29</td>\n",
       "    </tr>\n",
       "    <tr>\n",
       "      <th>152</th>\n",
       "      <td>20.0</td>\n",
       "      <td>223.0</td>\n",
       "      <td>11.5</td>\n",
       "      <td>68</td>\n",
       "      <td>9</td>\n",
       "      <td>30</td>\n",
       "    </tr>\n",
       "  </tbody>\n",
       "</table>\n",
       "<p>153 rows × 6 columns</p>\n",
       "</div>"
      ],
      "text/plain": [
       "     Ozone  Solar.R  Wind  Temp  Month  Day\n",
       "0     41.0    190.0   7.4    67      5    1\n",
       "1     36.0    118.0   8.0    72      5    2\n",
       "2     12.0    149.0  12.6    74      5    3\n",
       "3     18.0    313.0  11.5    62      5    4\n",
       "4      NaN      NaN  14.3    56      5    5\n",
       "..     ...      ...   ...   ...    ...  ...\n",
       "148   30.0    193.0   6.9    70      9   26\n",
       "149    NaN    145.0  13.2    77      9   27\n",
       "150   14.0    191.0  14.3    75      9   28\n",
       "151   18.0    131.0   8.0    76      9   29\n",
       "152   20.0    223.0  11.5    68      9   30\n",
       "\n",
       "[153 rows x 6 columns]"
      ]
     },
     "metadata": {},
     "output_type": "display_data"
    },
    {
     "data": {
      "text/plain": [
       "(153, 2)"
      ]
     },
     "metadata": {},
     "output_type": "display_data"
    },
    {
     "name": "stdout",
     "output_type": "stream",
     "text": [
      "(116, 2)\n",
      "<class 'pandas.core.frame.DataFrame'>\n",
      "<class 'numpy.ndarray'>\n"
     ]
    }
   ],
   "source": [
    "import numpy as np\n",
    "import pandas as pd\n",
    "\n",
    "df = pd.read_csv('data/ozone.csv')\n",
    "display(df)\n",
    "\n",
    "training_data = df[['Ozone', 'Temp']] # Fancy Indexing\n",
    "display(training_data.shape) # 2차원, (row 개수, column 개수) => (153, 2)\n",
    "\n",
    "# 결측치(NaN) 처리 -> 삭제\n",
    "training_data = training_data.dropna(how='any')\n",
    "print(training_data.shape) # (116,2), 너무 많이 삭제되서 좋지 않은 방법\n",
    "\n",
    "# 이상치(종속변수에서 이상한 값) 처리 -> 일단은 이상치가 없다고 가정하여 진행\n",
    "\n",
    "print(type(training_data))\n",
    "print(type(training_data.values))"
   ]
  },
  {
   "cell_type": "markdown",
   "metadata": {},
   "source": [
    "# Simple Linear Regression\n",
    "-----\n",
    "### 온도에 따른 오존량을 측정해보자."
   ]
  },
  {
   "cell_type": "markdown",
   "metadata": {},
   "source": [
    "## 1. Tensorflow"
   ]
  },
  {
   "cell_type": "code",
   "execution_count": 21,
   "metadata": {
    "scrolled": true
   },
   "outputs": [
    {
     "name": "stdout",
     "output_type": "stream",
     "text": [
      "W: [[0.9319085]], b: [[0.09064844]], loss: 16227.24609375\n",
      "W: [[0.7223282]], b: [[-12.164594]], loss: 816.2138061523438\n",
      "W: [[0.86445564]], b: [[-23.394936]], loss: 774.14013671875\n",
      "W: [[0.9947318]], b: [[-33.68883]], loss: 738.7870483398438\n",
      "W: [[1.1141671]], b: [[-43.126125]], loss: 709.0750122070312\n",
      "W: [[1.2236686]], b: [[-51.778496]], loss: 684.1033325195312\n",
      "W: [[1.3240353]], b: [[-59.709072]], loss: 663.1212768554688\n",
      "W: [[1.4160032]], b: [[-66.976006]], loss: 645.49609375\n",
      "W: [[1.5002662]], b: [[-73.634125]], loss: 630.6915283203125\n",
      "W: [[1.5777038]], b: [[-79.75294]], loss: 618.2195434570312\n"
     ]
    }
   ],
   "source": [
    "import tensorflow as tf\n",
    "\n",
    "# 1. Training Data Set\n",
    "x_data = training_data['Temp'].values.reshape(-1, 1)\n",
    "# print(x_data)\n",
    "t_data = training_data['Ozone'].values.reshape(-1, 1)\n",
    "\n",
    "# 2. Data Flow Graph\n",
    "\n",
    "# (2-1). placeholder - 데이터를 입력받는 파라미터\n",
    "X = tf.placeholder(shape=[None, 1], dtype=tf.float32) # 1 - Simple Linear Regression\n",
    "T = tf.placeholder(shape=[None, 1], dtype=tf.float32) # 1 - 단변량 Linear Regression\n",
    "\n",
    "# (2-2). Weight, bias\n",
    "W = tf.Variable(tf.random.normal([1, 1]), name='weight')\n",
    "b = tf.Variable(tf.random.normal([1, 1]), name='bias')\n",
    "\n",
    "# (2-3). Hypothesis = Predict Model\n",
    "H = tf.matmul(X, W) + b\n",
    "\n",
    "# (2-4). Loss Function\n",
    "loss = tf.reduce_mean(tf.square(H - T))\n",
    "\n",
    "# (2-5). Gradient Descent Algorithm -> W, b?\n",
    "train = tf.train.GradientDescentOptimizer(learning_rate=1e-4).minimize(loss)\n",
    "\n",
    "## 여기까지 그래프 완성\n",
    "\n",
    "# 3. 반복 학습\n",
    "sess = tf.Session() # session\n",
    "sess.run(tf.global_variables_initializer()) # 초기화\n",
    "\n",
    "for step in range(300000):\n",
    "    _, W_val, b_val, loss_val = sess.run([train, W, b, loss], feed_dict={X: x_data, T: t_data})\n",
    "    \n",
    "    \n",
    "    if step%30000 == 0:\n",
    "        print('W: {}, b: {}, loss: {}'.format(W_val, b_val, loss_val))"
   ]
  },
  {
   "cell_type": "markdown",
   "metadata": {},
   "source": [
    "### 학습이 종료되었는데, 손실함수가 0으로 떨어지지 않는다?\n",
    "아래에서 이상치 처리 후 다시 확인해보자."
   ]
  },
  {
   "cell_type": "code",
   "execution_count": 22,
   "metadata": {},
   "outputs": [
    {
     "data": {
      "image/png": "[encoded data removed]",
      "text/plain": [
       "<Figure size 432x288 with 1 Axes>"
      ]
     },
     "metadata": {
      "needs_background": "light"
     },
     "output_type": "display_data"
    },
    {
     "name": "stdout",
     "output_type": "stream",
     "text": [
      "[[49.830246]]\n"
     ]
    }
   ],
   "source": [
    "import matplotlib.pyplot as plt\n",
    "\n",
    "plt.scatter(x_data, t_data) # 온도, 오존량\n",
    "plt.plot(x_data, x_data*W_val.ravel() + b_val, color='r')\n",
    "plt.show()\n",
    "\n",
    "# prediction\n",
    "result = sess.run(H, feed_dict={X: [[82]]})\n",
    "print(result) # [[46.586555]] -> 예측값이 맞는거야? 틀린거야?"
   ]
  },
  {
   "cell_type": "markdown",
   "metadata": {},
   "source": [
    "## 2. Sklearn\n",
    "Sklearn은 진리이므로 Sklearn을 이용해서 해당 data를 학습시키고 예측값 도출한 뒤, 위에서 Tensorflow를 통해 만든 Linear Model의 예측값과 비교해보자."
   ]
  },
  {
   "cell_type": "code",
   "execution_count": 23,
   "metadata": {},
   "outputs": [
    {
     "name": "stdout",
     "output_type": "stream",
     "text": [
      "W: [[2.4287033]], b: [-146.99549097]\n",
      "[[52.15818003]]\n"
     ]
    },
    {
     "data": {
      "image/png": "[encoded data removed]",
      "text/plain": [
       "<Figure size 432x288 with 1 Axes>"
      ]
     },
     "metadata": {
      "needs_background": "light"
     },
     "output_type": "display_data"
    }
   ],
   "source": [
    "import numpy as np\n",
    "import pandas as pd\n",
    "import matplotlib.pyplot as plt\n",
    "from sklearn import linear_model\n",
    "\n",
    "# 1. Training Data Set\n",
    "df = pd.read_csv('data/ozone.csv')\n",
    "training_data = df[['Ozone', 'Temp']]\n",
    "training_data = training_data.dropna(how='any')\n",
    "x_data = training_data['Temp'].values.reshape(-1, 1)\n",
    "t_data = training_data['Ozone'].values.reshape(-1, 1)\n",
    "\n",
    "# 2. Linear Regression Model 생성\n",
    "model = linear_model.LinearRegression()\n",
    "\n",
    "# 3. 모델 학습\n",
    "model.fit(x_data, t_data)\n",
    "\n",
    "# 4. Weight, bias 출력\n",
    "# (참고) tensorflow 구현 - W: [[0.56191754]], b: [[0.50884414]]\n",
    "print('W: {}, b: {}'.format(model.coef_, model.intercept_)) # W: [[2.4287033]], b: [-146.99549097]\n",
    "\n",
    "\n",
    "# 5. Prediction\n",
    "print(model.predict([[82]])) # [[52.15818003]]\n",
    "\n",
    "# 6. Visualization - Tensorflow vs. Sklearn\n",
    "plt.scatter(x_data, t_data)\n",
    "plt.plot(x_data, x_data*W_val.ravel() + b_val, color='r') # Tensorflow\n",
    "plt.plot(x_data, x_data*model.coef_.ravel() + model.intercept_, color='b') # Sklearn (정답)\n",
    "plt.show()"
   ]
  },
  {
   "cell_type": "markdown",
   "metadata": {},
   "source": [
    "# Data Preprocessing - (2) 이상치(Outlier) 처리\n",
    "-----"
   ]
  },
  {
   "cell_type": "markdown",
   "metadata": {},
   "source": [
    "## 1. Tukey Fence"
   ]
  },
  {
   "cell_type": "code",
   "execution_count": 38,
   "metadata": {},
   "outputs": [
    {
     "name": "stdout",
     "output_type": "stream",
     "text": [
      "8.0\n",
      "4.5\n",
      "8.0\n",
      "11.5\n",
      "7.0\n",
      "22.0\n",
      "-6.0\n",
      "[22.1]\n",
      "[ 1.  2.  3.  4.  5.  6.  7.  8.  9. 10. 11. 12. 13. 14.]\n"
     ]
    },
    {
     "data": {
      "image/png": "[encoded data removed]",
      "text/plain": [
       "<Figure size 432x288 with 2 Axes>"
      ]
     },
     "metadata": {
      "needs_background": "light"
     },
     "output_type": "display_data"
    }
   ],
   "source": [
    "import numpy as np\n",
    "import matplotlib.pyplot as plt\n",
    "\n",
    "data = np.array([1,2,3,4,5,6,7,8,9,10,11,12,13,14,22.1])\n",
    "\n",
    "# subplot\n",
    "fig = plt.figure()  # 새로운 figure 생성 (도화지 준비)\n",
    "fig_1 = fig.add_subplot(1,2, 1) # 영역_1: 1행 2열의, 첫번째 칸\n",
    "fig_2 = fig.add_subplot(1,2, 2) # 영역_2: 1행 2열의, 두번째 칸\n",
    "\n",
    "\n",
    "# percentile(): numpy를 이용해서 사분위수를 계산 \n",
    "print(np.median(data)) # 중위값(2사분위): 8.0\n",
    "print(np.percentile(data, 25)) # 1사분위: 4.5\n",
    "print(np.percentile(data, 50)) # 2사분위: 8.0\n",
    "print(np.percentile(data, 75)) # 3사분위: 11.5\n",
    "\n",
    "\n",
    "# IQR value = 3사분위 값 - 1사분위 값\n",
    "iqr_value = np.percentile(data, 75) - np.percentile(data, 25)\n",
    "print(iqr_value) # 7.0\n",
    "\n",
    "\n",
    "# 이상치\n",
    "upper_fense = np.percentile(data, 75) + (iqr_value * 1.5)\n",
    "lower_fense = np.percentile(data, 25) - (iqr_value * 1.5)\n",
    "\n",
    "print(upper_fense) # 22.0\n",
    "print(lower_fense) # -6.0\n",
    "\n",
    "\n",
    "# 이상치 출력 - boolean indexing 이용\n",
    "# (mask) | (mask)\n",
    "print(data[(data > upper_fense) | (data < lower_fense)]) # [22.1]\n",
    "\n",
    "\n",
    "# 이상치를 제거한 데이터\n",
    "result = data[(data <= upper_fense) & (data >= lower_fense)]\n",
    "print(result) \n",
    "\n",
    "\n",
    "# 비교\n",
    "fig_1.set_title('Original Data')\n",
    "fig_1.boxplot(data) \n",
    "\n",
    "fig_2.set_title('Remove Outlier')\n",
    "fig_2.boxplot(result) \n",
    "\n",
    "\n",
    "# 출력\n",
    "fig.tight_layout() # 레이아웃 예쁘게 잡아줌\n",
    "plt.show() # 전체 figure 출력\n"
   ]
  },
  {
   "cell_type": "markdown",
   "metadata": {},
   "source": [
    "## 2. Z-score"
   ]
  },
  {
   "cell_type": "code",
   "execution_count": 53,
   "metadata": {},
   "outputs": [
    {
     "name": "stdout",
     "output_type": "stream",
     "text": [
      "[-1.40160702 -1.21405925 -1.02651147 -0.8389637  -0.65141593 -0.46386816\n",
      " -0.27632038 -0.08877261  0.09877516  0.28632293  0.4738707   0.66141848\n",
      "  0.84896625  1.03651402  2.55565098]\n",
      "[1.40160702 1.21405925 1.02651147 0.8389637  0.65141593 0.46386816\n",
      " 0.27632038 0.08877261 0.09877516 0.28632293 0.4738707  0.66141848\n",
      " 0.84896625 1.03651402 2.55565098]\n",
      "[22.1]\n",
      "[ 1.  2.  3.  4.  5.  6.  7.  8.  9. 10. 11. 12. 13. 14.]\n"
     ]
    }
   ],
   "source": [
    "import numpy as np\n",
    "from scipy import stats\n",
    "\n",
    "# 2.0: optimal value\n",
    "zscore_threshold = 1.8 # 상위 95% 이상, 하위 95% 이하인 값\n",
    "\n",
    "data = np.array([1,2,3,4,5,6,7,8,9,10,11,12,13,14,22.1])\n",
    "\n",
    "# data -> zscore\n",
    "print(stats.zscore(data))\n",
    "\n",
    "# oulier 출력\n",
    "print(np.abs(stats.zscore(data)))  # 양수\n",
    "\n",
    "outlier = data[np.abs(stats.zscore(data)) > zscore_threshold]\n",
    "print(outlier)\n",
    "\n",
    "# 이상치를 제거한 데이터 출력\n",
    "np.isin(data, outlier) # data 안에 outlier 있니 -> Boolean Mask 반환\n",
    "np.isin(data, outlier, invert=True) # not isin\n",
    "print(data[np.isin(data, outlier, invert=True)])"
   ]
  },
  {
   "cell_type": "markdown",
   "metadata": {},
   "source": [
    "# 이상치 처리를 통한 Simple Linear Regression 구현\n",
    "-----\n",
    "* 결측치 제거\n",
    "* 이상치 제거\n",
    "* Tensorflow"
   ]
  },
  {
   "cell_type": "markdown",
   "metadata": {},
   "source": [
    "## 들어가기 전,\n",
    "### 1. 결측치 제거"
   ]
  },
  {
   "cell_type": "code",
   "execution_count": 1,
   "metadata": {},
   "outputs": [
    {
     "data": {
      "text/html": [
       "<div>\n",
       "<style scoped>\n",
       "    .dataframe tbody tr th:only-of-type {\n",
       "        vertical-align: middle;\n",
       "    }\n",
       "\n",
       "    .dataframe tbody tr th {\n",
       "        vertical-align: top;\n",
       "    }\n",
       "\n",
       "    .dataframe thead th {\n",
       "        text-align: right;\n",
       "    }\n",
       "</style>\n",
       "<table border=\"1\" class=\"dataframe\">\n",
       "  <thead>\n",
       "    <tr style=\"text-align: right;\">\n",
       "      <th></th>\n",
       "      <th>Temp</th>\n",
       "      <th>Ozone</th>\n",
       "    </tr>\n",
       "  </thead>\n",
       "  <tbody>\n",
       "    <tr>\n",
       "      <th>0</th>\n",
       "      <td>67</td>\n",
       "      <td>41.0</td>\n",
       "    </tr>\n",
       "    <tr>\n",
       "      <th>1</th>\n",
       "      <td>72</td>\n",
       "      <td>36.0</td>\n",
       "    </tr>\n",
       "    <tr>\n",
       "      <th>2</th>\n",
       "      <td>74</td>\n",
       "      <td>12.0</td>\n",
       "    </tr>\n",
       "    <tr>\n",
       "      <th>3</th>\n",
       "      <td>62</td>\n",
       "      <td>18.0</td>\n",
       "    </tr>\n",
       "    <tr>\n",
       "      <th>4</th>\n",
       "      <td>56</td>\n",
       "      <td>NaN</td>\n",
       "    </tr>\n",
       "    <tr>\n",
       "      <th>...</th>\n",
       "      <td>...</td>\n",
       "      <td>...</td>\n",
       "    </tr>\n",
       "    <tr>\n",
       "      <th>148</th>\n",
       "      <td>70</td>\n",
       "      <td>30.0</td>\n",
       "    </tr>\n",
       "    <tr>\n",
       "      <th>149</th>\n",
       "      <td>77</td>\n",
       "      <td>NaN</td>\n",
       "    </tr>\n",
       "    <tr>\n",
       "      <th>150</th>\n",
       "      <td>75</td>\n",
       "      <td>14.0</td>\n",
       "    </tr>\n",
       "    <tr>\n",
       "      <th>151</th>\n",
       "      <td>76</td>\n",
       "      <td>18.0</td>\n",
       "    </tr>\n",
       "    <tr>\n",
       "      <th>152</th>\n",
       "      <td>68</td>\n",
       "      <td>20.0</td>\n",
       "    </tr>\n",
       "  </tbody>\n",
       "</table>\n",
       "<p>153 rows × 2 columns</p>\n",
       "</div>"
      ],
      "text/plain": [
       "     Temp  Ozone\n",
       "0      67   41.0\n",
       "1      72   36.0\n",
       "2      74   12.0\n",
       "3      62   18.0\n",
       "4      56    NaN\n",
       "..    ...    ...\n",
       "148    70   30.0\n",
       "149    77    NaN\n",
       "150    75   14.0\n",
       "151    76   18.0\n",
       "152    68   20.0\n",
       "\n",
       "[153 rows x 2 columns]"
      ]
     },
     "metadata": {},
     "output_type": "display_data"
    },
    {
     "data": {
      "text/html": [
       "<div>\n",
       "<style scoped>\n",
       "    .dataframe tbody tr th:only-of-type {\n",
       "        vertical-align: middle;\n",
       "    }\n",
       "\n",
       "    .dataframe tbody tr th {\n",
       "        vertical-align: top;\n",
       "    }\n",
       "\n",
       "    .dataframe thead th {\n",
       "        text-align: right;\n",
       "    }\n",
       "</style>\n",
       "<table border=\"1\" class=\"dataframe\">\n",
       "  <thead>\n",
       "    <tr style=\"text-align: right;\">\n",
       "      <th></th>\n",
       "      <th>Temp</th>\n",
       "      <th>Ozone</th>\n",
       "    </tr>\n",
       "  </thead>\n",
       "  <tbody>\n",
       "    <tr>\n",
       "      <th>0</th>\n",
       "      <td>67</td>\n",
       "      <td>41.0</td>\n",
       "    </tr>\n",
       "    <tr>\n",
       "      <th>1</th>\n",
       "      <td>72</td>\n",
       "      <td>36.0</td>\n",
       "    </tr>\n",
       "    <tr>\n",
       "      <th>2</th>\n",
       "      <td>74</td>\n",
       "      <td>12.0</td>\n",
       "    </tr>\n",
       "    <tr>\n",
       "      <th>3</th>\n",
       "      <td>62</td>\n",
       "      <td>18.0</td>\n",
       "    </tr>\n",
       "    <tr>\n",
       "      <th>5</th>\n",
       "      <td>66</td>\n",
       "      <td>28.0</td>\n",
       "    </tr>\n",
       "    <tr>\n",
       "      <th>...</th>\n",
       "      <td>...</td>\n",
       "      <td>...</td>\n",
       "    </tr>\n",
       "    <tr>\n",
       "      <th>147</th>\n",
       "      <td>63</td>\n",
       "      <td>14.0</td>\n",
       "    </tr>\n",
       "    <tr>\n",
       "      <th>148</th>\n",
       "      <td>70</td>\n",
       "      <td>30.0</td>\n",
       "    </tr>\n",
       "    <tr>\n",
       "      <th>150</th>\n",
       "      <td>75</td>\n",
       "      <td>14.0</td>\n",
       "    </tr>\n",
       "    <tr>\n",
       "      <th>151</th>\n",
       "      <td>76</td>\n",
       "      <td>18.0</td>\n",
       "    </tr>\n",
       "    <tr>\n",
       "      <th>152</th>\n",
       "      <td>68</td>\n",
       "      <td>20.0</td>\n",
       "    </tr>\n",
       "  </tbody>\n",
       "</table>\n",
       "<p>116 rows × 2 columns</p>\n",
       "</div>"
      ],
      "text/plain": [
       "     Temp  Ozone\n",
       "0      67   41.0\n",
       "1      72   36.0\n",
       "2      74   12.0\n",
       "3      62   18.0\n",
       "5      66   28.0\n",
       "..    ...    ...\n",
       "147    63   14.0\n",
       "148    70   30.0\n",
       "150    75   14.0\n",
       "151    76   18.0\n",
       "152    68   20.0\n",
       "\n",
       "[116 rows x 2 columns]"
      ]
     },
     "metadata": {},
     "output_type": "display_data"
    }
   ],
   "source": [
    "import numpy as np\n",
    "import pandas as pd\n",
    "\n",
    "df = pd.read_csv('data/ozone.csv')\n",
    "df = df[['Temp', 'Ozone']]\n",
    "display(df) # 153\n",
    "\n",
    "df = df.dropna(how='any') \n",
    "display(df) # 116"
   ]
  },
  {
   "cell_type": "markdown",
   "metadata": {},
   "source": [
    "### 2. boxplot을 통한 이상치 확인"
   ]
  },
  {
   "cell_type": "code",
   "execution_count": 2,
   "metadata": {},
   "outputs": [
    {
     "data": {
      "image/png": "[encoded data removed]",
      "text/plain": [
       "<Figure size 432x288 with 2 Axes>"
      ]
     },
     "metadata": {
      "needs_background": "light"
     },
     "output_type": "display_data"
    }
   ],
   "source": [
    "import matplotlib.pyplot as plt\n",
    "\n",
    "fig = plt.figure()\n",
    "fig_1 = fig.add_subplot(1,2, 1)\n",
    "fig_2 = fig.add_subplot(1,2, 2)\n",
    "\n",
    "# Temp 이상치\n",
    "fig_1.set_title('Temp')\n",
    "fig_1.boxplot(df['Temp'])\n",
    "\n",
    "\n",
    "# Ozone 이상치\n",
    "fig_2.set_title('Ozone')\n",
    "fig_2.boxplot(df['Ozone'])\n",
    "\n",
    "fig.tight_layout()\n",
    "plt.show()"
   ]
  },
  {
   "cell_type": "markdown",
   "metadata": {},
   "source": [
    "이제 아래 두 가지 방법을 통해 이상치를 제거해보자.\n",
    "## Tukey Fence\n",
    "### 1. 이상치 제거"
   ]
  },
  {
   "cell_type": "code",
   "execution_count": 14,
   "metadata": {},
   "outputs": [
    {
     "name": "stdout",
     "output_type": "stream",
     "text": [
      "45.25\n",
      "131.125\n",
      "-49.875\n"
     ]
    },
    {
     "data": {
      "text/html": [
       "<div>\n",
       "<style scoped>\n",
       "    .dataframe tbody tr th:only-of-type {\n",
       "        vertical-align: middle;\n",
       "    }\n",
       "\n",
       "    .dataframe tbody tr th {\n",
       "        vertical-align: top;\n",
       "    }\n",
       "\n",
       "    .dataframe thead th {\n",
       "        text-align: right;\n",
       "    }\n",
       "</style>\n",
       "<table border=\"1\" class=\"dataframe\">\n",
       "  <thead>\n",
       "    <tr style=\"text-align: right;\">\n",
       "      <th></th>\n",
       "      <th>Temp</th>\n",
       "      <th>Ozone</th>\n",
       "    </tr>\n",
       "  </thead>\n",
       "  <tbody>\n",
       "    <tr>\n",
       "      <th>61</th>\n",
       "      <td>84</td>\n",
       "      <td>135.0</td>\n",
       "    </tr>\n",
       "    <tr>\n",
       "      <th>116</th>\n",
       "      <td>81</td>\n",
       "      <td>168.0</td>\n",
       "    </tr>\n",
       "  </tbody>\n",
       "</table>\n",
       "</div>"
      ],
      "text/plain": [
       "     Temp  Ozone\n",
       "61     84  135.0\n",
       "116    81  168.0"
      ]
     },
     "metadata": {},
     "output_type": "display_data"
    },
    {
     "data": {
      "text/html": [
       "<div>\n",
       "<style scoped>\n",
       "    .dataframe tbody tr th:only-of-type {\n",
       "        vertical-align: middle;\n",
       "    }\n",
       "\n",
       "    .dataframe tbody tr th {\n",
       "        vertical-align: top;\n",
       "    }\n",
       "\n",
       "    .dataframe thead th {\n",
       "        text-align: right;\n",
       "    }\n",
       "</style>\n",
       "<table border=\"1\" class=\"dataframe\">\n",
       "  <thead>\n",
       "    <tr style=\"text-align: right;\">\n",
       "      <th></th>\n",
       "      <th>Temp</th>\n",
       "      <th>Ozone</th>\n",
       "    </tr>\n",
       "  </thead>\n",
       "  <tbody>\n",
       "    <tr>\n",
       "      <th>0</th>\n",
       "      <td>67</td>\n",
       "      <td>41.0</td>\n",
       "    </tr>\n",
       "    <tr>\n",
       "      <th>1</th>\n",
       "      <td>72</td>\n",
       "      <td>36.0</td>\n",
       "    </tr>\n",
       "    <tr>\n",
       "      <th>2</th>\n",
       "      <td>74</td>\n",
       "      <td>12.0</td>\n",
       "    </tr>\n",
       "    <tr>\n",
       "      <th>3</th>\n",
       "      <td>62</td>\n",
       "      <td>18.0</td>\n",
       "    </tr>\n",
       "    <tr>\n",
       "      <th>5</th>\n",
       "      <td>66</td>\n",
       "      <td>28.0</td>\n",
       "    </tr>\n",
       "    <tr>\n",
       "      <th>...</th>\n",
       "      <td>...</td>\n",
       "      <td>...</td>\n",
       "    </tr>\n",
       "    <tr>\n",
       "      <th>147</th>\n",
       "      <td>63</td>\n",
       "      <td>14.0</td>\n",
       "    </tr>\n",
       "    <tr>\n",
       "      <th>148</th>\n",
       "      <td>70</td>\n",
       "      <td>30.0</td>\n",
       "    </tr>\n",
       "    <tr>\n",
       "      <th>150</th>\n",
       "      <td>75</td>\n",
       "      <td>14.0</td>\n",
       "    </tr>\n",
       "    <tr>\n",
       "      <th>151</th>\n",
       "      <td>76</td>\n",
       "      <td>18.0</td>\n",
       "    </tr>\n",
       "    <tr>\n",
       "      <th>152</th>\n",
       "      <td>68</td>\n",
       "      <td>20.0</td>\n",
       "    </tr>\n",
       "  </tbody>\n",
       "</table>\n",
       "<p>114 rows × 2 columns</p>\n",
       "</div>"
      ],
      "text/plain": [
       "     Temp  Ozone\n",
       "0      67   41.0\n",
       "1      72   36.0\n",
       "2      74   12.0\n",
       "3      62   18.0\n",
       "5      66   28.0\n",
       "..    ...    ...\n",
       "147    63   14.0\n",
       "148    70   30.0\n",
       "150    75   14.0\n",
       "151    76   18.0\n",
       "152    68   20.0\n",
       "\n",
       "[114 rows x 2 columns]"
      ]
     },
     "metadata": {},
     "output_type": "display_data"
    }
   ],
   "source": [
    "# IQR value\n",
    "iqr_value = np.percentile(df['Ozone'], 75) - np.percentile(df['Ozone'], 25)\n",
    "print(iqr_value)\n",
    "\n",
    "# 이상치 확인\n",
    "upper_fence = np.percentile(df['Ozone'], 75) + (iqr_value * 1.5)\n",
    "lower_fence = np.percentile(df['Ozone'], 25) - (iqr_value * 1.5)\n",
    "\n",
    "print(upper_fence)\n",
    "print(lower_fence)\n",
    "display(df[(df['Ozone'] > upper_fence) | (df['Ozone'] < lower_fence)])\n",
    "\n",
    "# 이상치 제거\n",
    "result = df[(df['Ozone'] <= upper_fence) & (df['Ozone'] >= lower_fence)]\n",
    "display(result)"
   ]
  },
  {
   "cell_type": "markdown",
   "metadata": {},
   "source": [
    "### 2. Tensorflow"
   ]
  },
  {
   "cell_type": "code",
   "execution_count": 17,
   "metadata": {},
   "outputs": [
    {
     "name": "stdout",
     "output_type": "stream",
     "text": [
      "W: [[0.30977798]], b: [[1.8765798]], loss: 5887.5390625\n",
      "W: [[0.67412645]], b: [[-10.289467]], loss: 638.6441040039062\n",
      "W: [[0.8152366]], b: [[-21.430206]], loss: 597.2378540039062\n",
      "W: [[0.9444343]], b: [[-31.630445]], loss: 562.5291137695312\n",
      "W: [[1.0627074]], b: [[-40.96819]], loss: 533.4390258789062\n",
      "W: [[1.1710194]], b: [[-49.519493]], loss: 509.049072265625\n",
      "W: [[1.2701592]], b: [[-57.34664]], loss: 488.6103210449219\n",
      "W: [[1.3609056]], b: [[-64.51112]], loss: 471.4820556640625\n",
      "W: [[1.4440957]], b: [[-71.07903]], loss: 457.106689453125\n",
      "W: [[1.5200673]], b: [[-77.07705]], loss: 445.0873718261719\n"
     ]
    }
   ],
   "source": [
    "import tensorflow as tf\n",
    "\n",
    "# 1. training data set\n",
    "x_data = result['Temp'].values.reshape(-1,1)\n",
    "t_data = result['Ozone'].values.reshape(-1,1)\n",
    "\n",
    "# 2. X, T\n",
    "X = tf.placeholder(shape=[None, 1], dtype=tf.float32)\n",
    "T = tf.placeholder(shape=[None, 1], dtype=tf.float32)\n",
    "\n",
    "# 3. W, b\n",
    "W = tf.Variable(tf.random.normal([1, 1]), name='weight')\n",
    "b = tf.Variable(tf.random.normal([1, 1]), name='bias')\n",
    "\n",
    "# 4. model\n",
    "H = tf.matmul(X, W) + b\n",
    "\n",
    "# 5. loss function\n",
    "loss = tf.reduce_mean(tf.square(H - T))\n",
    "\n",
    "# 6. gradient descent algorithm\n",
    "train = tf.train.GradientDescentOptimizer(learning_rate=1e-4).minimize(loss)\n",
    "\n",
    "# 7. learning\n",
    "sess = tf.Session()\n",
    "sess.run(tf.global_variables_initializer())\n",
    "\n",
    "for step in range(300000):\n",
    "    _, W_val, b_val, loss_val = sess.run([train, W, b, loss], feed_dict={X: x_data, T: t_data})\n",
    "    \n",
    "    if step % 30000 == 0:\n",
    "        print('W: {}, b: {}, loss: {}'.format(W_val, b_val, loss_val))"
   ]
  },
  {
   "cell_type": "code",
   "execution_count": 19,
   "metadata": {},
   "outputs": [
    {
     "name": "stdout",
     "output_type": "stream",
     "text": [
      "[[47.780815]]\n"
     ]
    },
    {
     "data": {
      "image/png": "[encoded data removed]",
      "text/plain": [
       "<Figure size 432x288 with 1 Axes>"
      ]
     },
     "metadata": {
      "needs_background": "light"
     },
     "output_type": "display_data"
    }
   ],
   "source": [
    "# 8. 예측\n",
    "result = sess.run(H, feed_dict={X: [[82]]})\n",
    "print(result) # [[47.780815]]\n",
    "\n",
    "# 9. sklearn과 비교\n",
    "plt.scatter(x_data, t_data)\n",
    "plt.plot(x_data, x_data*W_val + b_val, color='r') # tensorflow\n",
    "plt.plot(x_data, x_data*model.coef_.ravel() + model.intercept_, color='b') # sklearn\n",
    "plt.show()"
   ]
  },
  {
   "cell_type": "markdown",
   "metadata": {},
   "source": [
    "## Z-score\n",
    "### 1. 이상치 제거"
   ]
  },
  {
   "cell_type": "code",
   "execution_count": 66,
   "metadata": {},
   "outputs": [
    {
     "data": {
      "text/html": [
       "<div>\n",
       "<style scoped>\n",
       "    .dataframe tbody tr th:only-of-type {\n",
       "        vertical-align: middle;\n",
       "    }\n",
       "\n",
       "    .dataframe tbody tr th {\n",
       "        vertical-align: top;\n",
       "    }\n",
       "\n",
       "    .dataframe thead th {\n",
       "        text-align: right;\n",
       "    }\n",
       "</style>\n",
       "<table border=\"1\" class=\"dataframe\">\n",
       "  <thead>\n",
       "    <tr style=\"text-align: right;\">\n",
       "      <th></th>\n",
       "      <th>Temp</th>\n",
       "      <th>Ozone</th>\n",
       "    </tr>\n",
       "  </thead>\n",
       "  <tbody>\n",
       "    <tr>\n",
       "      <th>0</th>\n",
       "      <td>67</td>\n",
       "      <td>41.0</td>\n",
       "    </tr>\n",
       "    <tr>\n",
       "      <th>1</th>\n",
       "      <td>72</td>\n",
       "      <td>36.0</td>\n",
       "    </tr>\n",
       "    <tr>\n",
       "      <th>2</th>\n",
       "      <td>74</td>\n",
       "      <td>12.0</td>\n",
       "    </tr>\n",
       "    <tr>\n",
       "      <th>3</th>\n",
       "      <td>62</td>\n",
       "      <td>18.0</td>\n",
       "    </tr>\n",
       "    <tr>\n",
       "      <th>5</th>\n",
       "      <td>66</td>\n",
       "      <td>28.0</td>\n",
       "    </tr>\n",
       "    <tr>\n",
       "      <th>...</th>\n",
       "      <td>...</td>\n",
       "      <td>...</td>\n",
       "    </tr>\n",
       "    <tr>\n",
       "      <th>147</th>\n",
       "      <td>63</td>\n",
       "      <td>14.0</td>\n",
       "    </tr>\n",
       "    <tr>\n",
       "      <th>148</th>\n",
       "      <td>70</td>\n",
       "      <td>30.0</td>\n",
       "    </tr>\n",
       "    <tr>\n",
       "      <th>150</th>\n",
       "      <td>75</td>\n",
       "      <td>14.0</td>\n",
       "    </tr>\n",
       "    <tr>\n",
       "      <th>151</th>\n",
       "      <td>76</td>\n",
       "      <td>18.0</td>\n",
       "    </tr>\n",
       "    <tr>\n",
       "      <th>152</th>\n",
       "      <td>68</td>\n",
       "      <td>20.0</td>\n",
       "    </tr>\n",
       "  </tbody>\n",
       "</table>\n",
       "<p>116 rows × 2 columns</p>\n",
       "</div>"
      ],
      "text/plain": [
       "     Temp  Ozone\n",
       "0      67   41.0\n",
       "1      72   36.0\n",
       "2      74   12.0\n",
       "3      62   18.0\n",
       "5      66   28.0\n",
       "..    ...    ...\n",
       "147    63   14.0\n",
       "148    70   30.0\n",
       "150    75   14.0\n",
       "151    76   18.0\n",
       "152    68   20.0\n",
       "\n",
       "[116 rows x 2 columns]"
      ]
     },
     "metadata": {},
     "output_type": "display_data"
    },
    {
     "name": "stdout",
     "output_type": "stream",
     "text": [
      "[-0.03438262 -0.18661099 -0.91730719 -0.73463314 -0.43017639 -0.58240477\n",
      " -0.70418747 -1.0390899  -1.06953557 -0.79552449 -0.94775287 -0.85641584\n",
      " -0.73463314 -0.85641584 -0.24750234 -1.09998125 -0.36928504 -0.94775287\n",
      " -1.25220962 -0.94775287 -1.1608726  -0.30839369 -0.58240477  0.08740008\n",
      "  2.21859734 -0.15616532 -0.39973072  0.87898764 -0.09527397 -0.58240477\n",
      " -0.64329612 -0.15616532 -0.67374179 -0.91730719 -0.88686152  2.82751085\n",
      "  0.20918279 -0.30839369  0.66586791 -0.06482829  1.06166169  1.67057519\n",
      "  1.67057519  1.30522709 -0.97819854 -0.46062207 -1.06953557  0.17873711\n",
      " -0.21705667  0.57453089  1.12255304  0.63542224 -0.79552449  1.15299871\n",
      "  2.00547762 -0.67374179  0.30051981  1.21389006  0.23962846  0.66586791\n",
      "  0.51363954 -0.09527397 -1.00864422 -0.79552449  1.09210736 -0.21705667\n",
      "  0.72675926  2.43171707  1.42700979  2.06636897  0.05695441 -0.43017639\n",
      "  0.69631359 -0.61285044  0.51363954 -0.58240477 -0.33883937  0.05695441\n",
      " -0.64329612 -1.00864422  0.08740008  3.83221813  0.93987899  1.03121601\n",
      "  2.30993437  1.27478141  1.30522709  1.64012952  1.09210736  0.93987899\n",
      "  1.48790114  0.14829143 -0.30839369 -0.67374179 -0.58240477 -0.64329612\n",
      " -0.55195909  0.05695441 -0.64329612 -0.43017639 -1.00864422 -0.88686152\n",
      "  0.11784576 -0.73463314 -0.88686152 -0.55195909 -0.79552449 -0.88686152\n",
      " -0.58240477 -0.18661099 -1.06953557 -0.85641584 -0.36928504 -0.85641584\n",
      " -0.73463314 -0.67374179]\n",
      "[0.03438262 0.18661099 0.91730719 0.73463314 0.43017639 0.58240477\n",
      " 0.70418747 1.0390899  1.06953557 0.79552449 0.94775287 0.85641584\n",
      " 0.73463314 0.85641584 0.24750234 1.09998125 0.36928504 0.94775287\n",
      " 1.25220962 0.94775287 1.1608726  0.30839369 0.58240477 0.08740008\n",
      " 2.21859734 0.15616532 0.39973072 0.87898764 0.09527397 0.58240477\n",
      " 0.64329612 0.15616532 0.67374179 0.91730719 0.88686152 2.82751085\n",
      " 0.20918279 0.30839369 0.66586791 0.06482829 1.06166169 1.67057519\n",
      " 1.67057519 1.30522709 0.97819854 0.46062207 1.06953557 0.17873711\n",
      " 0.21705667 0.57453089 1.12255304 0.63542224 0.79552449 1.15299871\n",
      " 2.00547762 0.67374179 0.30051981 1.21389006 0.23962846 0.66586791\n",
      " 0.51363954 0.09527397 1.00864422 0.79552449 1.09210736 0.21705667\n",
      " 0.72675926 2.43171707 1.42700979 2.06636897 0.05695441 0.43017639\n",
      " 0.69631359 0.61285044 0.51363954 0.58240477 0.33883937 0.05695441\n",
      " 0.64329612 1.00864422 0.08740008 3.83221813 0.93987899 1.03121601\n",
      " 2.30993437 1.27478141 1.30522709 1.64012952 1.09210736 0.93987899\n",
      " 1.48790114 0.14829143 0.30839369 0.67374179 0.58240477 0.64329612\n",
      " 0.55195909 0.05695441 0.64329612 0.43017639 1.00864422 0.88686152\n",
      " 0.11784576 0.73463314 0.88686152 0.55195909 0.79552449 0.88686152\n",
      " 0.58240477 0.18661099 1.06953557 0.85641584 0.36928504 0.85641584\n",
      " 0.73463314 0.67374179]\n",
      "29     115.0\n",
      "61     135.0\n",
      "85     108.0\n",
      "98     122.0\n",
      "100    110.0\n",
      "116    168.0\n",
      "120    118.0\n",
      "Name: Ozone, dtype: float64\n"
     ]
    },
    {
     "data": {
      "text/html": [
       "<div>\n",
       "<style scoped>\n",
       "    .dataframe tbody tr th:only-of-type {\n",
       "        vertical-align: middle;\n",
       "    }\n",
       "\n",
       "    .dataframe tbody tr th {\n",
       "        vertical-align: top;\n",
       "    }\n",
       "\n",
       "    .dataframe thead th {\n",
       "        text-align: right;\n",
       "    }\n",
       "</style>\n",
       "<table border=\"1\" class=\"dataframe\">\n",
       "  <thead>\n",
       "    <tr style=\"text-align: right;\">\n",
       "      <th></th>\n",
       "      <th>Temp</th>\n",
       "      <th>Ozone</th>\n",
       "    </tr>\n",
       "  </thead>\n",
       "  <tbody>\n",
       "    <tr>\n",
       "      <th>0</th>\n",
       "      <td>67</td>\n",
       "      <td>41.0</td>\n",
       "    </tr>\n",
       "    <tr>\n",
       "      <th>1</th>\n",
       "      <td>72</td>\n",
       "      <td>36.0</td>\n",
       "    </tr>\n",
       "    <tr>\n",
       "      <th>2</th>\n",
       "      <td>74</td>\n",
       "      <td>12.0</td>\n",
       "    </tr>\n",
       "    <tr>\n",
       "      <th>3</th>\n",
       "      <td>62</td>\n",
       "      <td>18.0</td>\n",
       "    </tr>\n",
       "    <tr>\n",
       "      <th>5</th>\n",
       "      <td>66</td>\n",
       "      <td>28.0</td>\n",
       "    </tr>\n",
       "    <tr>\n",
       "      <th>...</th>\n",
       "      <td>...</td>\n",
       "      <td>...</td>\n",
       "    </tr>\n",
       "    <tr>\n",
       "      <th>147</th>\n",
       "      <td>63</td>\n",
       "      <td>14.0</td>\n",
       "    </tr>\n",
       "    <tr>\n",
       "      <th>148</th>\n",
       "      <td>70</td>\n",
       "      <td>30.0</td>\n",
       "    </tr>\n",
       "    <tr>\n",
       "      <th>150</th>\n",
       "      <td>75</td>\n",
       "      <td>14.0</td>\n",
       "    </tr>\n",
       "    <tr>\n",
       "      <th>151</th>\n",
       "      <td>76</td>\n",
       "      <td>18.0</td>\n",
       "    </tr>\n",
       "    <tr>\n",
       "      <th>152</th>\n",
       "      <td>68</td>\n",
       "      <td>20.0</td>\n",
       "    </tr>\n",
       "  </tbody>\n",
       "</table>\n",
       "<p>109 rows × 2 columns</p>\n",
       "</div>"
      ],
      "text/plain": [
       "     Temp  Ozone\n",
       "0      67   41.0\n",
       "1      72   36.0\n",
       "2      74   12.0\n",
       "3      62   18.0\n",
       "5      66   28.0\n",
       "..    ...    ...\n",
       "147    63   14.0\n",
       "148    70   30.0\n",
       "150    75   14.0\n",
       "151    76   18.0\n",
       "152    68   20.0\n",
       "\n",
       "[109 rows x 2 columns]"
      ]
     },
     "metadata": {},
     "output_type": "display_data"
    }
   ],
   "source": [
    "from scipy import stats\n",
    "\n",
    "# 결측치 제거\n",
    "data = pd.read_csv('data/ozone.csv')\n",
    "data = data[['Temp', 'Ozone']]\n",
    "data = data.dropna(how='any') \n",
    "display(data)\n",
    "\n",
    "# zscore 변환\n",
    "zscore_threshold = 1.8\n",
    "zscore_data = stats.zscore(data['Ozone'])\n",
    "print(zscore_data)\n",
    "\n",
    "# 이상치 확인\n",
    "zscore_abs = np.abs(zscore_data)\n",
    "print(zscore_abs)\n",
    "outlier = data['Ozone'][zscore_abs > zscore_threshold]\n",
    "print(outlier)\n",
    "\n",
    "# 이상치 제거\n",
    "result = data[np.isin(data['Ozone'], outlier, invert=True)]\n",
    "display(result)"
   ]
  },
  {
   "cell_type": "markdown",
   "metadata": {},
   "source": [
    "### 2. Tensorflow "
   ]
  },
  {
   "cell_type": "code",
   "execution_count": 69,
   "metadata": {},
   "outputs": [
    {
     "name": "stdout",
     "output_type": "stream",
     "text": [
      "W: [[0.885414]], b: [[2.1673093]], loss: 23051.962890625\n",
      "W: [[0.6091627]], b: [[-8.603151]], loss: 461.25897216796875\n",
      "W: [[0.7347729]], b: [[-18.463224]], loss: 428.8251037597656\n",
      "W: [[0.8498253]], b: [[-27.494535]], loss: 401.61456298828125\n",
      "W: [[0.9552083]], b: [[-35.766827]], loss: 378.7860412597656\n",
      "W: [[1.0517409]], b: [[-43.34438]], loss: 359.6326904296875\n",
      "W: [[1.1401317]], b: [[-50.28283]], loss: 343.5689392089844\n",
      "W: [[1.221109]], b: [[-56.63933]], loss: 330.0894470214844\n",
      "W: [[1.2952914]], b: [[-62.46246]], loss: 318.77911376953125\n",
      "W: [[1.3632513]], b: [[-67.797134]], loss: 309.2887268066406\n"
     ]
    }
   ],
   "source": [
    "import tensorflow as tf\n",
    "\n",
    "# 1. training data set\n",
    "x_data = result['Temp'].values.reshape(-1, 1)\n",
    "t_data = result['Ozone'].values.reshape(-1, 1)\n",
    "\n",
    "# 2. X, T\n",
    "X = tf.placeholder(shape=[None, 1], dtype=tf.float32)\n",
    "T = tf.placeholder(shape=[None, 1], dtype=tf.float32)\n",
    "\n",
    "# 3. W, b\n",
    "W = tf.Variable(tf.random.normal([1, 1]), name='weight')\n",
    "b = tf.Variable(tf.random.normal([1, 1]), name='bias')\n",
    "\n",
    "# 4. model\n",
    "H = tf.matmul(X, W) + b\n",
    "\n",
    "# 5. loss function\n",
    "loss = tf.reduce_mean(tf.square(H - T))\n",
    "\n",
    "# 6. gradient descent algorithm\n",
    "train = tf.train.GradientDescentOptimizer(learning_rate=1e-4).minimize(loss)\n",
    "\n",
    "# 7. learning\n",
    "sess = tf.Session()\n",
    "sess.run(tf.global_variables_initializer())\n",
    "\n",
    "for step in range(300000):\n",
    "    _, W_val, b_val, loss_val = sess.run([train, W, b, loss], feed_dict={X: x_data, T: t_data})\n",
    "    if step % 30000 == 0:\n",
    "        print('W: {}, b: {}, loss: {}'.format(W_val, b_val, loss_val))"
   ]
  },
  {
   "cell_type": "code",
   "execution_count": 70,
   "metadata": {},
   "outputs": [
    {
     "name": "stdout",
     "output_type": "stream",
     "text": [
      "[[44.207626]]\n"
     ]
    },
    {
     "data": {
      "image/png": "[encoded data removed]",
      "text/plain": [
       "<Figure size 432x288 with 1 Axes>"
      ]
     },
     "metadata": {
      "needs_background": "light"
     },
     "output_type": "display_data"
    }
   ],
   "source": [
    "# 8. 예측\n",
    "result = sess.run(H, feed_dict={X: [[82]]})\n",
    "print(result) # [[44.207626]]\n",
    "\n",
    "# 9. sklearn과 비교\n",
    "plt.scatter(x_data, t_data)\n",
    "plt.plot(x_data, x_data*W_val + b_val, color='r') # tensorflow\n",
    "plt.plot(x_data, x_data*model.coef_.ravel() + model.intercept_, color='b') # sklearn\n",
    "plt.show()"
   ]
  }
 ],
 "metadata": {
  "kernelspec": {
   "display_name": "Python [conda env:data_env] *",
   "language": "python",
   "name": "conda-env-data_env-py"
  },
  "language_info": {
   "codemirror_mode": {
    "name": "ipython",
    "version": 3
   },
   "file_extension": ".py",
   "mimetype": "text/x-python",
   "name": "python",
   "nbconvert_exporter": "python",
   "pygments_lexer": "ipython3",
   "version": "3.7.9"
  }
 },
 "nbformat": 4,
 "nbformat_minor": 4
}
