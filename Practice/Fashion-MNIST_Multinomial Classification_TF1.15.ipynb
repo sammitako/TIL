{
 "cells": [
  {
   "cell_type": "markdown",
   "metadata": {},
   "source": [
    "# Fashion-MNIST"
   ]
  },
  {
   "cell_type": "code",
   "execution_count": 2,
   "metadata": {},
   "outputs": [],
   "source": [
    "import numpy as np \n",
    "import pandas as pd\n",
    "import tensorflow as tf\n",
    "import matplotlib.pyplot as plt\n",
    "\n",
    "from sklearn.preprocessing import MinMaxScaler\n",
    "from sklearn.model_selection import train_test_split\n",
    "from sklearn.model_selection import KFold\n",
    "from sklearn.metrics import classification_report"
   ]
  },
  {
   "cell_type": "markdown",
   "metadata": {},
   "source": [
    "## Data preprocessing"
   ]
  },
  {
   "cell_type": "code",
   "execution_count": 3,
   "metadata": {},
   "outputs": [
    {
     "data": {
      "text/html": [
       "<div>\n",
       "<style scoped>\n",
       "    .dataframe tbody tr th:only-of-type {\n",
       "        vertical-align: middle;\n",
       "    }\n",
       "\n",
       "    .dataframe tbody tr th {\n",
       "        vertical-align: top;\n",
       "    }\n",
       "\n",
       "    .dataframe thead th {\n",
       "        text-align: right;\n",
       "    }\n",
       "</style>\n",
       "<table border=\"1\" class=\"dataframe\">\n",
       "  <thead>\n",
       "    <tr style=\"text-align: right;\">\n",
       "      <th></th>\n",
       "      <th>label</th>\n",
       "      <th>pixel1</th>\n",
       "      <th>pixel2</th>\n",
       "      <th>pixel3</th>\n",
       "      <th>pixel4</th>\n",
       "      <th>pixel5</th>\n",
       "      <th>pixel6</th>\n",
       "      <th>pixel7</th>\n",
       "      <th>pixel8</th>\n",
       "      <th>pixel9</th>\n",
       "      <th>...</th>\n",
       "      <th>pixel775</th>\n",
       "      <th>pixel776</th>\n",
       "      <th>pixel777</th>\n",
       "      <th>pixel778</th>\n",
       "      <th>pixel779</th>\n",
       "      <th>pixel780</th>\n",
       "      <th>pixel781</th>\n",
       "      <th>pixel782</th>\n",
       "      <th>pixel783</th>\n",
       "      <th>pixel784</th>\n",
       "    </tr>\n",
       "  </thead>\n",
       "  <tbody>\n",
       "    <tr>\n",
       "      <th>0</th>\n",
       "      <td>2</td>\n",
       "      <td>0</td>\n",
       "      <td>0</td>\n",
       "      <td>0</td>\n",
       "      <td>0</td>\n",
       "      <td>0</td>\n",
       "      <td>0</td>\n",
       "      <td>0</td>\n",
       "      <td>0</td>\n",
       "      <td>0</td>\n",
       "      <td>...</td>\n",
       "      <td>0</td>\n",
       "      <td>0</td>\n",
       "      <td>0</td>\n",
       "      <td>0</td>\n",
       "      <td>0</td>\n",
       "      <td>0</td>\n",
       "      <td>0</td>\n",
       "      <td>0</td>\n",
       "      <td>0</td>\n",
       "      <td>0</td>\n",
       "    </tr>\n",
       "    <tr>\n",
       "      <th>1</th>\n",
       "      <td>9</td>\n",
       "      <td>0</td>\n",
       "      <td>0</td>\n",
       "      <td>0</td>\n",
       "      <td>0</td>\n",
       "      <td>0</td>\n",
       "      <td>0</td>\n",
       "      <td>0</td>\n",
       "      <td>0</td>\n",
       "      <td>0</td>\n",
       "      <td>...</td>\n",
       "      <td>0</td>\n",
       "      <td>0</td>\n",
       "      <td>0</td>\n",
       "      <td>0</td>\n",
       "      <td>0</td>\n",
       "      <td>0</td>\n",
       "      <td>0</td>\n",
       "      <td>0</td>\n",
       "      <td>0</td>\n",
       "      <td>0</td>\n",
       "    </tr>\n",
       "    <tr>\n",
       "      <th>2</th>\n",
       "      <td>6</td>\n",
       "      <td>0</td>\n",
       "      <td>0</td>\n",
       "      <td>0</td>\n",
       "      <td>0</td>\n",
       "      <td>0</td>\n",
       "      <td>0</td>\n",
       "      <td>0</td>\n",
       "      <td>5</td>\n",
       "      <td>0</td>\n",
       "      <td>...</td>\n",
       "      <td>0</td>\n",
       "      <td>0</td>\n",
       "      <td>0</td>\n",
       "      <td>30</td>\n",
       "      <td>43</td>\n",
       "      <td>0</td>\n",
       "      <td>0</td>\n",
       "      <td>0</td>\n",
       "      <td>0</td>\n",
       "      <td>0</td>\n",
       "    </tr>\n",
       "    <tr>\n",
       "      <th>3</th>\n",
       "      <td>0</td>\n",
       "      <td>0</td>\n",
       "      <td>0</td>\n",
       "      <td>0</td>\n",
       "      <td>1</td>\n",
       "      <td>2</td>\n",
       "      <td>0</td>\n",
       "      <td>0</td>\n",
       "      <td>0</td>\n",
       "      <td>0</td>\n",
       "      <td>...</td>\n",
       "      <td>3</td>\n",
       "      <td>0</td>\n",
       "      <td>0</td>\n",
       "      <td>0</td>\n",
       "      <td>0</td>\n",
       "      <td>1</td>\n",
       "      <td>0</td>\n",
       "      <td>0</td>\n",
       "      <td>0</td>\n",
       "      <td>0</td>\n",
       "    </tr>\n",
       "    <tr>\n",
       "      <th>4</th>\n",
       "      <td>3</td>\n",
       "      <td>0</td>\n",
       "      <td>0</td>\n",
       "      <td>0</td>\n",
       "      <td>0</td>\n",
       "      <td>0</td>\n",
       "      <td>0</td>\n",
       "      <td>0</td>\n",
       "      <td>0</td>\n",
       "      <td>0</td>\n",
       "      <td>...</td>\n",
       "      <td>0</td>\n",
       "      <td>0</td>\n",
       "      <td>0</td>\n",
       "      <td>0</td>\n",
       "      <td>0</td>\n",
       "      <td>0</td>\n",
       "      <td>0</td>\n",
       "      <td>0</td>\n",
       "      <td>0</td>\n",
       "      <td>0</td>\n",
       "    </tr>\n",
       "  </tbody>\n",
       "</table>\n",
       "<p>5 rows × 785 columns</p>\n",
       "</div>"
      ],
      "text/plain": [
       "   label  pixel1  pixel2  pixel3  pixel4  pixel5  pixel6  pixel7  pixel8  \\\n",
       "0      2       0       0       0       0       0       0       0       0   \n",
       "1      9       0       0       0       0       0       0       0       0   \n",
       "2      6       0       0       0       0       0       0       0       5   \n",
       "3      0       0       0       0       1       2       0       0       0   \n",
       "4      3       0       0       0       0       0       0       0       0   \n",
       "\n",
       "   pixel9  ...  pixel775  pixel776  pixel777  pixel778  pixel779  pixel780  \\\n",
       "0       0  ...         0         0         0         0         0         0   \n",
       "1       0  ...         0         0         0         0         0         0   \n",
       "2       0  ...         0         0         0        30        43         0   \n",
       "3       0  ...         3         0         0         0         0         1   \n",
       "4       0  ...         0         0         0         0         0         0   \n",
       "\n",
       "   pixel781  pixel782  pixel783  pixel784  \n",
       "0         0         0         0         0  \n",
       "1         0         0         0         0  \n",
       "2         0         0         0         0  \n",
       "3         0         0         0         0  \n",
       "4         0         0         0         0  \n",
       "\n",
       "[5 rows x 785 columns]"
      ]
     },
     "metadata": {},
     "output_type": "display_data"
    },
    {
     "data": {
      "text/plain": [
       "(60000, 785)"
      ]
     },
     "metadata": {},
     "output_type": "display_data"
    },
    {
     "data": {
      "image/png": "[encoded data removed]",
      "text/plain": [
       "<Figure size 432x288 with 10 Axes>"
      ]
     },
     "metadata": {
      "needs_background": "light"
     },
     "output_type": "display_data"
    }
   ],
   "source": [
    "# 1. Raw Data Loading\n",
    "df = pd.read_csv('fashion-mnist/fashion-mnist_train.csv')\n",
    "display(df.head(), df.shape) # (60000, 785)\n",
    "\n",
    "# 2. 결측치, 이상치 없음\n",
    "\n",
    "# 3. 이미지 데이터(픽셀 정보) 확인\n",
    "img_data = df.drop('label', axis=1, inplace=False).values # 2차원 ndarray\n",
    "\n",
    "fig = plt.figure()\n",
    "fig_arr = list()\n",
    "for n in range(10):\n",
    "    fig_arr.append(fig.add_subplot(2,5,n+1))\n",
    "    fig_arr[n].imshow(img_data[n].reshape(28,28), cmap='gray') # 행 픽셀 정보(2차원 ndarray) + cmap\n",
    "plt.tight_layout()\n",
    "plt.show()\n",
    "\n",
    "# 4. data split (7:3)\n",
    "x_data_train, x_data_test, t_data_train, t_data_test = \\\n",
    "train_test_split(df.drop('label', axis=1, inplace=False), df['label'],\n",
    "                 test_size=0.3, random_state=0)\n",
    "\n",
    "# 5. 정규화 처리 (x_data)\n",
    "scaler = MinMaxScaler()\n",
    "scaler.fit(x_data_train)\n",
    "x_data_train_norm = scaler.transform(x_data_train)\n",
    "\n",
    "scaler.fit(x_data_test)\n",
    "x_data_test_norm = scaler.transform(x_data_test)\n",
    "\n",
    "# 6. One-hot Encoding (t_data)\n",
    "sess = tf.Session()\n",
    "t_data_train_onehot = sess.run(tf.one_hot(t_data_train, depth=10))\n",
    "t_data_test_onehot = sess.run(tf.one_hot(t_data_test, depth=10))"
   ]
  },
  {
   "cell_type": "markdown",
   "metadata": {},
   "source": [
    "## Multinomial Classification_TF1.15 (85%)"
   ]
  },
  {
   "cell_type": "markdown",
   "metadata": {},
   "source": [
    "### Tensorflow Graph"
   ]
  },
  {
   "cell_type": "code",
   "execution_count": 4,
   "metadata": {},
   "outputs": [
    {
     "name": "stdout",
     "output_type": "stream",
     "text": [
      "WARNING:tensorflow:\n",
      "The TensorFlow contrib module will not be included in TensorFlow 2.0.\n",
      "For more information, please see:\n",
      "  * https://github.com/tensorflow/community/blob/master/rfcs/20180907-contrib-sunset.md\n",
      "  * https://github.com/tensorflow/addons\n",
      "  * https://github.com/tensorflow/io (for I/O related ops)\n",
      "If you depend on functionality not listed there, please file an issue.\n",
      "\n"
     ]
    }
   ],
   "source": [
    "# Placeholder\n",
    "X = tf.placeholder(shape=[None,784], dtype=tf.float32)\n",
    "T = tf.placeholder(shape=[None,10], dtype=tf.float32)\n",
    "\n",
    "# Weight, bias\n",
    "# He's initialization\n",
    "W = tf.get_variable('weight', shape=[784,10],\n",
    "                    initializer=tf.contrib.layers.variance_scaling_initializer())\n",
    "b = tf.Variable(tf.random.normal([10]))\n",
    "\n",
    "# Hypothesis\n",
    "logit = tf.matmul(X,W) + b\n",
    "H = tf.nn.softmax(logit)\n",
    "\n",
    "# Loss function\n",
    "loss = tf.reduce_mean(tf.nn.softmax_cross_entropy_with_logits_v2(logits=logit, labels=T))\n",
    "\n",
    "# Gradient descent algorithm\n",
    "train = tf.train.GradientDescentOptimizer(learning_rate=0.1).minimize(loss)"
   ]
  },
  {
   "cell_type": "markdown",
   "metadata": {},
   "source": [
    "### Learning"
   ]
  },
  {
   "cell_type": "code",
   "execution_count": 5,
   "metadata": {},
   "outputs": [],
   "source": [
    "# Batch\n",
    "num_of_epoch = 1000\n",
    "batch_size = 512\n",
    "\n",
    "# Learning\n",
    "def run_train(sess, train_x, train_t): # x_data_train_norm, t_data_train_onehot\n",
    "    print('=====START LEARNING=====')\n",
    "    \n",
    "    # 초기화\n",
    "    sess.run(tf.global_variables_initializer())\n",
    "    \n",
    "    # 반복학습\n",
    "    for step in range(num_of_epoch):\n",
    "        total_batch = int(train_x.shape[0] / batch_size)\n",
    "        \n",
    "        for i in range(total_batch):\n",
    "            batch_x = train_x[i*batch_size:(i+1)*batch_size] \n",
    "            batch_t = train_t[i*batch_size:(i+1)*batch_size]\n",
    "            _, loss_val = sess.run([train, loss], feed_dict={X: batch_x, T: batch_t})\n",
    "        ## 여기까지 1 epoch\n",
    "            \n",
    "        if step % 100 == 0:\n",
    "            print('Loss: {}'.format(loss_val))\n",
    "    \n",
    "    print('=====FINISH LEARNING=====')"
   ]
  },
  {
   "cell_type": "markdown",
   "metadata": {},
   "source": [
    "### Accuracy"
   ]
  },
  {
   "cell_type": "code",
   "execution_count": 6,
   "metadata": {},
   "outputs": [],
   "source": [
    "# Accuracy\n",
    "predict = tf.argmax(H, 1) \n",
    "correct = tf.equal(predict, tf.argmax(T, 1)) \n",
    "accuracy = tf.reduce_mean(tf.cast(correct, dtype=tf.float32)) "
   ]
  },
  {
   "cell_type": "markdown",
   "metadata": {},
   "source": [
    "### Validation"
   ]
  },
  {
   "cell_type": "code",
   "execution_count": 7,
   "metadata": {},
   "outputs": [
    {
     "name": "stdout",
     "output_type": "stream",
     "text": [
      "=====START LEARNING=====\n",
      "Loss: 0.7784887552261353\n",
      "Loss: 0.3712570071220398\n",
      "Loss: 0.3552640676498413\n",
      "Loss: 0.34664300084114075\n",
      "Loss: 0.3405899703502655\n",
      "Loss: 0.3358854055404663\n",
      "Loss: 0.33202889561653137\n",
      "Loss: 0.3287571668624878\n",
      "Loss: 0.3259124159812927\n",
      "Loss: 0.3233928084373474\n",
      "=====FINISH LEARNING=====\n",
      "=====START LEARNING=====\n",
      "Loss: 0.8058885335922241\n",
      "Loss: 0.3815992772579193\n",
      "Loss: 0.36319252848625183\n",
      "Loss: 0.35308563709259033\n",
      "Loss: 0.3462251126766205\n",
      "Loss: 0.3411380648612976\n",
      "Loss: 0.33716273307800293\n",
      "Loss: 0.33393678069114685\n",
      "Loss: 0.3312377333641052\n",
      "Loss: 0.32892054319381714\n",
      "=====FINISH LEARNING=====\n",
      "=====START LEARNING=====\n",
      "Loss: 0.7915610074996948\n",
      "Loss: 0.35549867153167725\n",
      "Loss: 0.33923637866973877\n",
      "Loss: 0.33153021335601807\n",
      "Loss: 0.3266356885433197\n",
      "Loss: 0.3231043219566345\n",
      "Loss: 0.3203621208667755\n",
      "Loss: 0.3181267976760864\n",
      "Loss: 0.3162408471107483\n",
      "Loss: 0.3146085739135742\n",
      "=====FINISH LEARNING=====\n",
      "=====START LEARNING=====\n",
      "Loss: 0.757597804069519\n",
      "Loss: 0.39011913537979126\n",
      "Loss: 0.3727481961250305\n",
      "Loss: 0.3634287118911743\n",
      "Loss: 0.3569055199623108\n",
      "Loss: 0.35184645652770996\n",
      "Loss: 0.3477059304714203\n",
      "Loss: 0.34420308470726013\n",
      "Loss: 0.3411705493927002\n",
      "Loss: 0.3384988307952881\n",
      "=====FINISH LEARNING=====\n",
      "=====START LEARNING=====\n",
      "Loss: 0.8023393154144287\n",
      "Loss: 0.4057163894176483\n",
      "Loss: 0.3881819546222687\n",
      "Loss: 0.37849920988082886\n",
      "Loss: 0.3717542886734009\n",
      "Loss: 0.3666507601737976\n",
      "Loss: 0.3625938296318054\n",
      "Loss: 0.3592489957809448\n",
      "Loss: 0.3564123809337616\n",
      "Loss: 0.35395336151123047\n",
      "=====FINISH LEARNING=====\n",
      "측정한 각 Fold의 정확도: [0.85464287, 0.8534524, 0.85071427, 0.84833336, 0.85130954]\n",
      "K-Fold Validation을 통한 우리 모델의 최종 Accuracy: 0.8516904711723328\n"
     ]
    }
   ],
   "source": [
    "# K-fold Cross Validation\n",
    "cv = 5      \n",
    "results = [] \n",
    "\n",
    "kf = KFold(n_splits=cv, shuffle=True) \n",
    "\n",
    "for training_idx, validation_idx in kf.split(x_data_train_norm): \n",
    "    \n",
    "    training_x = x_data_train_norm[training_idx] \n",
    "    training_t = t_data_train_onehot[training_idx]\n",
    "    \n",
    "    validation_x = x_data_train_norm[validation_idx]\n",
    "    validation_t = t_data_train_onehot[validation_idx]\n",
    "    \n",
    "    # 1. training data로 learning\n",
    "    run_train(sess, training_x, training_t)\n",
    "    \n",
    "    # 2. testing data로 validation: #1에서 만든 학습모델에 대한 정확도(성능평가) 측정\n",
    "    results.append(sess.run(accuracy, feed_dict={X:validation_x, T: validation_t}))\n",
    "    \n",
    "print('측정한 각 Fold의 정확도: {}'.format(results))\n",
    "\n",
    "final_acc = np.mean(results)\n",
    "print('K-Fold Validation을 통한 우리 모델의 최종 Accuracy: {}'.format(final_acc))"
   ]
  },
  {
   "cell_type": "markdown",
   "metadata": {},
   "source": [
    "### Evaluation"
   ]
  },
  {
   "cell_type": "code",
   "execution_count": 8,
   "metadata": {},
   "outputs": [
    {
     "name": "stdout",
     "output_type": "stream",
     "text": [
      "=====START LEARNING=====\n",
      "Loss: 0.9176501631736755\n",
      "Loss: 0.409595251083374\n",
      "Loss: 0.3898887038230896\n",
      "Loss: 0.3793260455131531\n",
      "Loss: 0.3721388280391693\n",
      "Loss: 0.36678728461265564\n",
      "Loss: 0.3625825345516205\n",
      "Loss: 0.3591462969779968\n",
      "Loss: 0.3562515676021576\n",
      "Loss: 0.3537551164627075\n",
      "=====FINISH LEARNING=====\n",
      "우리 모델의 최종 정확도: 0.8531666398048401\n",
      "\n",
      "\n",
      "              precision    recall  f1-score   support\n",
      "\n",
      "           0       0.79      0.83      0.81      1799\n",
      "           1       0.98      0.97      0.97      1843\n",
      "           2       0.71      0.81      0.76      1808\n",
      "           3       0.85      0.88      0.87      1849\n",
      "           4       0.76      0.75      0.75      1765\n",
      "           5       0.94      0.93      0.93      1786\n",
      "           6       0.67      0.55      0.60      1787\n",
      "           7       0.92      0.93      0.92      1789\n",
      "           8       0.95      0.94      0.95      1795\n",
      "           9       0.95      0.94      0.95      1779\n",
      "\n",
      "    accuracy                           0.85     18000\n",
      "   macro avg       0.85      0.85      0.85     18000\n",
      "weighted avg       0.85      0.85      0.85     18000\n",
      "\n"
     ]
    }
   ],
   "source": [
    "run_train(sess, training_x, training_t)\n",
    "final_accuracy = sess.run(accuracy, feed_dict={X: x_data_test_norm, T: t_data_test_onehot})\n",
    "print('우리 모델의 최종 정확도: {}'.format(final_accuracy))\n",
    "print('\\n')\n",
    "\n",
    "# classification_report\n",
    "predict_data = sess.run(predict, feed_dict={X: x_data_test_norm, T: t_data_test_onehot})\n",
    "final_testing = classification_report(t_data_test, predict_data)\n",
    "print(final_testing)"
   ]
  },
  {
   "cell_type": "markdown",
   "metadata": {},
   "source": [
    "### Testing"
   ]
  },
  {
   "cell_type": "code",
   "execution_count": 9,
   "metadata": {
    "scrolled": true
   },
   "outputs": [
    {
     "name": "stdout",
     "output_type": "stream",
     "text": [
      "              precision    recall  f1-score   support\n",
      "\n",
      "           0       0.78      0.82      0.80      1000\n",
      "           1       0.97      0.98      0.97      1000\n",
      "           2       0.73      0.80      0.77      1000\n",
      "           3       0.86      0.88      0.87      1000\n",
      "           4       0.78      0.78      0.78      1000\n",
      "           5       0.93      0.92      0.92      1000\n",
      "           6       0.68      0.56      0.61      1000\n",
      "           7       0.91      0.92      0.91      1000\n",
      "           8       0.95      0.94      0.94      1000\n",
      "           9       0.93      0.94      0.94      1000\n",
      "\n",
      "    accuracy                           0.85     10000\n",
      "   macro avg       0.85      0.85      0.85     10000\n",
      "weighted avg       0.85      0.85      0.85     10000\n",
      "\n"
     ]
    }
   ],
   "source": [
    "test_raw_df = pd.read_csv('fashion-mnist/fashion-mnist_test.csv')\n",
    "x_test = test_raw_df.drop('label', axis=1, inplace=False)\n",
    "t_test = test_raw_df['label']\n",
    "\n",
    "# normalization\n",
    "x_test_norm = scaler.transform(x_test)\n",
    "\n",
    "# prediction\n",
    "test_result = sess.run(predict, feed_dict={X: x_test_norm})\n",
    "\n",
    "# classification_report\n",
    "final_result = classification_report(t_test, test_result)\n",
    "print(final_result)"
   ]
  }
 ],
 "metadata": {
  "kernelspec": {
   "display_name": "Python [conda env:data_env] *",
   "language": "python",
   "name": "conda-env-data_env-py"
  },
  "language_info": {
   "codemirror_mode": {
    "name": "ipython",
    "version": 3
   },
   "file_extension": ".py",
   "mimetype": "text/x-python",
   "name": "python",
   "nbconvert_exporter": "python",
   "pygments_lexer": "ipython3",
   "version": "3.7.9"
  }
 },
 "nbformat": 4,
 "nbformat_minor": 4
}
